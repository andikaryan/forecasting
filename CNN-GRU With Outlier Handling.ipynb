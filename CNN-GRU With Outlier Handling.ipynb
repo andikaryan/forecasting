{
 "cells": [
  {
   "cell_type": "markdown",
   "metadata": {
    "id": "4PJ5S7nbYBi_"
   },
   "source": [
    "# Import Module & dataset"
   ]
  },
  {
   "cell_type": "code",
   "execution_count": 1,
   "metadata": {},
   "outputs": [
    {
     "name": "stdout",
     "output_type": "stream",
     "text": [
      "Requirement already satisfied: pip in c:\\users\\asus\\appdata\\local\\programs\\python\\python310\\lib\\site-packages (24.3.1)\n",
      "Note: you may need to restart the kernel to use updated packages.\n"
     ]
    }
   ],
   "source": [
    "%pip install --upgrade pip"
   ]
  },
  {
   "cell_type": "code",
   "execution_count": 3,
   "metadata": {
    "colab": {
     "base_uri": "https://localhost:8080/"
    },
    "executionInfo": {
     "elapsed": 16211,
     "status": "ok",
     "timestamp": 1731970043563,
     "user": {
      "displayName": "Andika Ryan N",
      "userId": "01511396785984303975"
     },
     "user_tz": -420
    },
    "id": "sl09h818YAyt",
    "outputId": "50ba7672-b76a-4c53-cd96-d786a0127f38"
   },
   "outputs": [
    {
     "name": "stdout",
     "output_type": "stream",
     "text": [
      "Requirement already satisfied: tensorflow in c:\\users\\asus\\appdata\\local\\programs\\python\\python310\\lib\\site-packages (2.18.0)\n",
      "Requirement already satisfied: tensorflow-intel==2.18.0 in c:\\users\\asus\\appdata\\local\\programs\\python\\python310\\lib\\site-packages (from tensorflow) (2.18.0)\n",
      "Requirement already satisfied: absl-py>=1.0.0 in c:\\users\\asus\\appdata\\local\\programs\\python\\python310\\lib\\site-packages (from tensorflow-intel==2.18.0->tensorflow) (2.1.0)\n",
      "Requirement already satisfied: astunparse>=1.6.0 in c:\\users\\asus\\appdata\\local\\programs\\python\\python310\\lib\\site-packages (from tensorflow-intel==2.18.0->tensorflow) (1.6.3)\n",
      "Requirement already satisfied: flatbuffers>=24.3.25 in c:\\users\\asus\\appdata\\local\\programs\\python\\python310\\lib\\site-packages (from tensorflow-intel==2.18.0->tensorflow) (24.3.25)\n",
      "Requirement already satisfied: gast!=0.5.0,!=0.5.1,!=0.5.2,>=0.2.1 in c:\\users\\asus\\appdata\\local\\programs\\python\\python310\\lib\\site-packages (from tensorflow-intel==2.18.0->tensorflow) (0.6.0)\n",
      "Requirement already satisfied: google-pasta>=0.1.1 in c:\\users\\asus\\appdata\\local\\programs\\python\\python310\\lib\\site-packages (from tensorflow-intel==2.18.0->tensorflow) (0.2.0)\n",
      "Requirement already satisfied: libclang>=13.0.0 in c:\\users\\asus\\appdata\\local\\programs\\python\\python310\\lib\\site-packages (from tensorflow-intel==2.18.0->tensorflow) (18.1.1)\n",
      "Requirement already satisfied: opt-einsum>=2.3.2 in c:\\users\\asus\\appdata\\local\\programs\\python\\python310\\lib\\site-packages (from tensorflow-intel==2.18.0->tensorflow) (3.4.0)\n",
      "Requirement already satisfied: packaging in c:\\users\\asus\\appdata\\roaming\\python\\python310\\site-packages (from tensorflow-intel==2.18.0->tensorflow) (24.2)\n",
      "Requirement already satisfied: protobuf!=4.21.0,!=4.21.1,!=4.21.2,!=4.21.3,!=4.21.4,!=4.21.5,<6.0.0dev,>=3.20.3 in c:\\users\\asus\\appdata\\local\\programs\\python\\python310\\lib\\site-packages (from tensorflow-intel==2.18.0->tensorflow) (5.28.3)\n",
      "Requirement already satisfied: requests<3,>=2.21.0 in c:\\users\\asus\\appdata\\local\\programs\\python\\python310\\lib\\site-packages (from tensorflow-intel==2.18.0->tensorflow) (2.32.3)\n",
      "Requirement already satisfied: setuptools in c:\\users\\asus\\appdata\\local\\programs\\python\\python310\\lib\\site-packages (from tensorflow-intel==2.18.0->tensorflow) (57.4.0)\n",
      "Requirement already satisfied: six>=1.12.0 in c:\\users\\asus\\appdata\\roaming\\python\\python310\\site-packages (from tensorflow-intel==2.18.0->tensorflow) (1.16.0)\n",
      "Requirement already satisfied: termcolor>=1.1.0 in c:\\users\\asus\\appdata\\local\\programs\\python\\python310\\lib\\site-packages (from tensorflow-intel==2.18.0->tensorflow) (2.5.0)\n",
      "Requirement already satisfied: typing-extensions>=3.6.6 in c:\\users\\asus\\appdata\\roaming\\python\\python310\\site-packages (from tensorflow-intel==2.18.0->tensorflow) (4.12.2)\n",
      "Requirement already satisfied: wrapt>=1.11.0 in c:\\users\\asus\\appdata\\local\\programs\\python\\python310\\lib\\site-packages (from tensorflow-intel==2.18.0->tensorflow) (1.16.0)\n",
      "Requirement already satisfied: grpcio<2.0,>=1.24.3 in c:\\users\\asus\\appdata\\local\\programs\\python\\python310\\lib\\site-packages (from tensorflow-intel==2.18.0->tensorflow) (1.68.0)\n",
      "Requirement already satisfied: tensorboard<2.19,>=2.18 in c:\\users\\asus\\appdata\\local\\programs\\python\\python310\\lib\\site-packages (from tensorflow-intel==2.18.0->tensorflow) (2.18.0)\n",
      "Requirement already satisfied: keras>=3.5.0 in c:\\users\\asus\\appdata\\local\\programs\\python\\python310\\lib\\site-packages (from tensorflow-intel==2.18.0->tensorflow) (3.6.0)\n",
      "Requirement already satisfied: numpy<2.1.0,>=1.26.0 in c:\\users\\asus\\appdata\\local\\programs\\python\\python310\\lib\\site-packages (from tensorflow-intel==2.18.0->tensorflow) (2.0.2)\n",
      "Requirement already satisfied: h5py>=3.11.0 in c:\\users\\asus\\appdata\\local\\programs\\python\\python310\\lib\\site-packages (from tensorflow-intel==2.18.0->tensorflow) (3.12.1)\n",
      "Requirement already satisfied: ml-dtypes<0.5.0,>=0.4.0 in c:\\users\\asus\\appdata\\local\\programs\\python\\python310\\lib\\site-packages (from tensorflow-intel==2.18.0->tensorflow) (0.4.1)\n",
      "Requirement already satisfied: tensorflow-io-gcs-filesystem>=0.23.1 in c:\\users\\asus\\appdata\\local\\programs\\python\\python310\\lib\\site-packages (from tensorflow-intel==2.18.0->tensorflow) (0.31.0)\n",
      "Requirement already satisfied: wheel<1.0,>=0.23.0 in c:\\users\\asus\\appdata\\local\\programs\\python\\python310\\lib\\site-packages (from astunparse>=1.6.0->tensorflow-intel==2.18.0->tensorflow) (0.45.0)\n",
      "Requirement already satisfied: rich in c:\\users\\asus\\appdata\\local\\programs\\python\\python310\\lib\\site-packages (from keras>=3.5.0->tensorflow-intel==2.18.0->tensorflow) (13.9.4)\n",
      "Requirement already satisfied: namex in c:\\users\\asus\\appdata\\local\\programs\\python\\python310\\lib\\site-packages (from keras>=3.5.0->tensorflow-intel==2.18.0->tensorflow) (0.0.8)\n",
      "Requirement already satisfied: optree in c:\\users\\asus\\appdata\\local\\programs\\python\\python310\\lib\\site-packages (from keras>=3.5.0->tensorflow-intel==2.18.0->tensorflow) (0.13.1)\n",
      "Requirement already satisfied: charset-normalizer<4,>=2 in c:\\users\\asus\\appdata\\local\\programs\\python\\python310\\lib\\site-packages (from requests<3,>=2.21.0->tensorflow-intel==2.18.0->tensorflow) (3.4.0)\n",
      "Requirement already satisfied: idna<4,>=2.5 in c:\\users\\asus\\appdata\\local\\programs\\python\\python310\\lib\\site-packages (from requests<3,>=2.21.0->tensorflow-intel==2.18.0->tensorflow) (3.10)\n",
      "Requirement already satisfied: urllib3<3,>=1.21.1 in c:\\users\\asus\\appdata\\local\\programs\\python\\python310\\lib\\site-packages (from requests<3,>=2.21.0->tensorflow-intel==2.18.0->tensorflow) (2.2.3)\n",
      "Requirement already satisfied: certifi>=2017.4.17 in c:\\users\\asus\\appdata\\local\\programs\\python\\python310\\lib\\site-packages (from requests<3,>=2.21.0->tensorflow-intel==2.18.0->tensorflow) (2024.8.30)\n",
      "Requirement already satisfied: markdown>=2.6.8 in c:\\users\\asus\\appdata\\local\\programs\\python\\python310\\lib\\site-packages (from tensorboard<2.19,>=2.18->tensorflow-intel==2.18.0->tensorflow) (3.7)\n",
      "Requirement already satisfied: tensorboard-data-server<0.8.0,>=0.7.0 in c:\\users\\asus\\appdata\\local\\programs\\python\\python310\\lib\\site-packages (from tensorboard<2.19,>=2.18->tensorflow-intel==2.18.0->tensorflow) (0.7.2)\n",
      "Requirement already satisfied: werkzeug>=1.0.1 in c:\\users\\asus\\appdata\\local\\programs\\python\\python310\\lib\\site-packages (from tensorboard<2.19,>=2.18->tensorflow-intel==2.18.0->tensorflow) (3.1.3)\n",
      "Requirement already satisfied: MarkupSafe>=2.1.1 in c:\\users\\asus\\appdata\\local\\programs\\python\\python310\\lib\\site-packages (from werkzeug>=1.0.1->tensorboard<2.19,>=2.18->tensorflow-intel==2.18.0->tensorflow) (3.0.2)\n",
      "Requirement already satisfied: markdown-it-py>=2.2.0 in c:\\users\\asus\\appdata\\local\\programs\\python\\python310\\lib\\site-packages (from rich->keras>=3.5.0->tensorflow-intel==2.18.0->tensorflow) (3.0.0)\n",
      "Requirement already satisfied: pygments<3.0.0,>=2.13.0 in c:\\users\\asus\\appdata\\roaming\\python\\python310\\site-packages (from rich->keras>=3.5.0->tensorflow-intel==2.18.0->tensorflow) (2.18.0)\n",
      "Requirement already satisfied: mdurl~=0.1 in c:\\users\\asus\\appdata\\local\\programs\\python\\python310\\lib\\site-packages (from markdown-it-py>=2.2.0->rich->keras>=3.5.0->tensorflow-intel==2.18.0->tensorflow) (0.1.2)\n",
      "Note: you may need to restart the kernel to use updated packages.\n",
      "Requirement already satisfied: scikit-learn in c:\\users\\asus\\appdata\\local\\programs\\python\\python310\\lib\\site-packages (1.5.2)Note: you may need to restart the kernel to use updated packages.\n",
      "\n",
      "Requirement already satisfied: numpy>=1.19.5 in c:\\users\\asus\\appdata\\local\\programs\\python\\python310\\lib\\site-packages (from scikit-learn) (2.0.2)\n",
      "Requirement already satisfied: scipy>=1.6.0 in c:\\users\\asus\\appdata\\local\\programs\\python\\python310\\lib\\site-packages (from scikit-learn) (1.14.1)\n",
      "Requirement already satisfied: joblib>=1.2.0 in c:\\users\\asus\\appdata\\local\\programs\\python\\python310\\lib\\site-packages (from scikit-learn) (1.4.2)\n",
      "Requirement already satisfied: threadpoolctl>=3.1.0 in c:\\users\\asus\\appdata\\local\\programs\\python\\python310\\lib\\site-packages (from scikit-learn) (3.5.0)\n",
      "Requirement already satisfied: arch in c:\\users\\asus\\appdata\\local\\programs\\python\\python310\\lib\\site-packages (7.2.0)\n",
      "Requirement already satisfied: numpy>=1.22.3 in c:\\users\\asus\\appdata\\local\\programs\\python\\python310\\lib\\site-packages (from arch) (2.0.2)\n",
      "Requirement already satisfied: scipy>=1.8 in c:\\users\\asus\\appdata\\local\\programs\\python\\python310\\lib\\site-packages (from arch) (1.14.1)\n",
      "Requirement already satisfied: pandas>=1.4 in c:\\users\\asus\\appdata\\local\\programs\\python\\python310\\lib\\site-packages (from arch) (2.2.3)\n",
      "Requirement already satisfied: statsmodels>=0.12 in c:\\users\\asus\\appdata\\local\\programs\\python\\python310\\lib\\site-packages (from arch) (0.14.4)\n",
      "Requirement already satisfied: python-dateutil>=2.8.2 in c:\\users\\asus\\appdata\\roaming\\python\\python310\\site-packages (from pandas>=1.4->arch) (2.9.0.post0)\n",
      "Requirement already satisfied: pytz>=2020.1 in c:\\users\\asus\\appdata\\local\\programs\\python\\python310\\lib\\site-packages (from pandas>=1.4->arch) (2024.2)\n",
      "Requirement already satisfied: tzdata>=2022.7 in c:\\users\\asus\\appdata\\local\\programs\\python\\python310\\lib\\site-packages (from pandas>=1.4->arch) (2024.2)\n",
      "Requirement already satisfied: patsy>=0.5.6 in c:\\users\\asus\\appdata\\local\\programs\\python\\python310\\lib\\site-packages (from statsmodels>=0.12->arch) (1.0.1)\n",
      "Requirement already satisfied: packaging>=21.3 in c:\\users\\asus\\appdata\\roaming\\python\\python310\\site-packages (from statsmodels>=0.12->arch) (24.2)\n",
      "Requirement already satisfied: six>=1.5 in c:\\users\\asus\\appdata\\roaming\\python\\python310\\site-packages (from python-dateutil>=2.8.2->pandas>=1.4->arch) (1.16.0)\n",
      "Note: you may need to restart the kernel to use updated packages.\n",
      "Requirement already satisfied: matplotlib in c:\\users\\asus\\appdata\\local\\programs\\python\\python310\\lib\\site-packages (3.9.2)\n",
      "Requirement already satisfied: contourpy>=1.0.1 in c:\\users\\asus\\appdata\\local\\programs\\python\\python310\\lib\\site-packages (from matplotlib) (1.3.1)\n",
      "Requirement already satisfied: cycler>=0.10 in c:\\users\\asus\\appdata\\local\\programs\\python\\python310\\lib\\site-packages (from matplotlib) (0.12.1)\n",
      "Requirement already satisfied: fonttools>=4.22.0 in c:\\users\\asus\\appdata\\local\\programs\\python\\python310\\lib\\site-packages (from matplotlib) (4.55.0)\n",
      "Requirement already satisfied: kiwisolver>=1.3.1 in c:\\users\\asus\\appdata\\local\\programs\\python\\python310\\lib\\site-packages (from matplotlib) (1.4.7)\n",
      "Requirement already satisfied: numpy>=1.23 in c:\\users\\asus\\appdata\\local\\programs\\python\\python310\\lib\\site-packages (from matplotlib) (2.0.2)\n",
      "Requirement already satisfied: packaging>=20.0 in c:\\users\\asus\\appdata\\roaming\\python\\python310\\site-packages (from matplotlib) (24.2)\n",
      "Requirement already satisfied: pillow>=8 in c:\\users\\asus\\appdata\\local\\programs\\python\\python310\\lib\\site-packages (from matplotlib) (11.0.0)\n",
      "Requirement already satisfied: pyparsing>=2.3.1 in c:\\users\\asus\\appdata\\local\\programs\\python\\python310\\lib\\site-packages (from matplotlib) (3.2.0)\n",
      "Requirement already satisfied: python-dateutil>=2.7 in c:\\users\\asus\\appdata\\roaming\\python\\python310\\site-packages (from matplotlib) (2.9.0.post0)\n",
      "Requirement already satisfied: six>=1.5 in c:\\users\\asus\\appdata\\roaming\\python\\python310\\site-packages (from python-dateutil>=2.7->matplotlib) (1.16.0)\n",
      "Note: you may need to restart the kernel to use updated packages.\n",
      "Requirement already satisfied: pandas in c:\\users\\asus\\appdata\\local\\programs\\python\\python310\\lib\\site-packages (2.2.3)\n",
      "Requirement already satisfied: numpy>=1.22.4 in c:\\users\\asus\\appdata\\local\\programs\\python\\python310\\lib\\site-packages (from pandas) (2.0.2)\n",
      "Requirement already satisfied: python-dateutil>=2.8.2 in c:\\users\\asus\\appdata\\roaming\\python\\python310\\site-packages (from pandas) (2.9.0.post0)\n",
      "Requirement already satisfied: pytz>=2020.1 in c:\\users\\asus\\appdata\\local\\programs\\python\\python310\\lib\\site-packages (from pandas) (2024.2)\n",
      "Requirement already satisfied: tzdata>=2022.7 in c:\\users\\asus\\appdata\\local\\programs\\python\\python310\\lib\\site-packages (from pandas) (2024.2)\n",
      "Requirement already satisfied: six>=1.5 in c:\\users\\asus\\appdata\\roaming\\python\\python310\\site-packages (from python-dateutil>=2.8.2->pandas) (1.16.0)\n",
      "Note: you may need to restart the kernel to use updated packages.\n",
      "Requirement already satisfied: numpy in c:\\users\\asus\\appdata\\local\\programs\\python\\python310\\lib\\site-packages (2.0.2)\n",
      "Note: you may need to restart the kernel to use updated packages.\n",
      "Requirement already satisfied: altair in c:\\users\\asus\\appdata\\local\\programs\\python\\python310\\lib\\site-packages (5.4.1)\n",
      "Requirement already satisfied: jinja2 in c:\\users\\asus\\appdata\\local\\programs\\python\\python310\\lib\\site-packages (from altair) (3.1.4)\n",
      "Requirement already satisfied: jsonschema>=3.0 in c:\\users\\asus\\appdata\\local\\programs\\python\\python310\\lib\\site-packages (from altair) (4.23.0)\n",
      "Requirement already satisfied: narwhals>=1.5.2 in c:\\users\\asus\\appdata\\local\\programs\\python\\python310\\lib\\site-packages (from altair) (1.14.0)\n",
      "Requirement already satisfied: packaging in c:\\users\\asus\\appdata\\roaming\\python\\python310\\site-packages (from altair) (24.2)\n",
      "Requirement already satisfied: typing-extensions>=4.10.0 in c:\\users\\asus\\appdata\\roaming\\python\\python310\\site-packages (from altair) (4.12.2)\n",
      "Requirement already satisfied: attrs>=22.2.0 in c:\\users\\asus\\appdata\\local\\programs\\python\\python310\\lib\\site-packages (from jsonschema>=3.0->altair) (24.2.0)\n",
      "Requirement already satisfied: jsonschema-specifications>=2023.03.6 in c:\\users\\asus\\appdata\\local\\programs\\python\\python310\\lib\\site-packages (from jsonschema>=3.0->altair) (2024.10.1)\n",
      "Requirement already satisfied: referencing>=0.28.4 in c:\\users\\asus\\appdata\\local\\programs\\python\\python310\\lib\\site-packages (from jsonschema>=3.0->altair) (0.35.1)\n",
      "Requirement already satisfied: rpds-py>=0.7.1 in c:\\users\\asus\\appdata\\local\\programs\\python\\python310\\lib\\site-packages (from jsonschema>=3.0->altair) (0.21.0)\n",
      "Requirement already satisfied: MarkupSafe>=2.0 in c:\\users\\asus\\appdata\\local\\programs\\python\\python310\\lib\\site-packages (from jinja2->altair) (3.0.2)\n",
      "Note: you may need to restart the kernel to use updated packages.\n",
      "Requirement already satisfied: statsmodels in c:\\users\\asus\\appdata\\local\\programs\\python\\python310\\lib\\site-packages (0.14.4)\n",
      "Requirement already satisfied: numpy<3,>=1.22.3 in c:\\users\\asus\\appdata\\local\\programs\\python\\python310\\lib\\site-packages (from statsmodels) (2.0.2)\n",
      "Requirement already satisfied: scipy!=1.9.2,>=1.8 in c:\\users\\asus\\appdata\\local\\programs\\python\\python310\\lib\\site-packages (from statsmodels) (1.14.1)\n",
      "Requirement already satisfied: pandas!=2.1.0,>=1.4 in c:\\users\\asus\\appdata\\local\\programs\\python\\python310\\lib\\site-packages (from statsmodels) (2.2.3)\n",
      "Requirement already satisfied: patsy>=0.5.6 in c:\\users\\asus\\appdata\\local\\programs\\python\\python310\\lib\\site-packages (from statsmodels) (1.0.1)\n",
      "Requirement already satisfied: packaging>=21.3 in c:\\users\\asus\\appdata\\roaming\\python\\python310\\site-packages (from statsmodels) (24.2)\n",
      "Requirement already satisfied: python-dateutil>=2.8.2 in c:\\users\\asus\\appdata\\roaming\\python\\python310\\site-packages (from pandas!=2.1.0,>=1.4->statsmodels) (2.9.0.post0)\n",
      "Requirement already satisfied: pytz>=2020.1 in c:\\users\\asus\\appdata\\local\\programs\\python\\python310\\lib\\site-packages (from pandas!=2.1.0,>=1.4->statsmodels) (2024.2)\n",
      "Requirement already satisfied: tzdata>=2022.7 in c:\\users\\asus\\appdata\\local\\programs\\python\\python310\\lib\\site-packages (from pandas!=2.1.0,>=1.4->statsmodels) (2024.2)\n",
      "Requirement already satisfied: six>=1.5 in c:\\users\\asus\\appdata\\roaming\\python\\python310\\site-packages (from python-dateutil>=2.8.2->pandas!=2.1.0,>=1.4->statsmodels) (1.16.0)\n",
      "Note: you may need to restart the kernel to use updated packages.\n",
      "Requirement already satisfied: scipy in c:\\users\\asus\\appdata\\local\\programs\\python\\python310\\lib\\site-packages (1.14.1)\n",
      "Requirement already satisfied: numpy<2.3,>=1.23.5 in c:\\users\\asus\\appdata\\local\\programs\\python\\python310\\lib\\site-packages (from scipy) (2.0.2)\n",
      "Note: you may need to restart the kernel to use updated packages.\n",
      "Requirement already satisfied: yfinance in c:\\users\\asus\\appdata\\local\\programs\\python\\python310\\lib\\site-packages (0.2.49)\n",
      "Requirement already satisfied: pandas>=1.3.0 in c:\\users\\asus\\appdata\\local\\programs\\python\\python310\\lib\\site-packages (from yfinance) (2.2.3)\n",
      "Requirement already satisfied: numpy>=1.16.5 in c:\\users\\asus\\appdata\\local\\programs\\python\\python310\\lib\\site-packages (from yfinance) (2.0.2)\n",
      "Requirement already satisfied: requests>=2.31 in c:\\users\\asus\\appdata\\local\\programs\\python\\python310\\lib\\site-packages (from yfinance) (2.32.3)\n",
      "Requirement already satisfied: multitasking>=0.0.7 in c:\\users\\asus\\appdata\\local\\programs\\python\\python310\\lib\\site-packages (from yfinance) (0.0.11)\n",
      "Requirement already satisfied: lxml>=4.9.1 in c:\\users\\asus\\appdata\\local\\programs\\python\\python310\\lib\\site-packages (from yfinance) (5.3.0)\n",
      "Requirement already satisfied: platformdirs>=2.0.0 in c:\\users\\asus\\appdata\\roaming\\python\\python310\\site-packages (from yfinance) (4.3.6)\n",
      "Requirement already satisfied: pytz>=2022.5 in c:\\users\\asus\\appdata\\local\\programs\\python\\python310\\lib\\site-packages (from yfinance) (2024.2)\n",
      "Requirement already satisfied: frozendict>=2.3.4 in c:\\users\\asus\\appdata\\local\\programs\\python\\python310\\lib\\site-packages (from yfinance) (2.4.6)\n",
      "Requirement already satisfied: peewee>=3.16.2 in c:\\users\\asus\\appdata\\local\\programs\\python\\python310\\lib\\site-packages (from yfinance) (3.17.8)\n",
      "Requirement already satisfied: beautifulsoup4>=4.11.1 in c:\\users\\asus\\appdata\\local\\programs\\python\\python310\\lib\\site-packages (from yfinance) (4.12.3)\n",
      "Requirement already satisfied: html5lib>=1.1 in c:\\users\\asus\\appdata\\local\\programs\\python\\python310\\lib\\site-packages (from yfinance) (1.1)\n",
      "Requirement already satisfied: soupsieve>1.2 in c:\\users\\asus\\appdata\\local\\programs\\python\\python310\\lib\\site-packages (from beautifulsoup4>=4.11.1->yfinance) (2.6)\n",
      "Requirement already satisfied: six>=1.9 in c:\\users\\asus\\appdata\\roaming\\python\\python310\\site-packages (from html5lib>=1.1->yfinance) (1.16.0)\n",
      "Requirement already satisfied: webencodings in c:\\users\\asus\\appdata\\local\\programs\\python\\python310\\lib\\site-packages (from html5lib>=1.1->yfinance) (0.5.1)\n",
      "Requirement already satisfied: python-dateutil>=2.8.2 in c:\\users\\asus\\appdata\\roaming\\python\\python310\\site-packages (from pandas>=1.3.0->yfinance) (2.9.0.post0)\n",
      "Requirement already satisfied: tzdata>=2022.7 in c:\\users\\asus\\appdata\\local\\programs\\python\\python310\\lib\\site-packages (from pandas>=1.3.0->yfinance) (2024.2)\n",
      "Requirement already satisfied: charset-normalizer<4,>=2 in c:\\users\\asus\\appdata\\local\\programs\\python\\python310\\lib\\site-packages (from requests>=2.31->yfinance) (3.4.0)\n",
      "Requirement already satisfied: idna<4,>=2.5 in c:\\users\\asus\\appdata\\local\\programs\\python\\python310\\lib\\site-packages (from requests>=2.31->yfinance) (3.10)\n",
      "Requirement already satisfied: urllib3<3,>=1.21.1 in c:\\users\\asus\\appdata\\local\\programs\\python\\python310\\lib\\site-packages (from requests>=2.31->yfinance) (2.2.3)\n",
      "Requirement already satisfied: certifi>=2017.4.17 in c:\\users\\asus\\appdata\\local\\programs\\python\\python310\\lib\\site-packages (from requests>=2.31->yfinance) (2024.8.30)\n",
      "Note: you may need to restart the kernel to use updated packages.\n",
      "Requirement already satisfied: seaborn in c:\\users\\asus\\appdata\\local\\programs\\python\\python310\\lib\\site-packages (0.13.2)\n",
      "Requirement already satisfied: numpy!=1.24.0,>=1.20 in c:\\users\\asus\\appdata\\local\\programs\\python\\python310\\lib\\site-packages (from seaborn) (2.0.2)\n",
      "Requirement already satisfied: pandas>=1.2 in c:\\users\\asus\\appdata\\local\\programs\\python\\python310\\lib\\site-packages (from seaborn) (2.2.3)\n",
      "Requirement already satisfied: matplotlib!=3.6.1,>=3.4 in c:\\users\\asus\\appdata\\local\\programs\\python\\python310\\lib\\site-packages (from seaborn) (3.9.2)\n",
      "Requirement already satisfied: contourpy>=1.0.1 in c:\\users\\asus\\appdata\\local\\programs\\python\\python310\\lib\\site-packages (from matplotlib!=3.6.1,>=3.4->seaborn) (1.3.1)\n",
      "Requirement already satisfied: cycler>=0.10 in c:\\users\\asus\\appdata\\local\\programs\\python\\python310\\lib\\site-packages (from matplotlib!=3.6.1,>=3.4->seaborn) (0.12.1)\n",
      "Requirement already satisfied: fonttools>=4.22.0 in c:\\users\\asus\\appdata\\local\\programs\\python\\python310\\lib\\site-packages (from matplotlib!=3.6.1,>=3.4->seaborn) (4.55.0)\n",
      "Requirement already satisfied: kiwisolver>=1.3.1 in c:\\users\\asus\\appdata\\local\\programs\\python\\python310\\lib\\site-packages (from matplotlib!=3.6.1,>=3.4->seaborn) (1.4.7)\n",
      "Requirement already satisfied: packaging>=20.0 in c:\\users\\asus\\appdata\\roaming\\python\\python310\\site-packages (from matplotlib!=3.6.1,>=3.4->seaborn) (24.2)\n",
      "Requirement already satisfied: pillow>=8 in c:\\users\\asus\\appdata\\local\\programs\\python\\python310\\lib\\site-packages (from matplotlib!=3.6.1,>=3.4->seaborn) (11.0.0)\n",
      "Requirement already satisfied: pyparsing>=2.3.1 in c:\\users\\asus\\appdata\\local\\programs\\python\\python310\\lib\\site-packages (from matplotlib!=3.6.1,>=3.4->seaborn) (3.2.0)\n",
      "Requirement already satisfied: python-dateutil>=2.7 in c:\\users\\asus\\appdata\\roaming\\python\\python310\\site-packages (from matplotlib!=3.6.1,>=3.4->seaborn) (2.9.0.post0)\n",
      "Requirement already satisfied: pytz>=2020.1 in c:\\users\\asus\\appdata\\local\\programs\\python\\python310\\lib\\site-packages (from pandas>=1.2->seaborn) (2024.2)\n",
      "Requirement already satisfied: tzdata>=2022.7 in c:\\users\\asus\\appdata\\local\\programs\\python\\python310\\lib\\site-packages (from pandas>=1.2->seaborn) (2024.2)\n",
      "Requirement already satisfied: six>=1.5 in c:\\users\\asus\\appdata\\roaming\\python\\python310\\site-packages (from python-dateutil>=2.7->matplotlib!=3.6.1,>=3.4->seaborn) (1.16.0)\n",
      "Note: you may need to restart the kernel to use updated packages.\n",
      "Requirement already satisfied: keras-tuner in c:\\users\\asus\\appdata\\local\\programs\\python\\python310\\lib\\site-packages (1.4.7)\n",
      "Requirement already satisfied: keras in c:\\users\\asus\\appdata\\local\\programs\\python\\python310\\lib\\site-packages (from keras-tuner) (3.6.0)\n",
      "Requirement already satisfied: packaging in c:\\users\\asus\\appdata\\roaming\\python\\python310\\site-packages (from keras-tuner) (24.2)\n",
      "Requirement already satisfied: requests in c:\\users\\asus\\appdata\\local\\programs\\python\\python310\\lib\\site-packages (from keras-tuner) (2.32.3)\n",
      "Requirement already satisfied: kt-legacy in c:\\users\\asus\\appdata\\local\\programs\\python\\python310\\lib\\site-packages (from keras-tuner) (1.0.5)\n",
      "Requirement already satisfied: absl-py in c:\\users\\asus\\appdata\\local\\programs\\python\\python310\\lib\\site-packages (from keras->keras-tuner) (2.1.0)\n",
      "Requirement already satisfied: numpy in c:\\users\\asus\\appdata\\local\\programs\\python\\python310\\lib\\site-packages (from keras->keras-tuner) (2.0.2)\n",
      "Requirement already satisfied: rich in c:\\users\\asus\\appdata\\local\\programs\\python\\python310\\lib\\site-packages (from keras->keras-tuner) (13.9.4)\n",
      "Requirement already satisfied: namex in c:\\users\\asus\\appdata\\local\\programs\\python\\python310\\lib\\site-packages (from keras->keras-tuner) (0.0.8)\n",
      "Requirement already satisfied: h5py in c:\\users\\asus\\appdata\\local\\programs\\python\\python310\\lib\\site-packages (from keras->keras-tuner) (3.12.1)\n",
      "Requirement already satisfied: optree in c:\\users\\asus\\appdata\\local\\programs\\python\\python310\\lib\\site-packages (from keras->keras-tuner) (0.13.1)\n",
      "Requirement already satisfied: ml-dtypes in c:\\users\\asus\\appdata\\local\\programs\\python\\python310\\lib\\site-packages (from keras->keras-tuner) (0.4.1)\n",
      "Requirement already satisfied: charset-normalizer<4,>=2 in c:\\users\\asus\\appdata\\local\\programs\\python\\python310\\lib\\site-packages (from requests->keras-tuner) (3.4.0)\n",
      "Requirement already satisfied: idna<4,>=2.5 in c:\\users\\asus\\appdata\\local\\programs\\python\\python310\\lib\\site-packages (from requests->keras-tuner) (3.10)\n",
      "Requirement already satisfied: urllib3<3,>=1.21.1 in c:\\users\\asus\\appdata\\local\\programs\\python\\python310\\lib\\site-packages (from requests->keras-tuner) (2.2.3)\n",
      "Requirement already satisfied: certifi>=2017.4.17 in c:\\users\\asus\\appdata\\local\\programs\\python\\python310\\lib\\site-packages (from requests->keras-tuner) (2024.8.30)\n",
      "Requirement already satisfied: typing-extensions>=4.5.0 in c:\\users\\asus\\appdata\\roaming\\python\\python310\\site-packages (from optree->keras->keras-tuner) (4.12.2)\n",
      "Requirement already satisfied: markdown-it-py>=2.2.0 in c:\\users\\asus\\appdata\\local\\programs\\python\\python310\\lib\\site-packages (from rich->keras->keras-tuner) (3.0.0)\n",
      "Requirement already satisfied: pygments<3.0.0,>=2.13.0 in c:\\users\\asus\\appdata\\roaming\\python\\python310\\site-packages (from rich->keras->keras-tuner) (2.18.0)\n",
      "Requirement already satisfied: mdurl~=0.1 in c:\\users\\asus\\appdata\\local\\programs\\python\\python310\\lib\\site-packages (from markdown-it-py>=2.2.0->rich->keras->keras-tuner) (0.1.2)\n",
      "Note: you may need to restart the kernel to use updated packages.\n"
     ]
    }
   ],
   "source": [
    "%pip install tensorflow\n",
    "%pip install scikit-learn\n",
    "%pip install arch\n",
    "%pip install matplotlib\n",
    "%pip install pandas\n",
    "%pip install numpy\n",
    "%pip install altair\n",
    "%pip install statsmodels\n",
    "%pip install scipy\n",
    "%pip install yfinance\n",
    "%pip install seaborn\n",
    "%pip install keras-tuner"
   ]
  },
  {
   "cell_type": "code",
   "execution_count": 4,
   "metadata": {},
   "outputs": [],
   "source": [
    "import pandas as pd\n",
    "import numpy as np\n",
    "import matplotlib.pyplot as plt\n",
    "import tensorflow as tf\n",
    "import random\n",
    "import altair as alt\n",
    "from statsmodels.tsa.stattools import adfuller\n",
    "from sklearn.metrics import mean_absolute_error, mean_absolute_percentage_error, mean_squared_error\n",
    "from sklearn.preprocessing import MinMaxScaler\n",
    "from tensorflow.keras.models import Sequential\n",
    "from tensorflow.keras.optimizers import Adam\n",
    "from tensorflow.keras.layers import Conv1D, MaxPooling1D, Flatten, Reshape, GRU, Dense, Dropout\n",
    "from sklearn.model_selection import train_test_split\n",
    "import seaborn as sns\n",
    "from keras_tuner import Hyperband\n",
    "from sklearn.model_selection import ParameterGrid"
   ]
  },
  {
   "cell_type": "markdown",
   "metadata": {
    "id": "26dk3qIdYN5M"
   },
   "source": [
    "Read Dataset"
   ]
  },
  {
   "cell_type": "code",
   "execution_count": 5,
   "metadata": {
    "collapsed": true,
    "executionInfo": {
     "elapsed": 3987,
     "status": "ok",
     "timestamp": 1731970047544,
     "user": {
      "displayName": "Andika Ryan N",
      "userId": "01511396785984303975"
     },
     "user_tz": -420
    },
    "id": "V8XpBC6qIZZ2"
   },
   "outputs": [],
   "source": [
    "buku_000 = pd.read_csv('D:\\\\KuliYeah\\\\Season 7\\\\Arc Skripsi\\\\forecasting\\\\buku_000.csv')\n",
    "buku_100 = pd.read_csv('D:\\\\KuliYeah\\\\Season 7\\\\Arc Skripsi\\\\forecasting\\\\buku_100.csv')\n",
    "buku_200 = pd.read_csv('D:\\\\KuliYeah\\\\Season 7\\\\Arc Skripsi\\\\forecasting\\\\buku_200.csv')\n",
    "buku_300 = pd.read_csv('D:\\\\KuliYeah\\\\Season 7\\\\Arc Skripsi\\\\forecasting\\\\buku_300.csv')\n",
    "buku_400 = pd.read_csv('D:\\\\KuliYeah\\\\Season 7\\\\Arc Skripsi\\\\forecasting\\\\buku_400.csv')\n",
    "buku_500 = pd.read_csv('D:\\\\KuliYeah\\\\Season 7\\\\Arc Skripsi\\\\forecasting\\\\buku_500.csv')\n",
    "buku_600 = pd.read_csv('D:\\\\KuliYeah\\\\Season 7\\\\Arc Skripsi\\\\forecasting\\\\buku_600.csv')\n",
    "buku_700 = pd.read_csv('D:\\\\KuliYeah\\\\Season 7\\\\Arc Skripsi\\\\forecasting\\\\buku_700.csv')\n",
    "buku_800 = pd.read_csv('D:\\\\KuliYeah\\\\Season 7\\\\Arc Skripsi\\\\forecasting\\\\buku_800.csv')\n",
    "buku_900 = pd.read_csv('D:\\\\KuliYeah\\\\Season 7\\\\Arc Skripsi\\\\forecasting\\\\buku_900.csv')\n",
    "\n",
    "buku_000['Bulan'] = pd.to_datetime(buku_000['Bulan'], format='%m/%y')\n",
    "buku_100['Bulan'] = pd.to_datetime(buku_100['Bulan'], format='%m/%y')\n",
    "buku_200['Bulan'] = pd.to_datetime(buku_200['Bulan'], format='%m/%y')\n",
    "buku_300['Bulan'] = pd.to_datetime(buku_300['Bulan'], format='%m/%y')\n",
    "buku_400['Bulan'] = pd.to_datetime(buku_400['Bulan'], format='%m/%y')\n",
    "buku_500['Bulan'] = pd.to_datetime(buku_500['Bulan'], format='%m/%y')\n",
    "buku_600['Bulan'] = pd.to_datetime(buku_600['Bulan'], format='%m/%y')\n",
    "buku_700['Bulan'] = pd.to_datetime(buku_700['Bulan'], format='%m/%y')\n",
    "buku_800['Bulan'] = pd.to_datetime(buku_800['Bulan'], format='%m/%y')\n",
    "buku_900['Bulan'] = pd.to_datetime(buku_900['Bulan'], format='%m/%y')"
   ]
  },
  {
   "cell_type": "markdown",
   "metadata": {
    "id": "T8ogJThxGwx_"
   },
   "source": [
    "# Peminjaman buku kategori general"
   ]
  },
  {
   "cell_type": "code",
   "execution_count": 6,
   "metadata": {
    "colab": {
     "base_uri": "https://localhost:8080/",
     "height": 472
    },
    "executionInfo": {
     "elapsed": 846,
     "status": "ok",
     "timestamp": 1731970108018,
     "user": {
      "displayName": "Andika Ryan N",
      "userId": "01511396785984303975"
     },
     "user_tz": -420
    },
    "id": "U7oOB8LLHHJP",
    "outputId": "b9a865ca-0323-4d45-ca72-a0d9cc906d0c"
   },
   "outputs": [
    {
     "data": {
      "image/png": "[encoded data removed]",
      "text/plain": [
       "<Figure size 640x480 with 1 Axes>"
      ]
     },
     "metadata": {},
     "output_type": "display_data"
    }
   ],
   "source": [
    "buku_000.plot(x='Bulan', y='Jumlah_buku_dipinjam', kind='line')\n",
    "plt.title('Jumlah Peminjaman Buku')\n",
    "plt.xlabel('Tanggal')\n",
    "plt.ylabel('Jumlah Peminjaman')\n",
    "plt.show()"
   ]
  },
  {
   "cell_type": "markdown",
   "metadata": {
    "id": "5zcKBD4SMIKW"
   },
   "source": [
    "Cek volatil"
   ]
  },
  {
   "cell_type": "code",
   "execution_count": 7,
   "metadata": {
    "colab": {
     "base_uri": "https://localhost:8080/"
    },
    "executionInfo": {
     "elapsed": 344,
     "status": "ok",
     "timestamp": 1731971070411,
     "user": {
      "displayName": "Andika Ryan N",
      "userId": "01511396785984303975"
     },
     "user_tz": -420
    },
    "id": "t_9GDjrkMH5q",
    "outputId": "916a4494-915d-404a-bf91-371cc5dfb9df"
   },
   "outputs": [
    {
     "name": "stdout",
     "output_type": "stream",
     "text": [
      "Jumlah NaN di kolom 'Jumlah_buku_dipinjam': 0\n",
      "Jumlah inf di kolom 'pct_change': 1\n",
      "Standar deviasi dari perubahan persentase: 2.6592216299780524\n",
      "Data dianggap volatil\n"
     ]
    },
    {
     "name": "stderr",
     "output_type": "stream",
     "text": [
      "C:\\Users\\asus\\AppData\\Local\\Temp\\ipykernel_19736\\500041157.py:14: FutureWarning: A value is trying to be set on a copy of a DataFrame or Series through chained assignment using an inplace method.\n",
      "The behavior will change in pandas 3.0. This inplace method will never work because the intermediate object on which we are setting values always behaves as a copy.\n",
      "\n",
      "For example, when doing 'df[col].method(value, inplace=True)', try using 'df.method({col: value}, inplace=True)' or df[col] = df[col].method(value) instead, to perform the operation inplace on the original object.\n",
      "\n",
      "\n",
      "  buku_000_clean['pct_change'].replace([np.inf, -np.inf], np.nan, inplace=True)\n"
     ]
    }
   ],
   "source": [
    "# Langkah 1: Periksa apakah ada nilai NaN di kolom 'Jumlah_buku_dipinjam'\n",
    "print(f\"Jumlah NaN di kolom 'Jumlah_buku_dipinjam': {buku_000['Jumlah_buku_dipinjam'].isna().sum()}\")\n",
    "\n",
    "# Jika ada NaN di kolom Jumlah_buku_dipinjam, hapus baris tersebut\n",
    "buku_000_clean = buku_000.dropna(subset=['Jumlah_buku_dipinjam'])\n",
    "\n",
    "# Langkah 2: Hitung perubahan persen antar periode\n",
    "buku_000_clean['pct_change'] = buku_000_clean['Jumlah_buku_dipinjam'].pct_change()\n",
    "\n",
    "# Langkah 3: Periksa apakah ada nilai inf atau -inf di kolom pct_change\n",
    "print(f\"Jumlah inf di kolom 'pct_change': {np.isinf(buku_000_clean['pct_change']).sum()}\")\n",
    "\n",
    "# Ganti nilai inf dengan NaN\n",
    "buku_000_clean['pct_change'].replace([np.inf, -np.inf], np.nan, inplace=True)\n",
    "\n",
    "# Hapus nilai NaN dari pct_change\n",
    "df_clean = buku_000_clean['pct_change'].dropna()\n",
    "\n",
    "# Langkah 4: Hitung standar deviasi dari perubahan persen\n",
    "std_dev = np.std(df_clean)\n",
    "\n",
    "# Langkah 5: Tampilkan standar deviasi\n",
    "print(f'Standar deviasi dari perubahan persentase: {std_dev}')\n",
    "\n",
    "# Langkah 6: Buat threshold untuk menentukan apakah data volatil atau tidak\n",
    "threshold = 0.1  # Contoh threshold 10%\n",
    "if std_dev > threshold:\n",
    "    print(\"Data dianggap volatil\")\n",
    "else:\n",
    "    print(\"Data tidak dianggap volatil\")"
   ]
  },
  {
   "cell_type": "markdown",
   "metadata": {
    "id": "UYiFa7HyPmDq"
   },
   "source": [
    "Outlier handling"
   ]
  },
  {
   "cell_type": "code",
   "execution_count": 8,
   "metadata": {
    "colab": {
     "base_uri": "https://localhost:8080/"
    },
    "executionInfo": {
     "elapsed": 2,
     "status": "ok",
     "timestamp": 1731971110484,
     "user": {
      "displayName": "Andika Ryan N",
      "userId": "01511396785984303975"
     },
     "user_tz": -420
    },
    "id": "Sk6jTdFagDz_",
    "outputId": "7b00c08f-7af3-4a9c-ce34-bf18c5516792"
   },
   "outputs": [
    {
     "name": "stdout",
     "output_type": "stream",
     "text": [
      "        Bulan  Jumlah_buku_dipinjam\n",
      "37 2020-02-01                   344\n",
      "43 2020-08-01                   311\n",
      "68 2022-09-01                   383\n",
      "69 2022-10-01                   274\n",
      "71 2022-12-01                   297\n",
      "Batas bawah: -77.0\n",
      "Batas atas: 269.0\n"
     ]
    }
   ],
   "source": [
    "# Menghitung Q1, Q3 dan IQR\n",
    "Q1 = buku_000['Jumlah_buku_dipinjam'].quantile(0.25)\n",
    "Q3 = buku_000['Jumlah_buku_dipinjam'].quantile(0.75)\n",
    "IQR = Q3 - Q1\n",
    "\n",
    "# Batas bawah dan atas untuk outlier\n",
    "lower_bound = Q1 - 1.5 * IQR\n",
    "upper_bound = Q3 + 1.5 * IQR\n",
    "buku_000\n",
    "outliers_000 = buku_000[(buku_000['Jumlah_buku_dipinjam'] < lower_bound) | (buku_000['Jumlah_buku_dipinjam'] > upper_bound)]\n",
    "\n",
    "print(outliers_000)\n",
    "# Menampilkan batas bawah dan atas\n",
    "print(f\"Batas bawah: {lower_bound}\")\n",
    "print(f\"Batas atas: {upper_bound}\")"
   ]
  },
  {
   "cell_type": "code",
   "execution_count": 9,
   "metadata": {
    "colab": {
     "base_uri": "https://localhost:8080/",
     "height": 564
    },
    "executionInfo": {
     "elapsed": 3043,
     "status": "ok",
     "timestamp": 1731971116717,
     "user": {
      "displayName": "Andika Ryan N",
      "userId": "01511396785984303975"
     },
     "user_tz": -420
    },
    "id": "za1y_fCiVmR0",
    "outputId": "bbaf4f20-c23b-4048-e41d-f021b465e042"
   },
   "outputs": [
    {
     "data": {
      "image/png": "[encoded data removed]",
      "text/plain": [
       "<Figure size 1000x600 with 1 Axes>"
      ]
     },
     "metadata": {},
     "output_type": "display_data"
    }
   ],
   "source": [
    "# Membuat boxplot untuk kolom 'Jumlah_buku_dipinjam'\n",
    "plt.figure(figsize=(10, 6))\n",
    "sns.boxplot(data=buku_000, x='Jumlah_buku_dipinjam')\n",
    "\n",
    "# Menambahkan judul dan label\n",
    "plt.title('Boxplot Jumlah Buku Dipinjam')\n",
    "plt.xlabel('Jumlah Buku Dipinjam')\n",
    "\n",
    "# Menampilkan boxplot\n",
    "plt.show()\n"
   ]
  },
  {
   "cell_type": "markdown",
   "metadata": {},
   "source": [
    "Rolling Window Median hyperparameter tuning"
   ]
  },
  {
   "cell_type": "code",
   "execution_count": 10,
   "metadata": {},
   "outputs": [
    {
     "name": "stdout",
     "output_type": "stream",
     "text": [
      "Kombinasi parameter dengan outlier terdeteksi:\n",
      "window_size      8.0\n",
      "tolerance        1.5\n",
      "num_outliers    11.0\n",
      "Name: 2, dtype: float64\n"
     ]
    }
   ],
   "source": [
    "# Rentang hyperparameter\n",
    "window_sizes = [8, 10, 12]  # Contoh rentang window size\n",
    "tolerances = [0.5, 1, 1.5]  # Contoh rentang tolerance\n",
    "\n",
    "# Simpan hasil tuning\n",
    "results = []\n",
    "\n",
    "for window_size in window_sizes:\n",
    "    for tolerance in tolerances:\n",
    "        # Rolling median dan rolling std\n",
    "        buku_000['rolling_median'] = buku_000['Jumlah_buku_dipinjam'].rolling(window=window_size, center=True).median()\n",
    "        buku_000['rolling_std'] = buku_000['Jumlah_buku_dipinjam'].rolling(window=window_size, center=True).std()\n",
    "\n",
    "        # Batas atas dan bawah\n",
    "        upper_bound = buku_000['rolling_median'] + tolerance * buku_000['rolling_std']\n",
    "        lower_bound = buku_000['rolling_median'] - tolerance * buku_000['rolling_std']\n",
    "\n",
    "        # Deteksi outlier\n",
    "        detected_outliers = (buku_000['Jumlah_buku_dipinjam'] > upper_bound) | (buku_000['Jumlah_buku_dipinjam'] < lower_bound)\n",
    "        num_outliers = detected_outliers.sum()\n",
    "\n",
    "        # Simpan hasil\n",
    "        results.append({\n",
    "            'window_size': window_size,\n",
    "            'tolerance': tolerance,\n",
    "            'num_outliers': num_outliers\n",
    "        })\n",
    "\n",
    "# Mengonversi hasil menjadi DataFrame untuk analisis\n",
    "import pandas as pd\n",
    "results_df_000 = pd.DataFrame(results)\n",
    "\n",
    "# Filter hasil untuk menampilkan hanya kombinasi dengan outlier\n",
    "outlier_results = results_df_000.sort_values(by='num_outliers').iloc[0]\n",
    "\n",
    "# Menampilkan hasil\n",
    "if not outlier_results.empty:\n",
    "    print(\"Kombinasi parameter dengan outlier terdeteksi:\")\n",
    "    print(outlier_results)\n",
    "else:\n",
    "    print(\"Tidak ada outlier yang terdeteksi untuk semua kombinasi parameter.\")\n"
   ]
  },
  {
   "cell_type": "markdown",
   "metadata": {},
   "source": [
    "Outlier handling rolling window median"
   ]
  },
  {
   "cell_type": "code",
   "execution_count": 11,
   "metadata": {
    "colab": {
     "base_uri": "https://localhost:8080/",
     "height": 478
    },
    "collapsed": true,
    "executionInfo": {
     "elapsed": 336,
     "status": "ok",
     "timestamp": 1731900907097,
     "user": {
      "displayName": "Andika Ryan N",
      "userId": "01511396785984303975"
     },
     "user_tz": -420
    },
    "id": "NBjXtdjej9E3",
    "outputId": "bb062560-b0f1-4434-89f1-0490750618f0"
   },
   "outputs": [
    {
     "name": "stderr",
     "output_type": "stream",
     "text": [
      "C:\\Users\\asus\\AppData\\Local\\Temp\\ipykernel_19736\\832479388.py:18: FutureWarning: Setting an item of incompatible dtype is deprecated and will raise an error in a future version of pandas. Value '[ 63.5  63.5 183.  111.5  81.5 136.5 147.5 100.   93.   98.5  99.5]' has dtype incompatible with int64, please explicitly cast to a compatible dtype first.\n",
      "  buku_000.loc[outliers, 'Jumlah_buku_dipinjam'] = buku_000.loc[outliers, 'rolling_median']\n"
     ]
    },
    {
     "data": {
      "text/html": [
       "<div>\n",
       "<style scoped>\n",
       "    .dataframe tbody tr th:only-of-type {\n",
       "        vertical-align: middle;\n",
       "    }\n",
       "\n",
       "    .dataframe tbody tr th {\n",
       "        vertical-align: top;\n",
       "    }\n",
       "\n",
       "    .dataframe thead th {\n",
       "        text-align: right;\n",
       "    }\n",
       "</style>\n",
       "<table border=\"1\" class=\"dataframe\">\n",
       "  <thead>\n",
       "    <tr style=\"text-align: right;\">\n",
       "      <th></th>\n",
       "      <th>Bulan</th>\n",
       "      <th>Jumlah_buku_dipinjam</th>\n",
       "    </tr>\n",
       "  </thead>\n",
       "  <tbody>\n",
       "    <tr>\n",
       "      <th>0</th>\n",
       "      <td>2017-01-01</td>\n",
       "      <td>49.0</td>\n",
       "    </tr>\n",
       "    <tr>\n",
       "      <th>1</th>\n",
       "      <td>2017-02-01</td>\n",
       "      <td>44.0</td>\n",
       "    </tr>\n",
       "    <tr>\n",
       "      <th>2</th>\n",
       "      <td>2017-03-01</td>\n",
       "      <td>83.0</td>\n",
       "    </tr>\n",
       "    <tr>\n",
       "      <th>3</th>\n",
       "      <td>2017-04-01</td>\n",
       "      <td>65.0</td>\n",
       "    </tr>\n",
       "    <tr>\n",
       "      <th>4</th>\n",
       "      <td>2017-05-01</td>\n",
       "      <td>49.0</td>\n",
       "    </tr>\n",
       "    <tr>\n",
       "      <th>...</th>\n",
       "      <td>...</td>\n",
       "      <td>...</td>\n",
       "    </tr>\n",
       "    <tr>\n",
       "      <th>87</th>\n",
       "      <td>2024-04-01</td>\n",
       "      <td>93.0</td>\n",
       "    </tr>\n",
       "    <tr>\n",
       "      <th>88</th>\n",
       "      <td>2024-05-01</td>\n",
       "      <td>54.0</td>\n",
       "    </tr>\n",
       "    <tr>\n",
       "      <th>89</th>\n",
       "      <td>2024-06-01</td>\n",
       "      <td>29.0</td>\n",
       "    </tr>\n",
       "    <tr>\n",
       "      <th>90</th>\n",
       "      <td>2024-07-01</td>\n",
       "      <td>67.0</td>\n",
       "    </tr>\n",
       "    <tr>\n",
       "      <th>91</th>\n",
       "      <td>2024-08-01</td>\n",
       "      <td>109.0</td>\n",
       "    </tr>\n",
       "  </tbody>\n",
       "</table>\n",
       "<p>92 rows × 2 columns</p>\n",
       "</div>"
      ],
      "text/plain": [
       "        Bulan  Jumlah_buku_dipinjam\n",
       "0  2017-01-01                  49.0\n",
       "1  2017-02-01                  44.0\n",
       "2  2017-03-01                  83.0\n",
       "3  2017-04-01                  65.0\n",
       "4  2017-05-01                  49.0\n",
       "..        ...                   ...\n",
       "87 2024-04-01                  93.0\n",
       "88 2024-05-01                  54.0\n",
       "89 2024-06-01                  29.0\n",
       "90 2024-07-01                  67.0\n",
       "91 2024-08-01                 109.0\n",
       "\n",
       "[92 rows x 2 columns]"
      ]
     },
     "execution_count": 11,
     "metadata": {},
     "output_type": "execute_result"
    }
   ],
   "source": [
    "# Menghitung Moving Average atau Median\n",
    "window_size = 8\n",
    "# Menghitung Rolling Median\n",
    "buku_000['rolling_median'] = buku_000['Jumlah_buku_dipinjam'].rolling(window=window_size, center=True).median()\n",
    "\n",
    "# Menghitung batas toleransi outlier (misalnya 2 standar deviasi)\n",
    "buku_000['rolling_std'] = buku_000['Jumlah_buku_dipinjam'].rolling(window=window_size, center=True).std()\n",
    "\n",
    "# Batas atas dan bawah untuk deteksi outlier\n",
    "tolerance = 1.5 # multiplier untuk standar deviasi\n",
    "upper_bound = buku_000['rolling_median'] + tolerance * buku_000['rolling_std']\n",
    "lower_bound = buku_000['rolling_median'] - tolerance * buku_000['rolling_std']\n",
    "\n",
    "# Deteksi outlier\n",
    "outliers = (buku_000['Jumlah_buku_dipinjam'] > upper_bound) | (buku_000['Jumlah_buku_dipinjam'] < lower_bound)\n",
    "\n",
    "# Ganti outlier dengan rolling median\n",
    "buku_000.loc[outliers, 'Jumlah_buku_dipinjam'] = buku_000.loc[outliers, 'rolling_median']\n",
    "\n",
    "# Drop kolom rolling mean dan rolling std (opsional)\n",
    "buku_000.drop(columns=['rolling_median', 'rolling_std'], inplace=True)\n",
    "\n",
    "buku_000"
   ]
  },
  {
   "cell_type": "markdown",
   "metadata": {},
   "source": [
    "Plotting data setelah outlier handling"
   ]
  },
  {
   "cell_type": "code",
   "execution_count": 12,
   "metadata": {
    "colab": {
     "base_uri": "https://localhost:8080/",
     "height": 472
    },
    "executionInfo": {
     "elapsed": 918,
     "status": "ok",
     "timestamp": 1731900922880,
     "user": {
      "displayName": "Andika Ryan N",
      "userId": "01511396785984303975"
     },
     "user_tz": -420
    },
    "id": "lGeEmjM2kbzG",
    "outputId": "d4b6996f-a61b-4ef9-91f8-d63947e5a89d"
   },
   "outputs": [
    {
     "data": {
      "image/png": "[encoded data removed]",
      "text/plain": [
       "<Figure size 640x480 with 1 Axes>"
      ]
     },
     "metadata": {},
     "output_type": "display_data"
    }
   ],
   "source": [
    "buku_000.plot(x='Bulan', y='Jumlah_buku_dipinjam', kind='line')\n",
    "plt.title('Jumlah Peminjaman Buku')\n",
    "plt.xlabel('Tanggal')\n",
    "plt.ylabel('Jumlah Peminjaman')\n",
    "plt.show()"
   ]
  },
  {
   "cell_type": "markdown",
   "metadata": {},
   "source": [
    "Data split 70:30"
   ]
  },
  {
   "cell_type": "markdown",
   "metadata": {},
   "source": [
    "Hyperparameter Tunning"
   ]
  },
  {
   "cell_type": "code",
   "execution_count": 16,
   "metadata": {},
   "outputs": [
    {
     "name": "stdout",
     "output_type": "stream",
     "text": [
      "Testing combination: {'activation': 'relu', 'batch_size': 16, 'epochs': 50, 'filters': 32, 'kernel_size': 1, 'units': 50}\n"
     ]
    },
    {
     "name": "stderr",
     "output_type": "stream",
     "text": [
      "c:\\Users\\asus\\AppData\\Local\\Programs\\Python\\Python310\\lib\\site-packages\\keras\\src\\layers\\convolutional\\base_conv.py:107: UserWarning: Do not pass an `input_shape`/`input_dim` argument to a layer. When using Sequential models, prefer using an `Input(shape)` object as the first layer in the model instead.\n",
      "  super().__init__(activity_regularizer=activity_regularizer, **kwargs)\n"
     ]
    },
    {
     "name": "stdout",
     "output_type": "stream",
     "text": [
      "\u001b[1m1/1\u001b[0m \u001b[32m━━━━━━━━━━━━━━━━━━━━\u001b[0m\u001b[37m\u001b[0m \u001b[1m0s\u001b[0m 170ms/step\n",
      "RMSE: 1.690204158661094\n",
      "Testing combination: {'activation': 'relu', 'batch_size': 16, 'epochs': 50, 'filters': 32, 'kernel_size': 1, 'units': 100}\n"
     ]
    },
    {
     "name": "stderr",
     "output_type": "stream",
     "text": [
      "c:\\Users\\asus\\AppData\\Local\\Programs\\Python\\Python310\\lib\\site-packages\\keras\\src\\layers\\convolutional\\base_conv.py:107: UserWarning: Do not pass an `input_shape`/`input_dim` argument to a layer. When using Sequential models, prefer using an `Input(shape)` object as the first layer in the model instead.\n",
      "  super().__init__(activity_regularizer=activity_regularizer, **kwargs)\n"
     ]
    },
    {
     "name": "stdout",
     "output_type": "stream",
     "text": [
      "\u001b[1m1/1\u001b[0m \u001b[32m━━━━━━━━━━━━━━━━━━━━\u001b[0m\u001b[37m\u001b[0m \u001b[1m0s\u001b[0m 187ms/step\n",
      "RMSE: 9.63652475499517\n",
      "Testing combination: {'activation': 'relu', 'batch_size': 16, 'epochs': 50, 'filters': 32, 'kernel_size': 2, 'units': 50}\n"
     ]
    },
    {
     "name": "stderr",
     "output_type": "stream",
     "text": [
      "c:\\Users\\asus\\AppData\\Local\\Programs\\Python\\Python310\\lib\\site-packages\\keras\\src\\layers\\convolutional\\base_conv.py:107: UserWarning: Do not pass an `input_shape`/`input_dim` argument to a layer. When using Sequential models, prefer using an `Input(shape)` object as the first layer in the model instead.\n",
      "  super().__init__(activity_regularizer=activity_regularizer, **kwargs)\n"
     ]
    },
    {
     "name": "stdout",
     "output_type": "stream",
     "text": [
      "\u001b[1m1/1\u001b[0m \u001b[32m━━━━━━━━━━━━━━━━━━━━\u001b[0m\u001b[37m\u001b[0m \u001b[1m0s\u001b[0m 166ms/step\n",
      "RMSE: 3.6664649940031917\n",
      "Testing combination: {'activation': 'relu', 'batch_size': 16, 'epochs': 50, 'filters': 32, 'kernel_size': 2, 'units': 100}\n"
     ]
    },
    {
     "name": "stderr",
     "output_type": "stream",
     "text": [
      "c:\\Users\\asus\\AppData\\Local\\Programs\\Python\\Python310\\lib\\site-packages\\keras\\src\\layers\\convolutional\\base_conv.py:107: UserWarning: Do not pass an `input_shape`/`input_dim` argument to a layer. When using Sequential models, prefer using an `Input(shape)` object as the first layer in the model instead.\n",
      "  super().__init__(activity_regularizer=activity_regularizer, **kwargs)\n"
     ]
    },
    {
     "name": "stdout",
     "output_type": "stream",
     "text": [
      "\u001b[1m1/1\u001b[0m \u001b[32m━━━━━━━━━━━━━━━━━━━━\u001b[0m\u001b[37m\u001b[0m \u001b[1m0s\u001b[0m 160ms/step\n",
      "RMSE: 0.4620468400252326\n",
      "Testing combination: {'activation': 'relu', 'batch_size': 16, 'epochs': 50, 'filters': 32, 'kernel_size': 3, 'units': 50}\n"
     ]
    },
    {
     "name": "stderr",
     "output_type": "stream",
     "text": [
      "c:\\Users\\asus\\AppData\\Local\\Programs\\Python\\Python310\\lib\\site-packages\\keras\\src\\layers\\convolutional\\base_conv.py:107: UserWarning: Do not pass an `input_shape`/`input_dim` argument to a layer. When using Sequential models, prefer using an `Input(shape)` object as the first layer in the model instead.\n",
      "  super().__init__(activity_regularizer=activity_regularizer, **kwargs)\n"
     ]
    },
    {
     "name": "stdout",
     "output_type": "stream",
     "text": [
      "\u001b[1m1/1\u001b[0m \u001b[32m━━━━━━━━━━━━━━━━━━━━\u001b[0m\u001b[37m\u001b[0m \u001b[1m0s\u001b[0m 167ms/step\n",
      "RMSE: 1.4586354120709049\n",
      "Testing combination: {'activation': 'relu', 'batch_size': 16, 'epochs': 50, 'filters': 32, 'kernel_size': 3, 'units': 100}\n"
     ]
    },
    {
     "name": "stderr",
     "output_type": "stream",
     "text": [
      "c:\\Users\\asus\\AppData\\Local\\Programs\\Python\\Python310\\lib\\site-packages\\keras\\src\\layers\\convolutional\\base_conv.py:107: UserWarning: Do not pass an `input_shape`/`input_dim` argument to a layer. When using Sequential models, prefer using an `Input(shape)` object as the first layer in the model instead.\n",
      "  super().__init__(activity_regularizer=activity_regularizer, **kwargs)\n"
     ]
    },
    {
     "name": "stdout",
     "output_type": "stream",
     "text": [
      "\u001b[1m1/1\u001b[0m \u001b[32m━━━━━━━━━━━━━━━━━━━━\u001b[0m\u001b[37m\u001b[0m \u001b[1m0s\u001b[0m 177ms/step\n",
      "RMSE: 0.7760385794139955\n",
      "Testing combination: {'activation': 'relu', 'batch_size': 16, 'epochs': 50, 'filters': 64, 'kernel_size': 1, 'units': 50}\n"
     ]
    },
    {
     "name": "stderr",
     "output_type": "stream",
     "text": [
      "c:\\Users\\asus\\AppData\\Local\\Programs\\Python\\Python310\\lib\\site-packages\\keras\\src\\layers\\convolutional\\base_conv.py:107: UserWarning: Do not pass an `input_shape`/`input_dim` argument to a layer. When using Sequential models, prefer using an `Input(shape)` object as the first layer in the model instead.\n",
      "  super().__init__(activity_regularizer=activity_regularizer, **kwargs)\n"
     ]
    },
    {
     "name": "stdout",
     "output_type": "stream",
     "text": [
      "\u001b[1m1/1\u001b[0m \u001b[32m━━━━━━━━━━━━━━━━━━━━\u001b[0m\u001b[37m\u001b[0m \u001b[1m0s\u001b[0m 167ms/step\n",
      "RMSE: 1.1950483692633764\n",
      "Testing combination: {'activation': 'relu', 'batch_size': 16, 'epochs': 50, 'filters': 64, 'kernel_size': 1, 'units': 100}\n"
     ]
    },
    {
     "name": "stderr",
     "output_type": "stream",
     "text": [
      "c:\\Users\\asus\\AppData\\Local\\Programs\\Python\\Python310\\lib\\site-packages\\keras\\src\\layers\\convolutional\\base_conv.py:107: UserWarning: Do not pass an `input_shape`/`input_dim` argument to a layer. When using Sequential models, prefer using an `Input(shape)` object as the first layer in the model instead.\n",
      "  super().__init__(activity_regularizer=activity_regularizer, **kwargs)\n"
     ]
    },
    {
     "name": "stdout",
     "output_type": "stream",
     "text": [
      "\u001b[1m1/1\u001b[0m \u001b[32m━━━━━━━━━━━━━━━━━━━━\u001b[0m\u001b[37m\u001b[0m \u001b[1m0s\u001b[0m 158ms/step\n",
      "RMSE: 0.7947045933557128\n",
      "Testing combination: {'activation': 'relu', 'batch_size': 16, 'epochs': 50, 'filters': 64, 'kernel_size': 2, 'units': 50}\n"
     ]
    },
    {
     "name": "stderr",
     "output_type": "stream",
     "text": [
      "c:\\Users\\asus\\AppData\\Local\\Programs\\Python\\Python310\\lib\\site-packages\\keras\\src\\layers\\convolutional\\base_conv.py:107: UserWarning: Do not pass an `input_shape`/`input_dim` argument to a layer. When using Sequential models, prefer using an `Input(shape)` object as the first layer in the model instead.\n",
      "  super().__init__(activity_regularizer=activity_regularizer, **kwargs)\n"
     ]
    },
    {
     "name": "stdout",
     "output_type": "stream",
     "text": [
      "\u001b[1m1/1\u001b[0m \u001b[32m━━━━━━━━━━━━━━━━━━━━\u001b[0m\u001b[37m\u001b[0m \u001b[1m0s\u001b[0m 158ms/step\n",
      "RMSE: 2.1931144467370762\n",
      "Testing combination: {'activation': 'relu', 'batch_size': 16, 'epochs': 50, 'filters': 64, 'kernel_size': 2, 'units': 100}\n"
     ]
    },
    {
     "name": "stderr",
     "output_type": "stream",
     "text": [
      "c:\\Users\\asus\\AppData\\Local\\Programs\\Python\\Python310\\lib\\site-packages\\keras\\src\\layers\\convolutional\\base_conv.py:107: UserWarning: Do not pass an `input_shape`/`input_dim` argument to a layer. When using Sequential models, prefer using an `Input(shape)` object as the first layer in the model instead.\n",
      "  super().__init__(activity_regularizer=activity_regularizer, **kwargs)\n"
     ]
    },
    {
     "name": "stdout",
     "output_type": "stream",
     "text": [
      "\u001b[1m1/1\u001b[0m \u001b[32m━━━━━━━━━━━━━━━━━━━━\u001b[0m\u001b[37m\u001b[0m \u001b[1m0s\u001b[0m 157ms/step\n",
      "RMSE: 1.7840901009869383\n",
      "Testing combination: {'activation': 'relu', 'batch_size': 16, 'epochs': 50, 'filters': 64, 'kernel_size': 3, 'units': 50}\n"
     ]
    },
    {
     "name": "stderr",
     "output_type": "stream",
     "text": [
      "c:\\Users\\asus\\AppData\\Local\\Programs\\Python\\Python310\\lib\\site-packages\\keras\\src\\layers\\convolutional\\base_conv.py:107: UserWarning: Do not pass an `input_shape`/`input_dim` argument to a layer. When using Sequential models, prefer using an `Input(shape)` object as the first layer in the model instead.\n",
      "  super().__init__(activity_regularizer=activity_regularizer, **kwargs)\n"
     ]
    },
    {
     "name": "stdout",
     "output_type": "stream",
     "text": [
      "\u001b[1m1/1\u001b[0m \u001b[32m━━━━━━━━━━━━━━━━━━━━\u001b[0m\u001b[37m\u001b[0m \u001b[1m0s\u001b[0m 164ms/step\n",
      "RMSE: 1.1510243403593063\n",
      "Testing combination: {'activation': 'relu', 'batch_size': 16, 'epochs': 50, 'filters': 64, 'kernel_size': 3, 'units': 100}\n"
     ]
    },
    {
     "name": "stderr",
     "output_type": "stream",
     "text": [
      "c:\\Users\\asus\\AppData\\Local\\Programs\\Python\\Python310\\lib\\site-packages\\keras\\src\\layers\\convolutional\\base_conv.py:107: UserWarning: Do not pass an `input_shape`/`input_dim` argument to a layer. When using Sequential models, prefer using an `Input(shape)` object as the first layer in the model instead.\n",
      "  super().__init__(activity_regularizer=activity_regularizer, **kwargs)\n"
     ]
    },
    {
     "name": "stdout",
     "output_type": "stream",
     "text": [
      "\u001b[1m1/1\u001b[0m \u001b[32m━━━━━━━━━━━━━━━━━━━━\u001b[0m\u001b[37m\u001b[0m \u001b[1m0s\u001b[0m 162ms/step\n",
      "RMSE: 2.037244905526877\n",
      "Testing combination: {'activation': 'relu', 'batch_size': 16, 'epochs': 100, 'filters': 32, 'kernel_size': 1, 'units': 50}\n"
     ]
    },
    {
     "name": "stderr",
     "output_type": "stream",
     "text": [
      "c:\\Users\\asus\\AppData\\Local\\Programs\\Python\\Python310\\lib\\site-packages\\keras\\src\\layers\\convolutional\\base_conv.py:107: UserWarning: Do not pass an `input_shape`/`input_dim` argument to a layer. When using Sequential models, prefer using an `Input(shape)` object as the first layer in the model instead.\n",
      "  super().__init__(activity_regularizer=activity_regularizer, **kwargs)\n"
     ]
    },
    {
     "name": "stdout",
     "output_type": "stream",
     "text": [
      "\u001b[1m1/1\u001b[0m \u001b[32m━━━━━━━━━━━━━━━━━━━━\u001b[0m\u001b[37m\u001b[0m \u001b[1m0s\u001b[0m 161ms/step\n",
      "RMSE: 1.345974269417562\n",
      "Testing combination: {'activation': 'relu', 'batch_size': 16, 'epochs': 100, 'filters': 32, 'kernel_size': 1, 'units': 100}\n"
     ]
    },
    {
     "name": "stderr",
     "output_type": "stream",
     "text": [
      "c:\\Users\\asus\\AppData\\Local\\Programs\\Python\\Python310\\lib\\site-packages\\keras\\src\\layers\\convolutional\\base_conv.py:107: UserWarning: Do not pass an `input_shape`/`input_dim` argument to a layer. When using Sequential models, prefer using an `Input(shape)` object as the first layer in the model instead.\n",
      "  super().__init__(activity_regularizer=activity_regularizer, **kwargs)\n"
     ]
    },
    {
     "name": "stdout",
     "output_type": "stream",
     "text": [
      "\u001b[1m1/1\u001b[0m \u001b[32m━━━━━━━━━━━━━━━━━━━━\u001b[0m\u001b[37m\u001b[0m \u001b[1m0s\u001b[0m 160ms/step\n",
      "RMSE: 0.4480290518217651\n",
      "Testing combination: {'activation': 'relu', 'batch_size': 16, 'epochs': 100, 'filters': 32, 'kernel_size': 2, 'units': 50}\n"
     ]
    },
    {
     "name": "stderr",
     "output_type": "stream",
     "text": [
      "c:\\Users\\asus\\AppData\\Local\\Programs\\Python\\Python310\\lib\\site-packages\\keras\\src\\layers\\convolutional\\base_conv.py:107: UserWarning: Do not pass an `input_shape`/`input_dim` argument to a layer. When using Sequential models, prefer using an `Input(shape)` object as the first layer in the model instead.\n",
      "  super().__init__(activity_regularizer=activity_regularizer, **kwargs)\n"
     ]
    },
    {
     "name": "stdout",
     "output_type": "stream",
     "text": [
      "\u001b[1m1/1\u001b[0m \u001b[32m━━━━━━━━━━━━━━━━━━━━\u001b[0m\u001b[37m\u001b[0m \u001b[1m0s\u001b[0m 161ms/step\n",
      "RMSE: 1.3175810435929591\n",
      "Testing combination: {'activation': 'relu', 'batch_size': 16, 'epochs': 100, 'filters': 32, 'kernel_size': 2, 'units': 100}\n"
     ]
    },
    {
     "name": "stderr",
     "output_type": "stream",
     "text": [
      "c:\\Users\\asus\\AppData\\Local\\Programs\\Python\\Python310\\lib\\site-packages\\keras\\src\\layers\\convolutional\\base_conv.py:107: UserWarning: Do not pass an `input_shape`/`input_dim` argument to a layer. When using Sequential models, prefer using an `Input(shape)` object as the first layer in the model instead.\n",
      "  super().__init__(activity_regularizer=activity_regularizer, **kwargs)\n"
     ]
    },
    {
     "name": "stdout",
     "output_type": "stream",
     "text": [
      "\u001b[1m1/1\u001b[0m \u001b[32m━━━━━━━━━━━━━━━━━━━━\u001b[0m\u001b[37m\u001b[0m \u001b[1m0s\u001b[0m 163ms/step\n",
      "RMSE: 1.7407730691163095\n",
      "Testing combination: {'activation': 'relu', 'batch_size': 16, 'epochs': 100, 'filters': 32, 'kernel_size': 3, 'units': 50}\n"
     ]
    },
    {
     "name": "stderr",
     "output_type": "stream",
     "text": [
      "c:\\Users\\asus\\AppData\\Local\\Programs\\Python\\Python310\\lib\\site-packages\\keras\\src\\layers\\convolutional\\base_conv.py:107: UserWarning: Do not pass an `input_shape`/`input_dim` argument to a layer. When using Sequential models, prefer using an `Input(shape)` object as the first layer in the model instead.\n",
      "  super().__init__(activity_regularizer=activity_regularizer, **kwargs)\n"
     ]
    },
    {
     "name": "stdout",
     "output_type": "stream",
     "text": [
      "\u001b[1m1/1\u001b[0m \u001b[32m━━━━━━━━━━━━━━━━━━━━\u001b[0m\u001b[37m\u001b[0m \u001b[1m0s\u001b[0m 220ms/step\n",
      "RMSE: 5.451391965558739\n",
      "Testing combination: {'activation': 'relu', 'batch_size': 16, 'epochs': 100, 'filters': 32, 'kernel_size': 3, 'units': 100}\n"
     ]
    },
    {
     "name": "stderr",
     "output_type": "stream",
     "text": [
      "c:\\Users\\asus\\AppData\\Local\\Programs\\Python\\Python310\\lib\\site-packages\\keras\\src\\layers\\convolutional\\base_conv.py:107: UserWarning: Do not pass an `input_shape`/`input_dim` argument to a layer. When using Sequential models, prefer using an `Input(shape)` object as the first layer in the model instead.\n",
      "  super().__init__(activity_regularizer=activity_regularizer, **kwargs)\n"
     ]
    },
    {
     "name": "stdout",
     "output_type": "stream",
     "text": [
      "\u001b[1m1/1\u001b[0m \u001b[32m━━━━━━━━━━━━━━━━━━━━\u001b[0m\u001b[37m\u001b[0m \u001b[1m0s\u001b[0m 164ms/step\n",
      "RMSE: 0.9095546002854613\n",
      "Testing combination: {'activation': 'relu', 'batch_size': 16, 'epochs': 100, 'filters': 64, 'kernel_size': 1, 'units': 50}\n"
     ]
    },
    {
     "name": "stderr",
     "output_type": "stream",
     "text": [
      "c:\\Users\\asus\\AppData\\Local\\Programs\\Python\\Python310\\lib\\site-packages\\keras\\src\\layers\\convolutional\\base_conv.py:107: UserWarning: Do not pass an `input_shape`/`input_dim` argument to a layer. When using Sequential models, prefer using an `Input(shape)` object as the first layer in the model instead.\n",
      "  super().__init__(activity_regularizer=activity_regularizer, **kwargs)\n"
     ]
    },
    {
     "name": "stdout",
     "output_type": "stream",
     "text": [
      "\u001b[1m1/1\u001b[0m \u001b[32m━━━━━━━━━━━━━━━━━━━━\u001b[0m\u001b[37m\u001b[0m \u001b[1m0s\u001b[0m 163ms/step\n",
      "RMSE: 0.8148038644449008\n",
      "Testing combination: {'activation': 'relu', 'batch_size': 16, 'epochs': 100, 'filters': 64, 'kernel_size': 1, 'units': 100}\n"
     ]
    },
    {
     "name": "stderr",
     "output_type": "stream",
     "text": [
      "c:\\Users\\asus\\AppData\\Local\\Programs\\Python\\Python310\\lib\\site-packages\\keras\\src\\layers\\convolutional\\base_conv.py:107: UserWarning: Do not pass an `input_shape`/`input_dim` argument to a layer. When using Sequential models, prefer using an `Input(shape)` object as the first layer in the model instead.\n",
      "  super().__init__(activity_regularizer=activity_regularizer, **kwargs)\n"
     ]
    },
    {
     "name": "stdout",
     "output_type": "stream",
     "text": [
      "\u001b[1m1/1\u001b[0m \u001b[32m━━━━━━━━━━━━━━━━━━━━\u001b[0m\u001b[37m\u001b[0m \u001b[1m0s\u001b[0m 161ms/step\n",
      "RMSE: 1.8409221793153925\n",
      "Testing combination: {'activation': 'relu', 'batch_size': 16, 'epochs': 100, 'filters': 64, 'kernel_size': 2, 'units': 50}\n"
     ]
    },
    {
     "name": "stderr",
     "output_type": "stream",
     "text": [
      "c:\\Users\\asus\\AppData\\Local\\Programs\\Python\\Python310\\lib\\site-packages\\keras\\src\\layers\\convolutional\\base_conv.py:107: UserWarning: Do not pass an `input_shape`/`input_dim` argument to a layer. When using Sequential models, prefer using an `Input(shape)` object as the first layer in the model instead.\n",
      "  super().__init__(activity_regularizer=activity_regularizer, **kwargs)\n"
     ]
    },
    {
     "name": "stdout",
     "output_type": "stream",
     "text": [
      "\u001b[1m1/1\u001b[0m \u001b[32m━━━━━━━━━━━━━━━━━━━━\u001b[0m\u001b[37m\u001b[0m \u001b[1m0s\u001b[0m 163ms/step\n",
      "RMSE: 0.7146039091606177\n",
      "Testing combination: {'activation': 'relu', 'batch_size': 16, 'epochs': 100, 'filters': 64, 'kernel_size': 2, 'units': 100}\n"
     ]
    },
    {
     "name": "stderr",
     "output_type": "stream",
     "text": [
      "c:\\Users\\asus\\AppData\\Local\\Programs\\Python\\Python310\\lib\\site-packages\\keras\\src\\layers\\convolutional\\base_conv.py:107: UserWarning: Do not pass an `input_shape`/`input_dim` argument to a layer. When using Sequential models, prefer using an `Input(shape)` object as the first layer in the model instead.\n",
      "  super().__init__(activity_regularizer=activity_regularizer, **kwargs)\n"
     ]
    },
    {
     "name": "stdout",
     "output_type": "stream",
     "text": [
      "\u001b[1m1/1\u001b[0m \u001b[32m━━━━━━━━━━━━━━━━━━━━\u001b[0m\u001b[37m\u001b[0m \u001b[1m0s\u001b[0m 175ms/step\n",
      "RMSE: 0.6723046227662023\n",
      "Testing combination: {'activation': 'relu', 'batch_size': 16, 'epochs': 100, 'filters': 64, 'kernel_size': 3, 'units': 50}\n"
     ]
    },
    {
     "name": "stderr",
     "output_type": "stream",
     "text": [
      "c:\\Users\\asus\\AppData\\Local\\Programs\\Python\\Python310\\lib\\site-packages\\keras\\src\\layers\\convolutional\\base_conv.py:107: UserWarning: Do not pass an `input_shape`/`input_dim` argument to a layer. When using Sequential models, prefer using an `Input(shape)` object as the first layer in the model instead.\n",
      "  super().__init__(activity_regularizer=activity_regularizer, **kwargs)\n"
     ]
    },
    {
     "name": "stdout",
     "output_type": "stream",
     "text": [
      "\u001b[1m1/1\u001b[0m \u001b[32m━━━━━━━━━━━━━━━━━━━━\u001b[0m\u001b[37m\u001b[0m \u001b[1m0s\u001b[0m 162ms/step\n",
      "RMSE: 1.4071290618738836\n",
      "Testing combination: {'activation': 'relu', 'batch_size': 16, 'epochs': 100, 'filters': 64, 'kernel_size': 3, 'units': 100}\n"
     ]
    },
    {
     "name": "stderr",
     "output_type": "stream",
     "text": [
      "c:\\Users\\asus\\AppData\\Local\\Programs\\Python\\Python310\\lib\\site-packages\\keras\\src\\layers\\convolutional\\base_conv.py:107: UserWarning: Do not pass an `input_shape`/`input_dim` argument to a layer. When using Sequential models, prefer using an `Input(shape)` object as the first layer in the model instead.\n",
      "  super().__init__(activity_regularizer=activity_regularizer, **kwargs)\n"
     ]
    },
    {
     "name": "stdout",
     "output_type": "stream",
     "text": [
      "\u001b[1m1/1\u001b[0m \u001b[32m━━━━━━━━━━━━━━━━━━━━\u001b[0m\u001b[37m\u001b[0m \u001b[1m0s\u001b[0m 163ms/step\n",
      "RMSE: 6.753157305031007\n",
      "Testing combination: {'activation': 'relu', 'batch_size': 32, 'epochs': 50, 'filters': 32, 'kernel_size': 1, 'units': 50}\n"
     ]
    },
    {
     "name": "stderr",
     "output_type": "stream",
     "text": [
      "c:\\Users\\asus\\AppData\\Local\\Programs\\Python\\Python310\\lib\\site-packages\\keras\\src\\layers\\convolutional\\base_conv.py:107: UserWarning: Do not pass an `input_shape`/`input_dim` argument to a layer. When using Sequential models, prefer using an `Input(shape)` object as the first layer in the model instead.\n",
      "  super().__init__(activity_regularizer=activity_regularizer, **kwargs)\n"
     ]
    },
    {
     "name": "stdout",
     "output_type": "stream",
     "text": [
      "\u001b[1m1/1\u001b[0m \u001b[32m━━━━━━━━━━━━━━━━━━━━\u001b[0m\u001b[37m\u001b[0m \u001b[1m0s\u001b[0m 164ms/step\n",
      "RMSE: 5.538251522635823\n",
      "Testing combination: {'activation': 'relu', 'batch_size': 32, 'epochs': 50, 'filters': 32, 'kernel_size': 1, 'units': 100}\n"
     ]
    },
    {
     "name": "stderr",
     "output_type": "stream",
     "text": [
      "c:\\Users\\asus\\AppData\\Local\\Programs\\Python\\Python310\\lib\\site-packages\\keras\\src\\layers\\convolutional\\base_conv.py:107: UserWarning: Do not pass an `input_shape`/`input_dim` argument to a layer. When using Sequential models, prefer using an `Input(shape)` object as the first layer in the model instead.\n",
      "  super().__init__(activity_regularizer=activity_regularizer, **kwargs)\n"
     ]
    },
    {
     "name": "stdout",
     "output_type": "stream",
     "text": [
      "\u001b[1m1/1\u001b[0m \u001b[32m━━━━━━━━━━━━━━━━━━━━\u001b[0m\u001b[37m\u001b[0m \u001b[1m0s\u001b[0m 170ms/step\n",
      "RMSE: 5.241922420109338\n",
      "Testing combination: {'activation': 'relu', 'batch_size': 32, 'epochs': 50, 'filters': 32, 'kernel_size': 2, 'units': 50}\n"
     ]
    },
    {
     "name": "stderr",
     "output_type": "stream",
     "text": [
      "c:\\Users\\asus\\AppData\\Local\\Programs\\Python\\Python310\\lib\\site-packages\\keras\\src\\layers\\convolutional\\base_conv.py:107: UserWarning: Do not pass an `input_shape`/`input_dim` argument to a layer. When using Sequential models, prefer using an `Input(shape)` object as the first layer in the model instead.\n",
      "  super().__init__(activity_regularizer=activity_regularizer, **kwargs)\n"
     ]
    },
    {
     "name": "stdout",
     "output_type": "stream",
     "text": [
      "\u001b[1m1/1\u001b[0m \u001b[32m━━━━━━━━━━━━━━━━━━━━\u001b[0m\u001b[37m\u001b[0m \u001b[1m0s\u001b[0m 161ms/step\n",
      "RMSE: 1.5761979511755568\n",
      "Testing combination: {'activation': 'relu', 'batch_size': 32, 'epochs': 50, 'filters': 32, 'kernel_size': 2, 'units': 100}\n"
     ]
    },
    {
     "name": "stderr",
     "output_type": "stream",
     "text": [
      "c:\\Users\\asus\\AppData\\Local\\Programs\\Python\\Python310\\lib\\site-packages\\keras\\src\\layers\\convolutional\\base_conv.py:107: UserWarning: Do not pass an `input_shape`/`input_dim` argument to a layer. When using Sequential models, prefer using an `Input(shape)` object as the first layer in the model instead.\n",
      "  super().__init__(activity_regularizer=activity_regularizer, **kwargs)\n"
     ]
    },
    {
     "name": "stdout",
     "output_type": "stream",
     "text": [
      "\u001b[1m1/1\u001b[0m \u001b[32m━━━━━━━━━━━━━━━━━━━━\u001b[0m\u001b[37m\u001b[0m \u001b[1m0s\u001b[0m 163ms/step\n",
      "RMSE: 13.801957396909259\n",
      "Testing combination: {'activation': 'relu', 'batch_size': 32, 'epochs': 50, 'filters': 32, 'kernel_size': 3, 'units': 50}\n"
     ]
    },
    {
     "name": "stderr",
     "output_type": "stream",
     "text": [
      "c:\\Users\\asus\\AppData\\Local\\Programs\\Python\\Python310\\lib\\site-packages\\keras\\src\\layers\\convolutional\\base_conv.py:107: UserWarning: Do not pass an `input_shape`/`input_dim` argument to a layer. When using Sequential models, prefer using an `Input(shape)` object as the first layer in the model instead.\n",
      "  super().__init__(activity_regularizer=activity_regularizer, **kwargs)\n"
     ]
    },
    {
     "name": "stdout",
     "output_type": "stream",
     "text": [
      "\u001b[1m1/1\u001b[0m \u001b[32m━━━━━━━━━━━━━━━━━━━━\u001b[0m\u001b[37m\u001b[0m \u001b[1m0s\u001b[0m 187ms/step\n",
      "RMSE: 4.061867394535105\n",
      "Testing combination: {'activation': 'relu', 'batch_size': 32, 'epochs': 50, 'filters': 32, 'kernel_size': 3, 'units': 100}\n"
     ]
    },
    {
     "name": "stderr",
     "output_type": "stream",
     "text": [
      "c:\\Users\\asus\\AppData\\Local\\Programs\\Python\\Python310\\lib\\site-packages\\keras\\src\\layers\\convolutional\\base_conv.py:107: UserWarning: Do not pass an `input_shape`/`input_dim` argument to a layer. When using Sequential models, prefer using an `Input(shape)` object as the first layer in the model instead.\n",
      "  super().__init__(activity_regularizer=activity_regularizer, **kwargs)\n"
     ]
    },
    {
     "name": "stdout",
     "output_type": "stream",
     "text": [
      "\u001b[1m1/1\u001b[0m \u001b[32m━━━━━━━━━━━━━━━━━━━━\u001b[0m\u001b[37m\u001b[0m \u001b[1m0s\u001b[0m 160ms/step\n",
      "RMSE: 4.929402662020447\n",
      "Testing combination: {'activation': 'relu', 'batch_size': 32, 'epochs': 50, 'filters': 64, 'kernel_size': 1, 'units': 50}\n"
     ]
    },
    {
     "name": "stderr",
     "output_type": "stream",
     "text": [
      "c:\\Users\\asus\\AppData\\Local\\Programs\\Python\\Python310\\lib\\site-packages\\keras\\src\\layers\\convolutional\\base_conv.py:107: UserWarning: Do not pass an `input_shape`/`input_dim` argument to a layer. When using Sequential models, prefer using an `Input(shape)` object as the first layer in the model instead.\n",
      "  super().__init__(activity_regularizer=activity_regularizer, **kwargs)\n"
     ]
    },
    {
     "name": "stdout",
     "output_type": "stream",
     "text": [
      "\u001b[1m1/1\u001b[0m \u001b[32m━━━━━━━━━━━━━━━━━━━━\u001b[0m\u001b[37m\u001b[0m \u001b[1m0s\u001b[0m 161ms/step\n",
      "RMSE: 2.9396519301454833\n",
      "Testing combination: {'activation': 'relu', 'batch_size': 32, 'epochs': 50, 'filters': 64, 'kernel_size': 1, 'units': 100}\n"
     ]
    },
    {
     "name": "stderr",
     "output_type": "stream",
     "text": [
      "c:\\Users\\asus\\AppData\\Local\\Programs\\Python\\Python310\\lib\\site-packages\\keras\\src\\layers\\convolutional\\base_conv.py:107: UserWarning: Do not pass an `input_shape`/`input_dim` argument to a layer. When using Sequential models, prefer using an `Input(shape)` object as the first layer in the model instead.\n",
      "  super().__init__(activity_regularizer=activity_regularizer, **kwargs)\n"
     ]
    },
    {
     "name": "stdout",
     "output_type": "stream",
     "text": [
      "\u001b[1m1/1\u001b[0m \u001b[32m━━━━━━━━━━━━━━━━━━━━\u001b[0m\u001b[37m\u001b[0m \u001b[1m0s\u001b[0m 163ms/step\n",
      "RMSE: 4.7289693078127115\n",
      "Testing combination: {'activation': 'relu', 'batch_size': 32, 'epochs': 50, 'filters': 64, 'kernel_size': 2, 'units': 50}\n"
     ]
    },
    {
     "name": "stderr",
     "output_type": "stream",
     "text": [
      "c:\\Users\\asus\\AppData\\Local\\Programs\\Python\\Python310\\lib\\site-packages\\keras\\src\\layers\\convolutional\\base_conv.py:107: UserWarning: Do not pass an `input_shape`/`input_dim` argument to a layer. When using Sequential models, prefer using an `Input(shape)` object as the first layer in the model instead.\n",
      "  super().__init__(activity_regularizer=activity_regularizer, **kwargs)\n"
     ]
    },
    {
     "name": "stdout",
     "output_type": "stream",
     "text": [
      "\u001b[1m1/1\u001b[0m \u001b[32m━━━━━━━━━━━━━━━━━━━━\u001b[0m\u001b[37m\u001b[0m \u001b[1m0s\u001b[0m 159ms/step\n",
      "RMSE: 8.344275682171464\n",
      "Testing combination: {'activation': 'relu', 'batch_size': 32, 'epochs': 50, 'filters': 64, 'kernel_size': 2, 'units': 100}\n"
     ]
    },
    {
     "name": "stderr",
     "output_type": "stream",
     "text": [
      "c:\\Users\\asus\\AppData\\Local\\Programs\\Python\\Python310\\lib\\site-packages\\keras\\src\\layers\\convolutional\\base_conv.py:107: UserWarning: Do not pass an `input_shape`/`input_dim` argument to a layer. When using Sequential models, prefer using an `Input(shape)` object as the first layer in the model instead.\n",
      "  super().__init__(activity_regularizer=activity_regularizer, **kwargs)\n"
     ]
    },
    {
     "name": "stdout",
     "output_type": "stream",
     "text": [
      "\u001b[1m1/1\u001b[0m \u001b[32m━━━━━━━━━━━━━━━━━━━━\u001b[0m\u001b[37m\u001b[0m \u001b[1m0s\u001b[0m 160ms/step\n",
      "RMSE: 2.962366917995218\n",
      "Testing combination: {'activation': 'relu', 'batch_size': 32, 'epochs': 50, 'filters': 64, 'kernel_size': 3, 'units': 50}\n"
     ]
    },
    {
     "name": "stderr",
     "output_type": "stream",
     "text": [
      "c:\\Users\\asus\\AppData\\Local\\Programs\\Python\\Python310\\lib\\site-packages\\keras\\src\\layers\\convolutional\\base_conv.py:107: UserWarning: Do not pass an `input_shape`/`input_dim` argument to a layer. When using Sequential models, prefer using an `Input(shape)` object as the first layer in the model instead.\n",
      "  super().__init__(activity_regularizer=activity_regularizer, **kwargs)\n"
     ]
    },
    {
     "name": "stdout",
     "output_type": "stream",
     "text": [
      "\u001b[1m1/1\u001b[0m \u001b[32m━━━━━━━━━━━━━━━━━━━━\u001b[0m\u001b[37m\u001b[0m \u001b[1m0s\u001b[0m 172ms/step\n",
      "RMSE: 3.0760782446501667\n",
      "Testing combination: {'activation': 'relu', 'batch_size': 32, 'epochs': 50, 'filters': 64, 'kernel_size': 3, 'units': 100}\n"
     ]
    },
    {
     "name": "stderr",
     "output_type": "stream",
     "text": [
      "c:\\Users\\asus\\AppData\\Local\\Programs\\Python\\Python310\\lib\\site-packages\\keras\\src\\layers\\convolutional\\base_conv.py:107: UserWarning: Do not pass an `input_shape`/`input_dim` argument to a layer. When using Sequential models, prefer using an `Input(shape)` object as the first layer in the model instead.\n",
      "  super().__init__(activity_regularizer=activity_regularizer, **kwargs)\n"
     ]
    },
    {
     "name": "stdout",
     "output_type": "stream",
     "text": [
      "\u001b[1m1/1\u001b[0m \u001b[32m━━━━━━━━━━━━━━━━━━━━\u001b[0m\u001b[37m\u001b[0m \u001b[1m0s\u001b[0m 163ms/step\n",
      "RMSE: 6.02110845374158\n",
      "Testing combination: {'activation': 'relu', 'batch_size': 32, 'epochs': 100, 'filters': 32, 'kernel_size': 1, 'units': 50}\n"
     ]
    },
    {
     "name": "stderr",
     "output_type": "stream",
     "text": [
      "c:\\Users\\asus\\AppData\\Local\\Programs\\Python\\Python310\\lib\\site-packages\\keras\\src\\layers\\convolutional\\base_conv.py:107: UserWarning: Do not pass an `input_shape`/`input_dim` argument to a layer. When using Sequential models, prefer using an `Input(shape)` object as the first layer in the model instead.\n",
      "  super().__init__(activity_regularizer=activity_regularizer, **kwargs)\n"
     ]
    },
    {
     "name": "stdout",
     "output_type": "stream",
     "text": [
      "\u001b[1m1/1\u001b[0m \u001b[32m━━━━━━━━━━━━━━━━━━━━\u001b[0m\u001b[37m\u001b[0m \u001b[1m0s\u001b[0m 161ms/step\n",
      "RMSE: 4.278517491715595\n",
      "Testing combination: {'activation': 'relu', 'batch_size': 32, 'epochs': 100, 'filters': 32, 'kernel_size': 1, 'units': 100}\n"
     ]
    },
    {
     "name": "stderr",
     "output_type": "stream",
     "text": [
      "c:\\Users\\asus\\AppData\\Local\\Programs\\Python\\Python310\\lib\\site-packages\\keras\\src\\layers\\convolutional\\base_conv.py:107: UserWarning: Do not pass an `input_shape`/`input_dim` argument to a layer. When using Sequential models, prefer using an `Input(shape)` object as the first layer in the model instead.\n",
      "  super().__init__(activity_regularizer=activity_regularizer, **kwargs)\n"
     ]
    },
    {
     "name": "stdout",
     "output_type": "stream",
     "text": [
      "\u001b[1m1/1\u001b[0m \u001b[32m━━━━━━━━━━━━━━━━━━━━\u001b[0m\u001b[37m\u001b[0m \u001b[1m0s\u001b[0m 165ms/step\n",
      "RMSE: 13.071693566133819\n",
      "Testing combination: {'activation': 'relu', 'batch_size': 32, 'epochs': 100, 'filters': 32, 'kernel_size': 2, 'units': 50}\n"
     ]
    },
    {
     "name": "stderr",
     "output_type": "stream",
     "text": [
      "c:\\Users\\asus\\AppData\\Local\\Programs\\Python\\Python310\\lib\\site-packages\\keras\\src\\layers\\convolutional\\base_conv.py:107: UserWarning: Do not pass an `input_shape`/`input_dim` argument to a layer. When using Sequential models, prefer using an `Input(shape)` object as the first layer in the model instead.\n",
      "  super().__init__(activity_regularizer=activity_regularizer, **kwargs)\n"
     ]
    },
    {
     "name": "stdout",
     "output_type": "stream",
     "text": [
      "\u001b[1m1/1\u001b[0m \u001b[32m━━━━━━━━━━━━━━━━━━━━\u001b[0m\u001b[37m\u001b[0m \u001b[1m0s\u001b[0m 161ms/step\n",
      "RMSE: 2.114503724458626\n",
      "Testing combination: {'activation': 'relu', 'batch_size': 32, 'epochs': 100, 'filters': 32, 'kernel_size': 2, 'units': 100}\n"
     ]
    },
    {
     "name": "stderr",
     "output_type": "stream",
     "text": [
      "c:\\Users\\asus\\AppData\\Local\\Programs\\Python\\Python310\\lib\\site-packages\\keras\\src\\layers\\convolutional\\base_conv.py:107: UserWarning: Do not pass an `input_shape`/`input_dim` argument to a layer. When using Sequential models, prefer using an `Input(shape)` object as the first layer in the model instead.\n",
      "  super().__init__(activity_regularizer=activity_regularizer, **kwargs)\n"
     ]
    },
    {
     "name": "stdout",
     "output_type": "stream",
     "text": [
      "\u001b[1m1/1\u001b[0m \u001b[32m━━━━━━━━━━━━━━━━━━━━\u001b[0m\u001b[37m\u001b[0m \u001b[1m0s\u001b[0m 161ms/step\n",
      "RMSE: 1.1271846037849234\n",
      "Testing combination: {'activation': 'relu', 'batch_size': 32, 'epochs': 100, 'filters': 32, 'kernel_size': 3, 'units': 50}\n"
     ]
    },
    {
     "name": "stderr",
     "output_type": "stream",
     "text": [
      "c:\\Users\\asus\\AppData\\Local\\Programs\\Python\\Python310\\lib\\site-packages\\keras\\src\\layers\\convolutional\\base_conv.py:107: UserWarning: Do not pass an `input_shape`/`input_dim` argument to a layer. When using Sequential models, prefer using an `Input(shape)` object as the first layer in the model instead.\n",
      "  super().__init__(activity_regularizer=activity_regularizer, **kwargs)\n"
     ]
    },
    {
     "name": "stdout",
     "output_type": "stream",
     "text": [
      "\u001b[1m1/1\u001b[0m \u001b[32m━━━━━━━━━━━━━━━━━━━━\u001b[0m\u001b[37m\u001b[0m \u001b[1m0s\u001b[0m 161ms/step\n",
      "RMSE: 10.760178106514587\n",
      "Testing combination: {'activation': 'relu', 'batch_size': 32, 'epochs': 100, 'filters': 32, 'kernel_size': 3, 'units': 100}\n"
     ]
    },
    {
     "name": "stderr",
     "output_type": "stream",
     "text": [
      "c:\\Users\\asus\\AppData\\Local\\Programs\\Python\\Python310\\lib\\site-packages\\keras\\src\\layers\\convolutional\\base_conv.py:107: UserWarning: Do not pass an `input_shape`/`input_dim` argument to a layer. When using Sequential models, prefer using an `Input(shape)` object as the first layer in the model instead.\n",
      "  super().__init__(activity_regularizer=activity_regularizer, **kwargs)\n"
     ]
    },
    {
     "name": "stdout",
     "output_type": "stream",
     "text": [
      "\u001b[1m1/1\u001b[0m \u001b[32m━━━━━━━━━━━━━━━━━━━━\u001b[0m\u001b[37m\u001b[0m \u001b[1m0s\u001b[0m 159ms/step\n",
      "RMSE: 1.3379734690357121\n",
      "Testing combination: {'activation': 'relu', 'batch_size': 32, 'epochs': 100, 'filters': 64, 'kernel_size': 1, 'units': 50}\n"
     ]
    },
    {
     "name": "stderr",
     "output_type": "stream",
     "text": [
      "c:\\Users\\asus\\AppData\\Local\\Programs\\Python\\Python310\\lib\\site-packages\\keras\\src\\layers\\convolutional\\base_conv.py:107: UserWarning: Do not pass an `input_shape`/`input_dim` argument to a layer. When using Sequential models, prefer using an `Input(shape)` object as the first layer in the model instead.\n",
      "  super().__init__(activity_regularizer=activity_regularizer, **kwargs)\n"
     ]
    },
    {
     "name": "stdout",
     "output_type": "stream",
     "text": [
      "\u001b[1m1/1\u001b[0m \u001b[32m━━━━━━━━━━━━━━━━━━━━\u001b[0m\u001b[37m\u001b[0m \u001b[1m0s\u001b[0m 162ms/step\n",
      "RMSE: 2.8303503063111344\n",
      "Testing combination: {'activation': 'relu', 'batch_size': 32, 'epochs': 100, 'filters': 64, 'kernel_size': 1, 'units': 100}\n"
     ]
    },
    {
     "name": "stderr",
     "output_type": "stream",
     "text": [
      "c:\\Users\\asus\\AppData\\Local\\Programs\\Python\\Python310\\lib\\site-packages\\keras\\src\\layers\\convolutional\\base_conv.py:107: UserWarning: Do not pass an `input_shape`/`input_dim` argument to a layer. When using Sequential models, prefer using an `Input(shape)` object as the first layer in the model instead.\n",
      "  super().__init__(activity_regularizer=activity_regularizer, **kwargs)\n"
     ]
    },
    {
     "name": "stdout",
     "output_type": "stream",
     "text": [
      "\u001b[1m1/1\u001b[0m \u001b[32m━━━━━━━━━━━━━━━━━━━━\u001b[0m\u001b[37m\u001b[0m \u001b[1m0s\u001b[0m 161ms/step\n",
      "RMSE: 9.216877164933422\n",
      "Testing combination: {'activation': 'relu', 'batch_size': 32, 'epochs': 100, 'filters': 64, 'kernel_size': 2, 'units': 50}\n"
     ]
    },
    {
     "name": "stderr",
     "output_type": "stream",
     "text": [
      "c:\\Users\\asus\\AppData\\Local\\Programs\\Python\\Python310\\lib\\site-packages\\keras\\src\\layers\\convolutional\\base_conv.py:107: UserWarning: Do not pass an `input_shape`/`input_dim` argument to a layer. When using Sequential models, prefer using an `Input(shape)` object as the first layer in the model instead.\n",
      "  super().__init__(activity_regularizer=activity_regularizer, **kwargs)\n"
     ]
    },
    {
     "name": "stdout",
     "output_type": "stream",
     "text": [
      "\u001b[1m1/1\u001b[0m \u001b[32m━━━━━━━━━━━━━━━━━━━━\u001b[0m\u001b[37m\u001b[0m \u001b[1m0s\u001b[0m 161ms/step\n",
      "RMSE: 1.1212075909801598\n",
      "Testing combination: {'activation': 'relu', 'batch_size': 32, 'epochs': 100, 'filters': 64, 'kernel_size': 2, 'units': 100}\n"
     ]
    },
    {
     "name": "stderr",
     "output_type": "stream",
     "text": [
      "c:\\Users\\asus\\AppData\\Local\\Programs\\Python\\Python310\\lib\\site-packages\\keras\\src\\layers\\convolutional\\base_conv.py:107: UserWarning: Do not pass an `input_shape`/`input_dim` argument to a layer. When using Sequential models, prefer using an `Input(shape)` object as the first layer in the model instead.\n",
      "  super().__init__(activity_regularizer=activity_regularizer, **kwargs)\n"
     ]
    },
    {
     "name": "stdout",
     "output_type": "stream",
     "text": [
      "\u001b[1m1/1\u001b[0m \u001b[32m━━━━━━━━━━━━━━━━━━━━\u001b[0m\u001b[37m\u001b[0m \u001b[1m0s\u001b[0m 159ms/step\n",
      "RMSE: 2.146629009465061\n",
      "Testing combination: {'activation': 'relu', 'batch_size': 32, 'epochs': 100, 'filters': 64, 'kernel_size': 3, 'units': 50}\n"
     ]
    },
    {
     "name": "stderr",
     "output_type": "stream",
     "text": [
      "c:\\Users\\asus\\AppData\\Local\\Programs\\Python\\Python310\\lib\\site-packages\\keras\\src\\layers\\convolutional\\base_conv.py:107: UserWarning: Do not pass an `input_shape`/`input_dim` argument to a layer. When using Sequential models, prefer using an `Input(shape)` object as the first layer in the model instead.\n",
      "  super().__init__(activity_regularizer=activity_regularizer, **kwargs)\n"
     ]
    },
    {
     "name": "stdout",
     "output_type": "stream",
     "text": [
      "\u001b[1m1/1\u001b[0m \u001b[32m━━━━━━━━━━━━━━━━━━━━\u001b[0m\u001b[37m\u001b[0m \u001b[1m0s\u001b[0m 160ms/step\n",
      "RMSE: 5.221833348058459\n",
      "Testing combination: {'activation': 'relu', 'batch_size': 32, 'epochs': 100, 'filters': 64, 'kernel_size': 3, 'units': 100}\n"
     ]
    },
    {
     "name": "stderr",
     "output_type": "stream",
     "text": [
      "c:\\Users\\asus\\AppData\\Local\\Programs\\Python\\Python310\\lib\\site-packages\\keras\\src\\layers\\convolutional\\base_conv.py:107: UserWarning: Do not pass an `input_shape`/`input_dim` argument to a layer. When using Sequential models, prefer using an `Input(shape)` object as the first layer in the model instead.\n",
      "  super().__init__(activity_regularizer=activity_regularizer, **kwargs)\n"
     ]
    },
    {
     "name": "stdout",
     "output_type": "stream",
     "text": [
      "\u001b[1m1/1\u001b[0m \u001b[32m━━━━━━━━━━━━━━━━━━━━\u001b[0m\u001b[37m\u001b[0m \u001b[1m0s\u001b[0m 161ms/step\n",
      "RMSE: 1.266480356570686\n",
      "Testing combination: {'activation': 'tanh', 'batch_size': 16, 'epochs': 50, 'filters': 32, 'kernel_size': 1, 'units': 50}\n"
     ]
    },
    {
     "name": "stderr",
     "output_type": "stream",
     "text": [
      "c:\\Users\\asus\\AppData\\Local\\Programs\\Python\\Python310\\lib\\site-packages\\keras\\src\\layers\\convolutional\\base_conv.py:107: UserWarning: Do not pass an `input_shape`/`input_dim` argument to a layer. When using Sequential models, prefer using an `Input(shape)` object as the first layer in the model instead.\n",
      "  super().__init__(activity_regularizer=activity_regularizer, **kwargs)\n"
     ]
    },
    {
     "name": "stdout",
     "output_type": "stream",
     "text": [
      "\u001b[1m1/1\u001b[0m \u001b[32m━━━━━━━━━━━━━━━━━━━━\u001b[0m\u001b[37m\u001b[0m \u001b[1m0s\u001b[0m 162ms/step\n",
      "RMSE: 10.304448156976\n",
      "Testing combination: {'activation': 'tanh', 'batch_size': 16, 'epochs': 50, 'filters': 32, 'kernel_size': 1, 'units': 100}\n"
     ]
    },
    {
     "name": "stderr",
     "output_type": "stream",
     "text": [
      "c:\\Users\\asus\\AppData\\Local\\Programs\\Python\\Python310\\lib\\site-packages\\keras\\src\\layers\\convolutional\\base_conv.py:107: UserWarning: Do not pass an `input_shape`/`input_dim` argument to a layer. When using Sequential models, prefer using an `Input(shape)` object as the first layer in the model instead.\n",
      "  super().__init__(activity_regularizer=activity_regularizer, **kwargs)\n"
     ]
    },
    {
     "name": "stdout",
     "output_type": "stream",
     "text": [
      "\u001b[1m1/1\u001b[0m \u001b[32m━━━━━━━━━━━━━━━━━━━━\u001b[0m\u001b[37m\u001b[0m \u001b[1m0s\u001b[0m 160ms/step\n",
      "RMSE: 6.92202843830531\n",
      "Testing combination: {'activation': 'tanh', 'batch_size': 16, 'epochs': 50, 'filters': 32, 'kernel_size': 2, 'units': 50}\n"
     ]
    },
    {
     "name": "stderr",
     "output_type": "stream",
     "text": [
      "c:\\Users\\asus\\AppData\\Local\\Programs\\Python\\Python310\\lib\\site-packages\\keras\\src\\layers\\convolutional\\base_conv.py:107: UserWarning: Do not pass an `input_shape`/`input_dim` argument to a layer. When using Sequential models, prefer using an `Input(shape)` object as the first layer in the model instead.\n",
      "  super().__init__(activity_regularizer=activity_regularizer, **kwargs)\n"
     ]
    },
    {
     "name": "stdout",
     "output_type": "stream",
     "text": [
      "\u001b[1m1/1\u001b[0m \u001b[32m━━━━━━━━━━━━━━━━━━━━\u001b[0m\u001b[37m\u001b[0m \u001b[1m0s\u001b[0m 167ms/step\n",
      "RMSE: 8.299656612516662\n",
      "Testing combination: {'activation': 'tanh', 'batch_size': 16, 'epochs': 50, 'filters': 32, 'kernel_size': 2, 'units': 100}\n"
     ]
    },
    {
     "name": "stderr",
     "output_type": "stream",
     "text": [
      "c:\\Users\\asus\\AppData\\Local\\Programs\\Python\\Python310\\lib\\site-packages\\keras\\src\\layers\\convolutional\\base_conv.py:107: UserWarning: Do not pass an `input_shape`/`input_dim` argument to a layer. When using Sequential models, prefer using an `Input(shape)` object as the first layer in the model instead.\n",
      "  super().__init__(activity_regularizer=activity_regularizer, **kwargs)\n"
     ]
    },
    {
     "name": "stdout",
     "output_type": "stream",
     "text": [
      "\u001b[1m1/1\u001b[0m \u001b[32m━━━━━━━━━━━━━━━━━━━━\u001b[0m\u001b[37m\u001b[0m \u001b[1m0s\u001b[0m 163ms/step\n",
      "RMSE: 9.607929776317317\n",
      "Testing combination: {'activation': 'tanh', 'batch_size': 16, 'epochs': 50, 'filters': 32, 'kernel_size': 3, 'units': 50}\n"
     ]
    },
    {
     "name": "stderr",
     "output_type": "stream",
     "text": [
      "c:\\Users\\asus\\AppData\\Local\\Programs\\Python\\Python310\\lib\\site-packages\\keras\\src\\layers\\convolutional\\base_conv.py:107: UserWarning: Do not pass an `input_shape`/`input_dim` argument to a layer. When using Sequential models, prefer using an `Input(shape)` object as the first layer in the model instead.\n",
      "  super().__init__(activity_regularizer=activity_regularizer, **kwargs)\n"
     ]
    },
    {
     "name": "stdout",
     "output_type": "stream",
     "text": [
      "\u001b[1m1/1\u001b[0m \u001b[32m━━━━━━━━━━━━━━━━━━━━\u001b[0m\u001b[37m\u001b[0m \u001b[1m0s\u001b[0m 162ms/step\n",
      "RMSE: 13.536060941673194\n",
      "Testing combination: {'activation': 'tanh', 'batch_size': 16, 'epochs': 50, 'filters': 32, 'kernel_size': 3, 'units': 100}\n"
     ]
    },
    {
     "name": "stderr",
     "output_type": "stream",
     "text": [
      "c:\\Users\\asus\\AppData\\Local\\Programs\\Python\\Python310\\lib\\site-packages\\keras\\src\\layers\\convolutional\\base_conv.py:107: UserWarning: Do not pass an `input_shape`/`input_dim` argument to a layer. When using Sequential models, prefer using an `Input(shape)` object as the first layer in the model instead.\n",
      "  super().__init__(activity_regularizer=activity_regularizer, **kwargs)\n"
     ]
    },
    {
     "name": "stdout",
     "output_type": "stream",
     "text": [
      "\u001b[1m1/1\u001b[0m \u001b[32m━━━━━━━━━━━━━━━━━━━━\u001b[0m\u001b[37m\u001b[0m \u001b[1m0s\u001b[0m 162ms/step\n",
      "RMSE: 10.511335862546966\n",
      "Testing combination: {'activation': 'tanh', 'batch_size': 16, 'epochs': 50, 'filters': 64, 'kernel_size': 1, 'units': 50}\n"
     ]
    },
    {
     "name": "stderr",
     "output_type": "stream",
     "text": [
      "c:\\Users\\asus\\AppData\\Local\\Programs\\Python\\Python310\\lib\\site-packages\\keras\\src\\layers\\convolutional\\base_conv.py:107: UserWarning: Do not pass an `input_shape`/`input_dim` argument to a layer. When using Sequential models, prefer using an `Input(shape)` object as the first layer in the model instead.\n",
      "  super().__init__(activity_regularizer=activity_regularizer, **kwargs)\n"
     ]
    },
    {
     "name": "stdout",
     "output_type": "stream",
     "text": [
      "\u001b[1m1/1\u001b[0m \u001b[32m━━━━━━━━━━━━━━━━━━━━\u001b[0m\u001b[37m\u001b[0m \u001b[1m0s\u001b[0m 183ms/step\n",
      "RMSE: 9.826599952993293\n",
      "Testing combination: {'activation': 'tanh', 'batch_size': 16, 'epochs': 50, 'filters': 64, 'kernel_size': 1, 'units': 100}\n"
     ]
    },
    {
     "name": "stderr",
     "output_type": "stream",
     "text": [
      "c:\\Users\\asus\\AppData\\Local\\Programs\\Python\\Python310\\lib\\site-packages\\keras\\src\\layers\\convolutional\\base_conv.py:107: UserWarning: Do not pass an `input_shape`/`input_dim` argument to a layer. When using Sequential models, prefer using an `Input(shape)` object as the first layer in the model instead.\n",
      "  super().__init__(activity_regularizer=activity_regularizer, **kwargs)\n"
     ]
    },
    {
     "name": "stdout",
     "output_type": "stream",
     "text": [
      "\u001b[1m1/1\u001b[0m \u001b[32m━━━━━━━━━━━━━━━━━━━━\u001b[0m\u001b[37m\u001b[0m \u001b[1m0s\u001b[0m 163ms/step\n",
      "RMSE: 10.364421783269831\n",
      "Testing combination: {'activation': 'tanh', 'batch_size': 16, 'epochs': 50, 'filters': 64, 'kernel_size': 2, 'units': 50}\n"
     ]
    },
    {
     "name": "stderr",
     "output_type": "stream",
     "text": [
      "c:\\Users\\asus\\AppData\\Local\\Programs\\Python\\Python310\\lib\\site-packages\\keras\\src\\layers\\convolutional\\base_conv.py:107: UserWarning: Do not pass an `input_shape`/`input_dim` argument to a layer. When using Sequential models, prefer using an `Input(shape)` object as the first layer in the model instead.\n",
      "  super().__init__(activity_regularizer=activity_regularizer, **kwargs)\n"
     ]
    },
    {
     "name": "stdout",
     "output_type": "stream",
     "text": [
      "\u001b[1m1/1\u001b[0m \u001b[32m━━━━━━━━━━━━━━━━━━━━\u001b[0m\u001b[37m\u001b[0m \u001b[1m0s\u001b[0m 161ms/step\n",
      "RMSE: 7.217072953324874\n",
      "Testing combination: {'activation': 'tanh', 'batch_size': 16, 'epochs': 50, 'filters': 64, 'kernel_size': 2, 'units': 100}\n"
     ]
    },
    {
     "name": "stderr",
     "output_type": "stream",
     "text": [
      "c:\\Users\\asus\\AppData\\Local\\Programs\\Python\\Python310\\lib\\site-packages\\keras\\src\\layers\\convolutional\\base_conv.py:107: UserWarning: Do not pass an `input_shape`/`input_dim` argument to a layer. When using Sequential models, prefer using an `Input(shape)` object as the first layer in the model instead.\n",
      "  super().__init__(activity_regularizer=activity_regularizer, **kwargs)\n"
     ]
    },
    {
     "name": "stdout",
     "output_type": "stream",
     "text": [
      "\u001b[1m1/1\u001b[0m \u001b[32m━━━━━━━━━━━━━━━━━━━━\u001b[0m\u001b[37m\u001b[0m \u001b[1m0s\u001b[0m 160ms/step\n",
      "RMSE: 6.555683203464982\n",
      "Testing combination: {'activation': 'tanh', 'batch_size': 16, 'epochs': 50, 'filters': 64, 'kernel_size': 3, 'units': 50}\n"
     ]
    },
    {
     "name": "stderr",
     "output_type": "stream",
     "text": [
      "c:\\Users\\asus\\AppData\\Local\\Programs\\Python\\Python310\\lib\\site-packages\\keras\\src\\layers\\convolutional\\base_conv.py:107: UserWarning: Do not pass an `input_shape`/`input_dim` argument to a layer. When using Sequential models, prefer using an `Input(shape)` object as the first layer in the model instead.\n",
      "  super().__init__(activity_regularizer=activity_regularizer, **kwargs)\n"
     ]
    },
    {
     "name": "stdout",
     "output_type": "stream",
     "text": [
      "\u001b[1m1/1\u001b[0m \u001b[32m━━━━━━━━━━━━━━━━━━━━\u001b[0m\u001b[37m\u001b[0m \u001b[1m0s\u001b[0m 162ms/step\n",
      "RMSE: 6.728884005656229\n",
      "Testing combination: {'activation': 'tanh', 'batch_size': 16, 'epochs': 50, 'filters': 64, 'kernel_size': 3, 'units': 100}\n"
     ]
    },
    {
     "name": "stderr",
     "output_type": "stream",
     "text": [
      "c:\\Users\\asus\\AppData\\Local\\Programs\\Python\\Python310\\lib\\site-packages\\keras\\src\\layers\\convolutional\\base_conv.py:107: UserWarning: Do not pass an `input_shape`/`input_dim` argument to a layer. When using Sequential models, prefer using an `Input(shape)` object as the first layer in the model instead.\n",
      "  super().__init__(activity_regularizer=activity_regularizer, **kwargs)\n"
     ]
    },
    {
     "name": "stdout",
     "output_type": "stream",
     "text": [
      "\u001b[1m1/1\u001b[0m \u001b[32m━━━━━━━━━━━━━━━━━━━━\u001b[0m\u001b[37m\u001b[0m \u001b[1m0s\u001b[0m 178ms/step\n",
      "RMSE: 6.551875056572619\n",
      "Testing combination: {'activation': 'tanh', 'batch_size': 16, 'epochs': 100, 'filters': 32, 'kernel_size': 1, 'units': 50}\n"
     ]
    },
    {
     "name": "stderr",
     "output_type": "stream",
     "text": [
      "c:\\Users\\asus\\AppData\\Local\\Programs\\Python\\Python310\\lib\\site-packages\\keras\\src\\layers\\convolutional\\base_conv.py:107: UserWarning: Do not pass an `input_shape`/`input_dim` argument to a layer. When using Sequential models, prefer using an `Input(shape)` object as the first layer in the model instead.\n",
      "  super().__init__(activity_regularizer=activity_regularizer, **kwargs)\n"
     ]
    },
    {
     "name": "stdout",
     "output_type": "stream",
     "text": [
      "\u001b[1m1/1\u001b[0m \u001b[32m━━━━━━━━━━━━━━━━━━━━\u001b[0m\u001b[37m\u001b[0m \u001b[1m0s\u001b[0m 174ms/step\n",
      "RMSE: 5.957303806977459\n",
      "Testing combination: {'activation': 'tanh', 'batch_size': 16, 'epochs': 100, 'filters': 32, 'kernel_size': 1, 'units': 100}\n"
     ]
    },
    {
     "name": "stderr",
     "output_type": "stream",
     "text": [
      "c:\\Users\\asus\\AppData\\Local\\Programs\\Python\\Python310\\lib\\site-packages\\keras\\src\\layers\\convolutional\\base_conv.py:107: UserWarning: Do not pass an `input_shape`/`input_dim` argument to a layer. When using Sequential models, prefer using an `Input(shape)` object as the first layer in the model instead.\n",
      "  super().__init__(activity_regularizer=activity_regularizer, **kwargs)\n"
     ]
    },
    {
     "name": "stdout",
     "output_type": "stream",
     "text": [
      "\u001b[1m1/1\u001b[0m \u001b[32m━━━━━━━━━━━━━━━━━━━━\u001b[0m\u001b[37m\u001b[0m \u001b[1m0s\u001b[0m 163ms/step\n",
      "RMSE: 10.008063491364435\n",
      "Testing combination: {'activation': 'tanh', 'batch_size': 16, 'epochs': 100, 'filters': 32, 'kernel_size': 2, 'units': 50}\n"
     ]
    },
    {
     "name": "stderr",
     "output_type": "stream",
     "text": [
      "c:\\Users\\asus\\AppData\\Local\\Programs\\Python\\Python310\\lib\\site-packages\\keras\\src\\layers\\convolutional\\base_conv.py:107: UserWarning: Do not pass an `input_shape`/`input_dim` argument to a layer. When using Sequential models, prefer using an `Input(shape)` object as the first layer in the model instead.\n",
      "  super().__init__(activity_regularizer=activity_regularizer, **kwargs)\n"
     ]
    },
    {
     "name": "stdout",
     "output_type": "stream",
     "text": [
      "\u001b[1m1/1\u001b[0m \u001b[32m━━━━━━━━━━━━━━━━━━━━\u001b[0m\u001b[37m\u001b[0m \u001b[1m0s\u001b[0m 162ms/step\n",
      "RMSE: 5.026672395285329\n",
      "Testing combination: {'activation': 'tanh', 'batch_size': 16, 'epochs': 100, 'filters': 32, 'kernel_size': 2, 'units': 100}\n"
     ]
    },
    {
     "name": "stderr",
     "output_type": "stream",
     "text": [
      "c:\\Users\\asus\\AppData\\Local\\Programs\\Python\\Python310\\lib\\site-packages\\keras\\src\\layers\\convolutional\\base_conv.py:107: UserWarning: Do not pass an `input_shape`/`input_dim` argument to a layer. When using Sequential models, prefer using an `Input(shape)` object as the first layer in the model instead.\n",
      "  super().__init__(activity_regularizer=activity_regularizer, **kwargs)\n"
     ]
    },
    {
     "name": "stdout",
     "output_type": "stream",
     "text": [
      "\u001b[1m1/1\u001b[0m \u001b[32m━━━━━━━━━━━━━━━━━━━━\u001b[0m\u001b[37m\u001b[0m \u001b[1m0s\u001b[0m 165ms/step\n",
      "RMSE: 4.032767322784594\n",
      "Testing combination: {'activation': 'tanh', 'batch_size': 16, 'epochs': 100, 'filters': 32, 'kernel_size': 3, 'units': 50}\n"
     ]
    },
    {
     "name": "stderr",
     "output_type": "stream",
     "text": [
      "c:\\Users\\asus\\AppData\\Local\\Programs\\Python\\Python310\\lib\\site-packages\\keras\\src\\layers\\convolutional\\base_conv.py:107: UserWarning: Do not pass an `input_shape`/`input_dim` argument to a layer. When using Sequential models, prefer using an `Input(shape)` object as the first layer in the model instead.\n",
      "  super().__init__(activity_regularizer=activity_regularizer, **kwargs)\n"
     ]
    },
    {
     "name": "stdout",
     "output_type": "stream",
     "text": [
      "\u001b[1m1/1\u001b[0m \u001b[32m━━━━━━━━━━━━━━━━━━━━\u001b[0m\u001b[37m\u001b[0m \u001b[1m0s\u001b[0m 162ms/step\n",
      "RMSE: 13.704066910864913\n",
      "Testing combination: {'activation': 'tanh', 'batch_size': 16, 'epochs': 100, 'filters': 32, 'kernel_size': 3, 'units': 100}\n"
     ]
    },
    {
     "name": "stderr",
     "output_type": "stream",
     "text": [
      "c:\\Users\\asus\\AppData\\Local\\Programs\\Python\\Python310\\lib\\site-packages\\keras\\src\\layers\\convolutional\\base_conv.py:107: UserWarning: Do not pass an `input_shape`/`input_dim` argument to a layer. When using Sequential models, prefer using an `Input(shape)` object as the first layer in the model instead.\n",
      "  super().__init__(activity_regularizer=activity_regularizer, **kwargs)\n"
     ]
    },
    {
     "name": "stdout",
     "output_type": "stream",
     "text": [
      "\u001b[1m1/1\u001b[0m \u001b[32m━━━━━━━━━━━━━━━━━━━━\u001b[0m\u001b[37m\u001b[0m \u001b[1m0s\u001b[0m 162ms/step\n",
      "RMSE: 5.0365393414275195\n",
      "Testing combination: {'activation': 'tanh', 'batch_size': 16, 'epochs': 100, 'filters': 64, 'kernel_size': 1, 'units': 50}\n"
     ]
    },
    {
     "name": "stderr",
     "output_type": "stream",
     "text": [
      "c:\\Users\\asus\\AppData\\Local\\Programs\\Python\\Python310\\lib\\site-packages\\keras\\src\\layers\\convolutional\\base_conv.py:107: UserWarning: Do not pass an `input_shape`/`input_dim` argument to a layer. When using Sequential models, prefer using an `Input(shape)` object as the first layer in the model instead.\n",
      "  super().__init__(activity_regularizer=activity_regularizer, **kwargs)\n"
     ]
    },
    {
     "name": "stdout",
     "output_type": "stream",
     "text": [
      "\u001b[1m1/1\u001b[0m \u001b[32m━━━━━━━━━━━━━━━━━━━━\u001b[0m\u001b[37m\u001b[0m \u001b[1m0s\u001b[0m 161ms/step\n",
      "RMSE: 6.11315137320905\n",
      "Testing combination: {'activation': 'tanh', 'batch_size': 16, 'epochs': 100, 'filters': 64, 'kernel_size': 1, 'units': 100}\n"
     ]
    },
    {
     "name": "stderr",
     "output_type": "stream",
     "text": [
      "c:\\Users\\asus\\AppData\\Local\\Programs\\Python\\Python310\\lib\\site-packages\\keras\\src\\layers\\convolutional\\base_conv.py:107: UserWarning: Do not pass an `input_shape`/`input_dim` argument to a layer. When using Sequential models, prefer using an `Input(shape)` object as the first layer in the model instead.\n",
      "  super().__init__(activity_regularizer=activity_regularizer, **kwargs)\n"
     ]
    },
    {
     "name": "stdout",
     "output_type": "stream",
     "text": [
      "\u001b[1m1/1\u001b[0m \u001b[32m━━━━━━━━━━━━━━━━━━━━\u001b[0m\u001b[37m\u001b[0m \u001b[1m0s\u001b[0m 161ms/step\n",
      "RMSE: 6.616788785990425\n",
      "Testing combination: {'activation': 'tanh', 'batch_size': 16, 'epochs': 100, 'filters': 64, 'kernel_size': 2, 'units': 50}\n"
     ]
    },
    {
     "name": "stderr",
     "output_type": "stream",
     "text": [
      "c:\\Users\\asus\\AppData\\Local\\Programs\\Python\\Python310\\lib\\site-packages\\keras\\src\\layers\\convolutional\\base_conv.py:107: UserWarning: Do not pass an `input_shape`/`input_dim` argument to a layer. When using Sequential models, prefer using an `Input(shape)` object as the first layer in the model instead.\n",
      "  super().__init__(activity_regularizer=activity_regularizer, **kwargs)\n"
     ]
    },
    {
     "name": "stdout",
     "output_type": "stream",
     "text": [
      "\u001b[1m1/1\u001b[0m \u001b[32m━━━━━━━━━━━━━━━━━━━━\u001b[0m\u001b[37m\u001b[0m \u001b[1m0s\u001b[0m 163ms/step\n",
      "RMSE: 3.995800078646584\n",
      "Testing combination: {'activation': 'tanh', 'batch_size': 16, 'epochs': 100, 'filters': 64, 'kernel_size': 2, 'units': 100}\n"
     ]
    },
    {
     "name": "stderr",
     "output_type": "stream",
     "text": [
      "c:\\Users\\asus\\AppData\\Local\\Programs\\Python\\Python310\\lib\\site-packages\\keras\\src\\layers\\convolutional\\base_conv.py:107: UserWarning: Do not pass an `input_shape`/`input_dim` argument to a layer. When using Sequential models, prefer using an `Input(shape)` object as the first layer in the model instead.\n",
      "  super().__init__(activity_regularizer=activity_regularizer, **kwargs)\n"
     ]
    },
    {
     "name": "stdout",
     "output_type": "stream",
     "text": [
      "\u001b[1m1/1\u001b[0m \u001b[32m━━━━━━━━━━━━━━━━━━━━\u001b[0m\u001b[37m\u001b[0m \u001b[1m0s\u001b[0m 161ms/step\n",
      "RMSE: 4.184833642489209\n",
      "Testing combination: {'activation': 'tanh', 'batch_size': 16, 'epochs': 100, 'filters': 64, 'kernel_size': 3, 'units': 50}\n"
     ]
    },
    {
     "name": "stderr",
     "output_type": "stream",
     "text": [
      "c:\\Users\\asus\\AppData\\Local\\Programs\\Python\\Python310\\lib\\site-packages\\keras\\src\\layers\\convolutional\\base_conv.py:107: UserWarning: Do not pass an `input_shape`/`input_dim` argument to a layer. When using Sequential models, prefer using an `Input(shape)` object as the first layer in the model instead.\n",
      "  super().__init__(activity_regularizer=activity_regularizer, **kwargs)\n"
     ]
    },
    {
     "name": "stdout",
     "output_type": "stream",
     "text": [
      "\u001b[1m1/1\u001b[0m \u001b[32m━━━━━━━━━━━━━━━━━━━━\u001b[0m\u001b[37m\u001b[0m \u001b[1m0s\u001b[0m 161ms/step\n",
      "RMSE: 4.775830373500821\n",
      "Testing combination: {'activation': 'tanh', 'batch_size': 16, 'epochs': 100, 'filters': 64, 'kernel_size': 3, 'units': 100}\n"
     ]
    },
    {
     "name": "stderr",
     "output_type": "stream",
     "text": [
      "c:\\Users\\asus\\AppData\\Local\\Programs\\Python\\Python310\\lib\\site-packages\\keras\\src\\layers\\convolutional\\base_conv.py:107: UserWarning: Do not pass an `input_shape`/`input_dim` argument to a layer. When using Sequential models, prefer using an `Input(shape)` object as the first layer in the model instead.\n",
      "  super().__init__(activity_regularizer=activity_regularizer, **kwargs)\n"
     ]
    },
    {
     "name": "stdout",
     "output_type": "stream",
     "text": [
      "\u001b[1m1/1\u001b[0m \u001b[32m━━━━━━━━━━━━━━━━━━━━\u001b[0m\u001b[37m\u001b[0m \u001b[1m0s\u001b[0m 159ms/step\n",
      "RMSE: 3.6618254409645616\n",
      "Testing combination: {'activation': 'tanh', 'batch_size': 32, 'epochs': 50, 'filters': 32, 'kernel_size': 1, 'units': 50}\n"
     ]
    },
    {
     "name": "stderr",
     "output_type": "stream",
     "text": [
      "c:\\Users\\asus\\AppData\\Local\\Programs\\Python\\Python310\\lib\\site-packages\\keras\\src\\layers\\convolutional\\base_conv.py:107: UserWarning: Do not pass an `input_shape`/`input_dim` argument to a layer. When using Sequential models, prefer using an `Input(shape)` object as the first layer in the model instead.\n",
      "  super().__init__(activity_regularizer=activity_regularizer, **kwargs)\n"
     ]
    },
    {
     "name": "stdout",
     "output_type": "stream",
     "text": [
      "\u001b[1m1/1\u001b[0m \u001b[32m━━━━━━━━━━━━━━━━━━━━\u001b[0m\u001b[37m\u001b[0m \u001b[1m0s\u001b[0m 162ms/step\n",
      "RMSE: 16.699168158336082\n",
      "Testing combination: {'activation': 'tanh', 'batch_size': 32, 'epochs': 50, 'filters': 32, 'kernel_size': 1, 'units': 100}\n"
     ]
    },
    {
     "name": "stderr",
     "output_type": "stream",
     "text": [
      "c:\\Users\\asus\\AppData\\Local\\Programs\\Python\\Python310\\lib\\site-packages\\keras\\src\\layers\\convolutional\\base_conv.py:107: UserWarning: Do not pass an `input_shape`/`input_dim` argument to a layer. When using Sequential models, prefer using an `Input(shape)` object as the first layer in the model instead.\n",
      "  super().__init__(activity_regularizer=activity_regularizer, **kwargs)\n"
     ]
    },
    {
     "name": "stdout",
     "output_type": "stream",
     "text": [
      "\u001b[1m1/1\u001b[0m \u001b[32m━━━━━━━━━━━━━━━━━━━━\u001b[0m\u001b[37m\u001b[0m \u001b[1m0s\u001b[0m 160ms/step\n",
      "RMSE: 8.099102233601627\n",
      "Testing combination: {'activation': 'tanh', 'batch_size': 32, 'epochs': 50, 'filters': 32, 'kernel_size': 2, 'units': 50}\n"
     ]
    },
    {
     "name": "stderr",
     "output_type": "stream",
     "text": [
      "c:\\Users\\asus\\AppData\\Local\\Programs\\Python\\Python310\\lib\\site-packages\\keras\\src\\layers\\convolutional\\base_conv.py:107: UserWarning: Do not pass an `input_shape`/`input_dim` argument to a layer. When using Sequential models, prefer using an `Input(shape)` object as the first layer in the model instead.\n",
      "  super().__init__(activity_regularizer=activity_regularizer, **kwargs)\n"
     ]
    },
    {
     "name": "stdout",
     "output_type": "stream",
     "text": [
      "\u001b[1m1/1\u001b[0m \u001b[32m━━━━━━━━━━━━━━━━━━━━\u001b[0m\u001b[37m\u001b[0m \u001b[1m0s\u001b[0m 162ms/step\n",
      "RMSE: 9.749380174212252\n",
      "Testing combination: {'activation': 'tanh', 'batch_size': 32, 'epochs': 50, 'filters': 32, 'kernel_size': 2, 'units': 100}\n"
     ]
    },
    {
     "name": "stderr",
     "output_type": "stream",
     "text": [
      "c:\\Users\\asus\\AppData\\Local\\Programs\\Python\\Python310\\lib\\site-packages\\keras\\src\\layers\\convolutional\\base_conv.py:107: UserWarning: Do not pass an `input_shape`/`input_dim` argument to a layer. When using Sequential models, prefer using an `Input(shape)` object as the first layer in the model instead.\n",
      "  super().__init__(activity_regularizer=activity_regularizer, **kwargs)\n"
     ]
    },
    {
     "name": "stdout",
     "output_type": "stream",
     "text": [
      "\u001b[1m1/1\u001b[0m \u001b[32m━━━━━━━━━━━━━━━━━━━━\u001b[0m\u001b[37m\u001b[0m \u001b[1m0s\u001b[0m 166ms/step\n",
      "RMSE: 7.313023073248617\n",
      "Testing combination: {'activation': 'tanh', 'batch_size': 32, 'epochs': 50, 'filters': 32, 'kernel_size': 3, 'units': 50}\n"
     ]
    },
    {
     "name": "stderr",
     "output_type": "stream",
     "text": [
      "c:\\Users\\asus\\AppData\\Local\\Programs\\Python\\Python310\\lib\\site-packages\\keras\\src\\layers\\convolutional\\base_conv.py:107: UserWarning: Do not pass an `input_shape`/`input_dim` argument to a layer. When using Sequential models, prefer using an `Input(shape)` object as the first layer in the model instead.\n",
      "  super().__init__(activity_regularizer=activity_regularizer, **kwargs)\n"
     ]
    },
    {
     "name": "stdout",
     "output_type": "stream",
     "text": [
      "\u001b[1m1/1\u001b[0m \u001b[32m━━━━━━━━━━━━━━━━━━━━\u001b[0m\u001b[37m\u001b[0m \u001b[1m0s\u001b[0m 161ms/step\n",
      "RMSE: 15.06918033002011\n",
      "Testing combination: {'activation': 'tanh', 'batch_size': 32, 'epochs': 50, 'filters': 32, 'kernel_size': 3, 'units': 100}\n"
     ]
    },
    {
     "name": "stderr",
     "output_type": "stream",
     "text": [
      "c:\\Users\\asus\\AppData\\Local\\Programs\\Python\\Python310\\lib\\site-packages\\keras\\src\\layers\\convolutional\\base_conv.py:107: UserWarning: Do not pass an `input_shape`/`input_dim` argument to a layer. When using Sequential models, prefer using an `Input(shape)` object as the first layer in the model instead.\n",
      "  super().__init__(activity_regularizer=activity_regularizer, **kwargs)\n"
     ]
    },
    {
     "name": "stdout",
     "output_type": "stream",
     "text": [
      "\u001b[1m1/1\u001b[0m \u001b[32m━━━━━━━━━━━━━━━━━━━━\u001b[0m\u001b[37m\u001b[0m \u001b[1m0s\u001b[0m 160ms/step\n",
      "RMSE: 8.630717916770529\n",
      "Testing combination: {'activation': 'tanh', 'batch_size': 32, 'epochs': 50, 'filters': 64, 'kernel_size': 1, 'units': 50}\n"
     ]
    },
    {
     "name": "stderr",
     "output_type": "stream",
     "text": [
      "c:\\Users\\asus\\AppData\\Local\\Programs\\Python\\Python310\\lib\\site-packages\\keras\\src\\layers\\convolutional\\base_conv.py:107: UserWarning: Do not pass an `input_shape`/`input_dim` argument to a layer. When using Sequential models, prefer using an `Input(shape)` object as the first layer in the model instead.\n",
      "  super().__init__(activity_regularizer=activity_regularizer, **kwargs)\n"
     ]
    },
    {
     "name": "stdout",
     "output_type": "stream",
     "text": [
      "\u001b[1m1/1\u001b[0m \u001b[32m━━━━━━━━━━━━━━━━━━━━\u001b[0m\u001b[37m\u001b[0m \u001b[1m0s\u001b[0m 161ms/step\n",
      "RMSE: 8.83924576762991\n",
      "Testing combination: {'activation': 'tanh', 'batch_size': 32, 'epochs': 50, 'filters': 64, 'kernel_size': 1, 'units': 100}\n"
     ]
    },
    {
     "name": "stderr",
     "output_type": "stream",
     "text": [
      "c:\\Users\\asus\\AppData\\Local\\Programs\\Python\\Python310\\lib\\site-packages\\keras\\src\\layers\\convolutional\\base_conv.py:107: UserWarning: Do not pass an `input_shape`/`input_dim` argument to a layer. When using Sequential models, prefer using an `Input(shape)` object as the first layer in the model instead.\n",
      "  super().__init__(activity_regularizer=activity_regularizer, **kwargs)\n"
     ]
    },
    {
     "name": "stdout",
     "output_type": "stream",
     "text": [
      "\u001b[1m1/1\u001b[0m \u001b[32m━━━━━━━━━━━━━━━━━━━━\u001b[0m\u001b[37m\u001b[0m \u001b[1m0s\u001b[0m 159ms/step\n",
      "RMSE: 8.10611329216457\n",
      "Testing combination: {'activation': 'tanh', 'batch_size': 32, 'epochs': 50, 'filters': 64, 'kernel_size': 2, 'units': 50}\n"
     ]
    },
    {
     "name": "stderr",
     "output_type": "stream",
     "text": [
      "c:\\Users\\asus\\AppData\\Local\\Programs\\Python\\Python310\\lib\\site-packages\\keras\\src\\layers\\convolutional\\base_conv.py:107: UserWarning: Do not pass an `input_shape`/`input_dim` argument to a layer. When using Sequential models, prefer using an `Input(shape)` object as the first layer in the model instead.\n",
      "  super().__init__(activity_regularizer=activity_regularizer, **kwargs)\n"
     ]
    },
    {
     "name": "stdout",
     "output_type": "stream",
     "text": [
      "\u001b[1m1/1\u001b[0m \u001b[32m━━━━━━━━━━━━━━━━━━━━\u001b[0m\u001b[37m\u001b[0m \u001b[1m0s\u001b[0m 163ms/step\n",
      "RMSE: 7.418308041359017\n",
      "Testing combination: {'activation': 'tanh', 'batch_size': 32, 'epochs': 50, 'filters': 64, 'kernel_size': 2, 'units': 100}\n"
     ]
    },
    {
     "name": "stderr",
     "output_type": "stream",
     "text": [
      "c:\\Users\\asus\\AppData\\Local\\Programs\\Python\\Python310\\lib\\site-packages\\keras\\src\\layers\\convolutional\\base_conv.py:107: UserWarning: Do not pass an `input_shape`/`input_dim` argument to a layer. When using Sequential models, prefer using an `Input(shape)` object as the first layer in the model instead.\n",
      "  super().__init__(activity_regularizer=activity_regularizer, **kwargs)\n"
     ]
    },
    {
     "name": "stdout",
     "output_type": "stream",
     "text": [
      "\u001b[1m1/1\u001b[0m \u001b[32m━━━━━━━━━━━━━━━━━━━━\u001b[0m\u001b[37m\u001b[0m \u001b[1m0s\u001b[0m 160ms/step\n",
      "RMSE: 8.71574428793879\n",
      "Testing combination: {'activation': 'tanh', 'batch_size': 32, 'epochs': 50, 'filters': 64, 'kernel_size': 3, 'units': 50}\n"
     ]
    },
    {
     "name": "stderr",
     "output_type": "stream",
     "text": [
      "c:\\Users\\asus\\AppData\\Local\\Programs\\Python\\Python310\\lib\\site-packages\\keras\\src\\layers\\convolutional\\base_conv.py:107: UserWarning: Do not pass an `input_shape`/`input_dim` argument to a layer. When using Sequential models, prefer using an `Input(shape)` object as the first layer in the model instead.\n",
      "  super().__init__(activity_regularizer=activity_regularizer, **kwargs)\n"
     ]
    },
    {
     "name": "stdout",
     "output_type": "stream",
     "text": [
      "\u001b[1m1/1\u001b[0m \u001b[32m━━━━━━━━━━━━━━━━━━━━\u001b[0m\u001b[37m\u001b[0m \u001b[1m0s\u001b[0m 162ms/step\n",
      "RMSE: 11.596720579141195\n",
      "Testing combination: {'activation': 'tanh', 'batch_size': 32, 'epochs': 50, 'filters': 64, 'kernel_size': 3, 'units': 100}\n"
     ]
    },
    {
     "name": "stderr",
     "output_type": "stream",
     "text": [
      "c:\\Users\\asus\\AppData\\Local\\Programs\\Python\\Python310\\lib\\site-packages\\keras\\src\\layers\\convolutional\\base_conv.py:107: UserWarning: Do not pass an `input_shape`/`input_dim` argument to a layer. When using Sequential models, prefer using an `Input(shape)` object as the first layer in the model instead.\n",
      "  super().__init__(activity_regularizer=activity_regularizer, **kwargs)\n"
     ]
    },
    {
     "name": "stdout",
     "output_type": "stream",
     "text": [
      "\u001b[1m1/1\u001b[0m \u001b[32m━━━━━━━━━━━━━━━━━━━━\u001b[0m\u001b[37m\u001b[0m \u001b[1m0s\u001b[0m 162ms/step\n",
      "RMSE: 7.461188738763545\n",
      "Testing combination: {'activation': 'tanh', 'batch_size': 32, 'epochs': 100, 'filters': 32, 'kernel_size': 1, 'units': 50}\n"
     ]
    },
    {
     "name": "stderr",
     "output_type": "stream",
     "text": [
      "c:\\Users\\asus\\AppData\\Local\\Programs\\Python\\Python310\\lib\\site-packages\\keras\\src\\layers\\convolutional\\base_conv.py:107: UserWarning: Do not pass an `input_shape`/`input_dim` argument to a layer. When using Sequential models, prefer using an `Input(shape)` object as the first layer in the model instead.\n",
      "  super().__init__(activity_regularizer=activity_regularizer, **kwargs)\n"
     ]
    },
    {
     "name": "stdout",
     "output_type": "stream",
     "text": [
      "\u001b[1m1/1\u001b[0m \u001b[32m━━━━━━━━━━━━━━━━━━━━\u001b[0m\u001b[37m\u001b[0m \u001b[1m0s\u001b[0m 159ms/step\n",
      "RMSE: 6.4972809076663625\n",
      "Testing combination: {'activation': 'tanh', 'batch_size': 32, 'epochs': 100, 'filters': 32, 'kernel_size': 1, 'units': 100}\n"
     ]
    },
    {
     "name": "stderr",
     "output_type": "stream",
     "text": [
      "c:\\Users\\asus\\AppData\\Local\\Programs\\Python\\Python310\\lib\\site-packages\\keras\\src\\layers\\convolutional\\base_conv.py:107: UserWarning: Do not pass an `input_shape`/`input_dim` argument to a layer. When using Sequential models, prefer using an `Input(shape)` object as the first layer in the model instead.\n",
      "  super().__init__(activity_regularizer=activity_regularizer, **kwargs)\n"
     ]
    },
    {
     "name": "stdout",
     "output_type": "stream",
     "text": [
      "\u001b[1m1/1\u001b[0m \u001b[32m━━━━━━━━━━━━━━━━━━━━\u001b[0m\u001b[37m\u001b[0m \u001b[1m0s\u001b[0m 161ms/step\n",
      "RMSE: 5.513737661220289\n",
      "Testing combination: {'activation': 'tanh', 'batch_size': 32, 'epochs': 100, 'filters': 32, 'kernel_size': 2, 'units': 50}\n"
     ]
    },
    {
     "name": "stderr",
     "output_type": "stream",
     "text": [
      "c:\\Users\\asus\\AppData\\Local\\Programs\\Python\\Python310\\lib\\site-packages\\keras\\src\\layers\\convolutional\\base_conv.py:107: UserWarning: Do not pass an `input_shape`/`input_dim` argument to a layer. When using Sequential models, prefer using an `Input(shape)` object as the first layer in the model instead.\n",
      "  super().__init__(activity_regularizer=activity_regularizer, **kwargs)\n"
     ]
    },
    {
     "name": "stdout",
     "output_type": "stream",
     "text": [
      "\u001b[1m1/1\u001b[0m \u001b[32m━━━━━━━━━━━━━━━━━━━━\u001b[0m\u001b[37m\u001b[0m \u001b[1m0s\u001b[0m 158ms/step\n",
      "RMSE: 6.949020909950066\n",
      "Testing combination: {'activation': 'tanh', 'batch_size': 32, 'epochs': 100, 'filters': 32, 'kernel_size': 2, 'units': 100}\n"
     ]
    },
    {
     "name": "stderr",
     "output_type": "stream",
     "text": [
      "c:\\Users\\asus\\AppData\\Local\\Programs\\Python\\Python310\\lib\\site-packages\\keras\\src\\layers\\convolutional\\base_conv.py:107: UserWarning: Do not pass an `input_shape`/`input_dim` argument to a layer. When using Sequential models, prefer using an `Input(shape)` object as the first layer in the model instead.\n",
      "  super().__init__(activity_regularizer=activity_regularizer, **kwargs)\n"
     ]
    },
    {
     "name": "stdout",
     "output_type": "stream",
     "text": [
      "\u001b[1m1/1\u001b[0m \u001b[32m━━━━━━━━━━━━━━━━━━━━\u001b[0m\u001b[37m\u001b[0m \u001b[1m0s\u001b[0m 161ms/step\n",
      "RMSE: 7.265948790672928\n",
      "Testing combination: {'activation': 'tanh', 'batch_size': 32, 'epochs': 100, 'filters': 32, 'kernel_size': 3, 'units': 50}\n"
     ]
    },
    {
     "name": "stderr",
     "output_type": "stream",
     "text": [
      "c:\\Users\\asus\\AppData\\Local\\Programs\\Python\\Python310\\lib\\site-packages\\keras\\src\\layers\\convolutional\\base_conv.py:107: UserWarning: Do not pass an `input_shape`/`input_dim` argument to a layer. When using Sequential models, prefer using an `Input(shape)` object as the first layer in the model instead.\n",
      "  super().__init__(activity_regularizer=activity_regularizer, **kwargs)\n"
     ]
    },
    {
     "name": "stdout",
     "output_type": "stream",
     "text": [
      "\u001b[1m1/1\u001b[0m \u001b[32m━━━━━━━━━━━━━━━━━━━━\u001b[0m\u001b[37m\u001b[0m \u001b[1m0s\u001b[0m 164ms/step\n",
      "RMSE: 10.208315896562688\n",
      "Testing combination: {'activation': 'tanh', 'batch_size': 32, 'epochs': 100, 'filters': 32, 'kernel_size': 3, 'units': 100}\n"
     ]
    },
    {
     "name": "stderr",
     "output_type": "stream",
     "text": [
      "c:\\Users\\asus\\AppData\\Local\\Programs\\Python\\Python310\\lib\\site-packages\\keras\\src\\layers\\convolutional\\base_conv.py:107: UserWarning: Do not pass an `input_shape`/`input_dim` argument to a layer. When using Sequential models, prefer using an `Input(shape)` object as the first layer in the model instead.\n",
      "  super().__init__(activity_regularizer=activity_regularizer, **kwargs)\n"
     ]
    },
    {
     "name": "stdout",
     "output_type": "stream",
     "text": [
      "\u001b[1m1/1\u001b[0m \u001b[32m━━━━━━━━━━━━━━━━━━━━\u001b[0m\u001b[37m\u001b[0m \u001b[1m0s\u001b[0m 159ms/step\n",
      "RMSE: 8.439896193796802\n",
      "Testing combination: {'activation': 'tanh', 'batch_size': 32, 'epochs': 100, 'filters': 64, 'kernel_size': 1, 'units': 50}\n"
     ]
    },
    {
     "name": "stderr",
     "output_type": "stream",
     "text": [
      "c:\\Users\\asus\\AppData\\Local\\Programs\\Python\\Python310\\lib\\site-packages\\keras\\src\\layers\\convolutional\\base_conv.py:107: UserWarning: Do not pass an `input_shape`/`input_dim` argument to a layer. When using Sequential models, prefer using an `Input(shape)` object as the first layer in the model instead.\n",
      "  super().__init__(activity_regularizer=activity_regularizer, **kwargs)\n"
     ]
    },
    {
     "name": "stdout",
     "output_type": "stream",
     "text": [
      "\u001b[1m1/1\u001b[0m \u001b[32m━━━━━━━━━━━━━━━━━━━━\u001b[0m\u001b[37m\u001b[0m \u001b[1m0s\u001b[0m 160ms/step\n",
      "RMSE: 4.682399626208828\n",
      "Testing combination: {'activation': 'tanh', 'batch_size': 32, 'epochs': 100, 'filters': 64, 'kernel_size': 1, 'units': 100}\n"
     ]
    },
    {
     "name": "stderr",
     "output_type": "stream",
     "text": [
      "c:\\Users\\asus\\AppData\\Local\\Programs\\Python\\Python310\\lib\\site-packages\\keras\\src\\layers\\convolutional\\base_conv.py:107: UserWarning: Do not pass an `input_shape`/`input_dim` argument to a layer. When using Sequential models, prefer using an `Input(shape)` object as the first layer in the model instead.\n",
      "  super().__init__(activity_regularizer=activity_regularizer, **kwargs)\n"
     ]
    },
    {
     "name": "stdout",
     "output_type": "stream",
     "text": [
      "\u001b[1m1/1\u001b[0m \u001b[32m━━━━━━━━━━━━━━━━━━━━\u001b[0m\u001b[37m\u001b[0m \u001b[1m0s\u001b[0m 163ms/step\n",
      "RMSE: 5.595340693872313\n",
      "Testing combination: {'activation': 'tanh', 'batch_size': 32, 'epochs': 100, 'filters': 64, 'kernel_size': 2, 'units': 50}\n"
     ]
    },
    {
     "name": "stderr",
     "output_type": "stream",
     "text": [
      "c:\\Users\\asus\\AppData\\Local\\Programs\\Python\\Python310\\lib\\site-packages\\keras\\src\\layers\\convolutional\\base_conv.py:107: UserWarning: Do not pass an `input_shape`/`input_dim` argument to a layer. When using Sequential models, prefer using an `Input(shape)` object as the first layer in the model instead.\n",
      "  super().__init__(activity_regularizer=activity_regularizer, **kwargs)\n"
     ]
    },
    {
     "name": "stdout",
     "output_type": "stream",
     "text": [
      "\u001b[1m1/1\u001b[0m \u001b[32m━━━━━━━━━━━━━━━━━━━━\u001b[0m\u001b[37m\u001b[0m \u001b[1m0s\u001b[0m 161ms/step\n",
      "RMSE: 6.7565879860427795\n",
      "Testing combination: {'activation': 'tanh', 'batch_size': 32, 'epochs': 100, 'filters': 64, 'kernel_size': 2, 'units': 100}\n"
     ]
    },
    {
     "name": "stderr",
     "output_type": "stream",
     "text": [
      "c:\\Users\\asus\\AppData\\Local\\Programs\\Python\\Python310\\lib\\site-packages\\keras\\src\\layers\\convolutional\\base_conv.py:107: UserWarning: Do not pass an `input_shape`/`input_dim` argument to a layer. When using Sequential models, prefer using an `Input(shape)` object as the first layer in the model instead.\n",
      "  super().__init__(activity_regularizer=activity_regularizer, **kwargs)\n"
     ]
    },
    {
     "name": "stdout",
     "output_type": "stream",
     "text": [
      "\u001b[1m1/1\u001b[0m \u001b[32m━━━━━━━━━━━━━━━━━━━━\u001b[0m\u001b[37m\u001b[0m \u001b[1m0s\u001b[0m 160ms/step\n",
      "RMSE: 5.5703588981364405\n",
      "Testing combination: {'activation': 'tanh', 'batch_size': 32, 'epochs': 100, 'filters': 64, 'kernel_size': 3, 'units': 50}\n"
     ]
    },
    {
     "name": "stderr",
     "output_type": "stream",
     "text": [
      "c:\\Users\\asus\\AppData\\Local\\Programs\\Python\\Python310\\lib\\site-packages\\keras\\src\\layers\\convolutional\\base_conv.py:107: UserWarning: Do not pass an `input_shape`/`input_dim` argument to a layer. When using Sequential models, prefer using an `Input(shape)` object as the first layer in the model instead.\n",
      "  super().__init__(activity_regularizer=activity_regularizer, **kwargs)\n"
     ]
    },
    {
     "name": "stdout",
     "output_type": "stream",
     "text": [
      "\u001b[1m1/1\u001b[0m \u001b[32m━━━━━━━━━━━━━━━━━━━━\u001b[0m\u001b[37m\u001b[0m \u001b[1m0s\u001b[0m 161ms/step\n",
      "RMSE: 4.749559048894353\n",
      "Testing combination: {'activation': 'tanh', 'batch_size': 32, 'epochs': 100, 'filters': 64, 'kernel_size': 3, 'units': 100}\n"
     ]
    },
    {
     "name": "stderr",
     "output_type": "stream",
     "text": [
      "c:\\Users\\asus\\AppData\\Local\\Programs\\Python\\Python310\\lib\\site-packages\\keras\\src\\layers\\convolutional\\base_conv.py:107: UserWarning: Do not pass an `input_shape`/`input_dim` argument to a layer. When using Sequential models, prefer using an `Input(shape)` object as the first layer in the model instead.\n",
      "  super().__init__(activity_regularizer=activity_regularizer, **kwargs)\n"
     ]
    },
    {
     "name": "stdout",
     "output_type": "stream",
     "text": [
      "\u001b[1m1/1\u001b[0m \u001b[32m━━━━━━━━━━━━━━━━━━━━\u001b[0m\u001b[37m\u001b[0m \u001b[1m0s\u001b[0m 162ms/step\n",
      "RMSE: 4.428559961543868\n",
      "Best RMSE: 0.4480290518217651\n",
      "Best parameters: {'activation': 'relu', 'batch_size': 16, 'epochs': 100, 'filters': 32, 'kernel_size': 1, 'units': 100}\n",
      "Params: {'activation': 'relu', 'batch_size': 16, 'epochs': 50, 'filters': 32, 'kernel_size': 1, 'units': 50} -> RMSE: 1.690204158661094\n",
      "Params: {'activation': 'relu', 'batch_size': 16, 'epochs': 50, 'filters': 32, 'kernel_size': 1, 'units': 100} -> RMSE: 9.63652475499517\n",
      "Params: {'activation': 'relu', 'batch_size': 16, 'epochs': 50, 'filters': 32, 'kernel_size': 2, 'units': 50} -> RMSE: 3.6664649940031917\n",
      "Params: {'activation': 'relu', 'batch_size': 16, 'epochs': 50, 'filters': 32, 'kernel_size': 2, 'units': 100} -> RMSE: 0.4620468400252326\n",
      "Params: {'activation': 'relu', 'batch_size': 16, 'epochs': 50, 'filters': 32, 'kernel_size': 3, 'units': 50} -> RMSE: 1.4586354120709049\n",
      "Params: {'activation': 'relu', 'batch_size': 16, 'epochs': 50, 'filters': 32, 'kernel_size': 3, 'units': 100} -> RMSE: 0.7760385794139955\n",
      "Params: {'activation': 'relu', 'batch_size': 16, 'epochs': 50, 'filters': 64, 'kernel_size': 1, 'units': 50} -> RMSE: 1.1950483692633764\n",
      "Params: {'activation': 'relu', 'batch_size': 16, 'epochs': 50, 'filters': 64, 'kernel_size': 1, 'units': 100} -> RMSE: 0.7947045933557128\n",
      "Params: {'activation': 'relu', 'batch_size': 16, 'epochs': 50, 'filters': 64, 'kernel_size': 2, 'units': 50} -> RMSE: 2.1931144467370762\n",
      "Params: {'activation': 'relu', 'batch_size': 16, 'epochs': 50, 'filters': 64, 'kernel_size': 2, 'units': 100} -> RMSE: 1.7840901009869383\n",
      "Params: {'activation': 'relu', 'batch_size': 16, 'epochs': 50, 'filters': 64, 'kernel_size': 3, 'units': 50} -> RMSE: 1.1510243403593063\n",
      "Params: {'activation': 'relu', 'batch_size': 16, 'epochs': 50, 'filters': 64, 'kernel_size': 3, 'units': 100} -> RMSE: 2.037244905526877\n",
      "Params: {'activation': 'relu', 'batch_size': 16, 'epochs': 100, 'filters': 32, 'kernel_size': 1, 'units': 50} -> RMSE: 1.345974269417562\n",
      "Params: {'activation': 'relu', 'batch_size': 16, 'epochs': 100, 'filters': 32, 'kernel_size': 1, 'units': 100} -> RMSE: 0.4480290518217651\n",
      "Params: {'activation': 'relu', 'batch_size': 16, 'epochs': 100, 'filters': 32, 'kernel_size': 2, 'units': 50} -> RMSE: 1.3175810435929591\n",
      "Params: {'activation': 'relu', 'batch_size': 16, 'epochs': 100, 'filters': 32, 'kernel_size': 2, 'units': 100} -> RMSE: 1.7407730691163095\n",
      "Params: {'activation': 'relu', 'batch_size': 16, 'epochs': 100, 'filters': 32, 'kernel_size': 3, 'units': 50} -> RMSE: 5.451391965558739\n",
      "Params: {'activation': 'relu', 'batch_size': 16, 'epochs': 100, 'filters': 32, 'kernel_size': 3, 'units': 100} -> RMSE: 0.9095546002854613\n",
      "Params: {'activation': 'relu', 'batch_size': 16, 'epochs': 100, 'filters': 64, 'kernel_size': 1, 'units': 50} -> RMSE: 0.8148038644449008\n",
      "Params: {'activation': 'relu', 'batch_size': 16, 'epochs': 100, 'filters': 64, 'kernel_size': 1, 'units': 100} -> RMSE: 1.8409221793153925\n",
      "Params: {'activation': 'relu', 'batch_size': 16, 'epochs': 100, 'filters': 64, 'kernel_size': 2, 'units': 50} -> RMSE: 0.7146039091606177\n",
      "Params: {'activation': 'relu', 'batch_size': 16, 'epochs': 100, 'filters': 64, 'kernel_size': 2, 'units': 100} -> RMSE: 0.6723046227662023\n",
      "Params: {'activation': 'relu', 'batch_size': 16, 'epochs': 100, 'filters': 64, 'kernel_size': 3, 'units': 50} -> RMSE: 1.4071290618738836\n",
      "Params: {'activation': 'relu', 'batch_size': 16, 'epochs': 100, 'filters': 64, 'kernel_size': 3, 'units': 100} -> RMSE: 6.753157305031007\n",
      "Params: {'activation': 'relu', 'batch_size': 32, 'epochs': 50, 'filters': 32, 'kernel_size': 1, 'units': 50} -> RMSE: 5.538251522635823\n",
      "Params: {'activation': 'relu', 'batch_size': 32, 'epochs': 50, 'filters': 32, 'kernel_size': 1, 'units': 100} -> RMSE: 5.241922420109338\n",
      "Params: {'activation': 'relu', 'batch_size': 32, 'epochs': 50, 'filters': 32, 'kernel_size': 2, 'units': 50} -> RMSE: 1.5761979511755568\n",
      "Params: {'activation': 'relu', 'batch_size': 32, 'epochs': 50, 'filters': 32, 'kernel_size': 2, 'units': 100} -> RMSE: 13.801957396909259\n",
      "Params: {'activation': 'relu', 'batch_size': 32, 'epochs': 50, 'filters': 32, 'kernel_size': 3, 'units': 50} -> RMSE: 4.061867394535105\n",
      "Params: {'activation': 'relu', 'batch_size': 32, 'epochs': 50, 'filters': 32, 'kernel_size': 3, 'units': 100} -> RMSE: 4.929402662020447\n",
      "Params: {'activation': 'relu', 'batch_size': 32, 'epochs': 50, 'filters': 64, 'kernel_size': 1, 'units': 50} -> RMSE: 2.9396519301454833\n",
      "Params: {'activation': 'relu', 'batch_size': 32, 'epochs': 50, 'filters': 64, 'kernel_size': 1, 'units': 100} -> RMSE: 4.7289693078127115\n",
      "Params: {'activation': 'relu', 'batch_size': 32, 'epochs': 50, 'filters': 64, 'kernel_size': 2, 'units': 50} -> RMSE: 8.344275682171464\n",
      "Params: {'activation': 'relu', 'batch_size': 32, 'epochs': 50, 'filters': 64, 'kernel_size': 2, 'units': 100} -> RMSE: 2.962366917995218\n",
      "Params: {'activation': 'relu', 'batch_size': 32, 'epochs': 50, 'filters': 64, 'kernel_size': 3, 'units': 50} -> RMSE: 3.0760782446501667\n",
      "Params: {'activation': 'relu', 'batch_size': 32, 'epochs': 50, 'filters': 64, 'kernel_size': 3, 'units': 100} -> RMSE: 6.02110845374158\n",
      "Params: {'activation': 'relu', 'batch_size': 32, 'epochs': 100, 'filters': 32, 'kernel_size': 1, 'units': 50} -> RMSE: 4.278517491715595\n",
      "Params: {'activation': 'relu', 'batch_size': 32, 'epochs': 100, 'filters': 32, 'kernel_size': 1, 'units': 100} -> RMSE: 13.071693566133819\n",
      "Params: {'activation': 'relu', 'batch_size': 32, 'epochs': 100, 'filters': 32, 'kernel_size': 2, 'units': 50} -> RMSE: 2.114503724458626\n",
      "Params: {'activation': 'relu', 'batch_size': 32, 'epochs': 100, 'filters': 32, 'kernel_size': 2, 'units': 100} -> RMSE: 1.1271846037849234\n",
      "Params: {'activation': 'relu', 'batch_size': 32, 'epochs': 100, 'filters': 32, 'kernel_size': 3, 'units': 50} -> RMSE: 10.760178106514587\n",
      "Params: {'activation': 'relu', 'batch_size': 32, 'epochs': 100, 'filters': 32, 'kernel_size': 3, 'units': 100} -> RMSE: 1.3379734690357121\n",
      "Params: {'activation': 'relu', 'batch_size': 32, 'epochs': 100, 'filters': 64, 'kernel_size': 1, 'units': 50} -> RMSE: 2.8303503063111344\n",
      "Params: {'activation': 'relu', 'batch_size': 32, 'epochs': 100, 'filters': 64, 'kernel_size': 1, 'units': 100} -> RMSE: 9.216877164933422\n",
      "Params: {'activation': 'relu', 'batch_size': 32, 'epochs': 100, 'filters': 64, 'kernel_size': 2, 'units': 50} -> RMSE: 1.1212075909801598\n",
      "Params: {'activation': 'relu', 'batch_size': 32, 'epochs': 100, 'filters': 64, 'kernel_size': 2, 'units': 100} -> RMSE: 2.146629009465061\n",
      "Params: {'activation': 'relu', 'batch_size': 32, 'epochs': 100, 'filters': 64, 'kernel_size': 3, 'units': 50} -> RMSE: 5.221833348058459\n",
      "Params: {'activation': 'relu', 'batch_size': 32, 'epochs': 100, 'filters': 64, 'kernel_size': 3, 'units': 100} -> RMSE: 1.266480356570686\n",
      "Params: {'activation': 'tanh', 'batch_size': 16, 'epochs': 50, 'filters': 32, 'kernel_size': 1, 'units': 50} -> RMSE: 10.304448156976\n",
      "Params: {'activation': 'tanh', 'batch_size': 16, 'epochs': 50, 'filters': 32, 'kernel_size': 1, 'units': 100} -> RMSE: 6.92202843830531\n",
      "Params: {'activation': 'tanh', 'batch_size': 16, 'epochs': 50, 'filters': 32, 'kernel_size': 2, 'units': 50} -> RMSE: 8.299656612516662\n",
      "Params: {'activation': 'tanh', 'batch_size': 16, 'epochs': 50, 'filters': 32, 'kernel_size': 2, 'units': 100} -> RMSE: 9.607929776317317\n",
      "Params: {'activation': 'tanh', 'batch_size': 16, 'epochs': 50, 'filters': 32, 'kernel_size': 3, 'units': 50} -> RMSE: 13.536060941673194\n",
      "Params: {'activation': 'tanh', 'batch_size': 16, 'epochs': 50, 'filters': 32, 'kernel_size': 3, 'units': 100} -> RMSE: 10.511335862546966\n",
      "Params: {'activation': 'tanh', 'batch_size': 16, 'epochs': 50, 'filters': 64, 'kernel_size': 1, 'units': 50} -> RMSE: 9.826599952993293\n",
      "Params: {'activation': 'tanh', 'batch_size': 16, 'epochs': 50, 'filters': 64, 'kernel_size': 1, 'units': 100} -> RMSE: 10.364421783269831\n",
      "Params: {'activation': 'tanh', 'batch_size': 16, 'epochs': 50, 'filters': 64, 'kernel_size': 2, 'units': 50} -> RMSE: 7.217072953324874\n",
      "Params: {'activation': 'tanh', 'batch_size': 16, 'epochs': 50, 'filters': 64, 'kernel_size': 2, 'units': 100} -> RMSE: 6.555683203464982\n",
      "Params: {'activation': 'tanh', 'batch_size': 16, 'epochs': 50, 'filters': 64, 'kernel_size': 3, 'units': 50} -> RMSE: 6.728884005656229\n",
      "Params: {'activation': 'tanh', 'batch_size': 16, 'epochs': 50, 'filters': 64, 'kernel_size': 3, 'units': 100} -> RMSE: 6.551875056572619\n",
      "Params: {'activation': 'tanh', 'batch_size': 16, 'epochs': 100, 'filters': 32, 'kernel_size': 1, 'units': 50} -> RMSE: 5.957303806977459\n",
      "Params: {'activation': 'tanh', 'batch_size': 16, 'epochs': 100, 'filters': 32, 'kernel_size': 1, 'units': 100} -> RMSE: 10.008063491364435\n",
      "Params: {'activation': 'tanh', 'batch_size': 16, 'epochs': 100, 'filters': 32, 'kernel_size': 2, 'units': 50} -> RMSE: 5.026672395285329\n",
      "Params: {'activation': 'tanh', 'batch_size': 16, 'epochs': 100, 'filters': 32, 'kernel_size': 2, 'units': 100} -> RMSE: 4.032767322784594\n",
      "Params: {'activation': 'tanh', 'batch_size': 16, 'epochs': 100, 'filters': 32, 'kernel_size': 3, 'units': 50} -> RMSE: 13.704066910864913\n",
      "Params: {'activation': 'tanh', 'batch_size': 16, 'epochs': 100, 'filters': 32, 'kernel_size': 3, 'units': 100} -> RMSE: 5.0365393414275195\n",
      "Params: {'activation': 'tanh', 'batch_size': 16, 'epochs': 100, 'filters': 64, 'kernel_size': 1, 'units': 50} -> RMSE: 6.11315137320905\n",
      "Params: {'activation': 'tanh', 'batch_size': 16, 'epochs': 100, 'filters': 64, 'kernel_size': 1, 'units': 100} -> RMSE: 6.616788785990425\n",
      "Params: {'activation': 'tanh', 'batch_size': 16, 'epochs': 100, 'filters': 64, 'kernel_size': 2, 'units': 50} -> RMSE: 3.995800078646584\n",
      "Params: {'activation': 'tanh', 'batch_size': 16, 'epochs': 100, 'filters': 64, 'kernel_size': 2, 'units': 100} -> RMSE: 4.184833642489209\n",
      "Params: {'activation': 'tanh', 'batch_size': 16, 'epochs': 100, 'filters': 64, 'kernel_size': 3, 'units': 50} -> RMSE: 4.775830373500821\n",
      "Params: {'activation': 'tanh', 'batch_size': 16, 'epochs': 100, 'filters': 64, 'kernel_size': 3, 'units': 100} -> RMSE: 3.6618254409645616\n",
      "Params: {'activation': 'tanh', 'batch_size': 32, 'epochs': 50, 'filters': 32, 'kernel_size': 1, 'units': 50} -> RMSE: 16.699168158336082\n",
      "Params: {'activation': 'tanh', 'batch_size': 32, 'epochs': 50, 'filters': 32, 'kernel_size': 1, 'units': 100} -> RMSE: 8.099102233601627\n",
      "Params: {'activation': 'tanh', 'batch_size': 32, 'epochs': 50, 'filters': 32, 'kernel_size': 2, 'units': 50} -> RMSE: 9.749380174212252\n",
      "Params: {'activation': 'tanh', 'batch_size': 32, 'epochs': 50, 'filters': 32, 'kernel_size': 2, 'units': 100} -> RMSE: 7.313023073248617\n",
      "Params: {'activation': 'tanh', 'batch_size': 32, 'epochs': 50, 'filters': 32, 'kernel_size': 3, 'units': 50} -> RMSE: 15.06918033002011\n",
      "Params: {'activation': 'tanh', 'batch_size': 32, 'epochs': 50, 'filters': 32, 'kernel_size': 3, 'units': 100} -> RMSE: 8.630717916770529\n",
      "Params: {'activation': 'tanh', 'batch_size': 32, 'epochs': 50, 'filters': 64, 'kernel_size': 1, 'units': 50} -> RMSE: 8.83924576762991\n",
      "Params: {'activation': 'tanh', 'batch_size': 32, 'epochs': 50, 'filters': 64, 'kernel_size': 1, 'units': 100} -> RMSE: 8.10611329216457\n",
      "Params: {'activation': 'tanh', 'batch_size': 32, 'epochs': 50, 'filters': 64, 'kernel_size': 2, 'units': 50} -> RMSE: 7.418308041359017\n",
      "Params: {'activation': 'tanh', 'batch_size': 32, 'epochs': 50, 'filters': 64, 'kernel_size': 2, 'units': 100} -> RMSE: 8.71574428793879\n",
      "Params: {'activation': 'tanh', 'batch_size': 32, 'epochs': 50, 'filters': 64, 'kernel_size': 3, 'units': 50} -> RMSE: 11.596720579141195\n",
      "Params: {'activation': 'tanh', 'batch_size': 32, 'epochs': 50, 'filters': 64, 'kernel_size': 3, 'units': 100} -> RMSE: 7.461188738763545\n",
      "Params: {'activation': 'tanh', 'batch_size': 32, 'epochs': 100, 'filters': 32, 'kernel_size': 1, 'units': 50} -> RMSE: 6.4972809076663625\n",
      "Params: {'activation': 'tanh', 'batch_size': 32, 'epochs': 100, 'filters': 32, 'kernel_size': 1, 'units': 100} -> RMSE: 5.513737661220289\n",
      "Params: {'activation': 'tanh', 'batch_size': 32, 'epochs': 100, 'filters': 32, 'kernel_size': 2, 'units': 50} -> RMSE: 6.949020909950066\n",
      "Params: {'activation': 'tanh', 'batch_size': 32, 'epochs': 100, 'filters': 32, 'kernel_size': 2, 'units': 100} -> RMSE: 7.265948790672928\n",
      "Params: {'activation': 'tanh', 'batch_size': 32, 'epochs': 100, 'filters': 32, 'kernel_size': 3, 'units': 50} -> RMSE: 10.208315896562688\n",
      "Params: {'activation': 'tanh', 'batch_size': 32, 'epochs': 100, 'filters': 32, 'kernel_size': 3, 'units': 100} -> RMSE: 8.439896193796802\n",
      "Params: {'activation': 'tanh', 'batch_size': 32, 'epochs': 100, 'filters': 64, 'kernel_size': 1, 'units': 50} -> RMSE: 4.682399626208828\n",
      "Params: {'activation': 'tanh', 'batch_size': 32, 'epochs': 100, 'filters': 64, 'kernel_size': 1, 'units': 100} -> RMSE: 5.595340693872313\n",
      "Params: {'activation': 'tanh', 'batch_size': 32, 'epochs': 100, 'filters': 64, 'kernel_size': 2, 'units': 50} -> RMSE: 6.7565879860427795\n",
      "Params: {'activation': 'tanh', 'batch_size': 32, 'epochs': 100, 'filters': 64, 'kernel_size': 2, 'units': 100} -> RMSE: 5.5703588981364405\n",
      "Params: {'activation': 'tanh', 'batch_size': 32, 'epochs': 100, 'filters': 64, 'kernel_size': 3, 'units': 50} -> RMSE: 4.749559048894353\n",
      "Params: {'activation': 'tanh', 'batch_size': 32, 'epochs': 100, 'filters': 64, 'kernel_size': 3, 'units': 100} -> RMSE: 4.428559961543868\n"
     ]
    }
   ],
   "source": [
    "# Data preprocessing\n",
    "X = buku_000[['Jumlah_buku_dipinjam']].values\n",
    "y = buku_000[['Jumlah_buku_dipinjam']].values\n",
    "\n",
    "X_train, X_test, y_train, y_test = train_test_split(X, y, test_size=0.3, shuffle=False)\n",
    "X_train = np.array(X_train).reshape((X_train.shape[0], 1, 1))\n",
    "X_test = np.array(X_test).reshape((X_test.shape[0], 1, 1))\n",
    "\n",
    "scaler = MinMaxScaler()\n",
    "y_train_scaled = scaler.fit_transform(y_train)\n",
    "y_test_scaled = scaler.transform(y_test)\n",
    "\n",
    "# Parameter grid\n",
    "param_grid = {\n",
    "    'epochs': [50, 100],\n",
    "    'batch_size': [16, 32],\n",
    "    'activation': ['relu', 'tanh'],\n",
    "    'filters': [32, 64],\n",
    "    'units': [50, 100],\n",
    "    'kernel_size': [1, 2, 3]\n",
    "}\n",
    "\n",
    "# Grid Search\n",
    "best_rmse = float('inf')\n",
    "best_params = None\n",
    "results = []\n",
    "\n",
    "# Iterate over parameter grid\n",
    "for params in ParameterGrid(param_grid):\n",
    "    print(f\"Testing combination: {params}\")\n",
    "    \n",
    "    # Build model\n",
    "    model = Sequential()\n",
    "    \n",
    "    # CNN Layer\n",
    "    model.add(Conv1D(filters=params['filters'], kernel_size=1, activation=params['activation'], input_shape=(1, 1)))\n",
    "    model.add(MaxPooling1D(pool_size=1))\n",
    "    model.add(Flatten())\n",
    "    \n",
    "    # Reshape for GRU\n",
    "    model.add(Reshape((1, params['filters'])))\n",
    "    \n",
    "    # GRU Layer\n",
    "    model.add(GRU(units=params['units'], activation=params['activation']))\n",
    "    \n",
    "    # Output Layer\n",
    "    model.add(Dense(1))\n",
    "    \n",
    "    # Compile model\n",
    "    model.compile(optimizer=Adam(), loss='mean_squared_error')\n",
    "    \n",
    "    # Train model\n",
    "    history = model.fit(X_train, y_train_scaled, epochs=params['epochs'], batch_size=params['batch_size'], verbose=0)\n",
    "    \n",
    "    # Evaluate model\n",
    "    y_pred = model.predict(X_test)\n",
    "    y_pred_inverse = scaler.inverse_transform(y_pred)\n",
    "    y_test_inverse = scaler.inverse_transform(y_test_scaled)\n",
    "    mse = mean_squared_error(y_test_inverse, y_pred_inverse)\n",
    "    rmse = np.sqrt(mse)\n",
    "    print(f\"RMSE: {rmse}\")\n",
    "    \n",
    "    # Store results\n",
    "    results.append((params, rmse))\n",
    "    \n",
    "    # Update best parameters\n",
    "    if rmse < best_rmse:\n",
    "        best_rmse = rmse\n",
    "        best_params = params\n",
    "\n",
    "# Print best parameters and RMSE\n",
    "print(f\"Best RMSE: {best_rmse}\")\n",
    "print(f\"Best parameters: {best_params}\")\n",
    "\n",
    "# Display all results\n",
    "for res in results:\n",
    "    print(f\"Params: {res[0]} -> RMSE: {res[1]}\")"
   ]
  },
  {
   "cell_type": "markdown",
   "metadata": {},
   "source": [
    "Model CNN-GRU"
   ]
  },
  {
   "cell_type": "code",
   "execution_count": 18,
   "metadata": {
    "colab": {
     "base_uri": "https://localhost:8080/",
     "height": 1000
    },
    "collapsed": true,
    "executionInfo": {
     "elapsed": 19090,
     "status": "ok",
     "timestamp": 1731901429451,
     "user": {
      "displayName": "Andika Ryan N",
      "userId": "01511396785984303975"
     },
     "user_tz": -420
    },
    "id": "ADEf4pW_fl-g",
    "outputId": "75cc0ef1-fe29-4340-9f27-0bf385edd8e6"
   },
   "outputs": [
    {
     "name": "stdout",
     "output_type": "stream",
     "text": [
      "Epoch 1/100\n"
     ]
    },
    {
     "name": "stderr",
     "output_type": "stream",
     "text": [
      "c:\\Users\\asus\\AppData\\Local\\Programs\\Python\\Python310\\lib\\site-packages\\keras\\src\\layers\\convolutional\\base_conv.py:107: UserWarning: Do not pass an `input_shape`/`input_dim` argument to a layer. When using Sequential models, prefer using an `Input(shape)` object as the first layer in the model instead.\n",
      "  super().__init__(activity_regularizer=activity_regularizer, **kwargs)\n"
     ]
    },
    {
     "name": "stdout",
     "output_type": "stream",
     "text": [
      "\u001b[1m4/4\u001b[0m \u001b[32m━━━━━━━━━━━━━━━━━━━━\u001b[0m\u001b[37m\u001b[0m \u001b[1m6s\u001b[0m 7ms/step - loss: 2.5200 \n",
      "Epoch 2/100\n",
      "\u001b[1m4/4\u001b[0m \u001b[32m━━━━━━━━━━━━━━━━━━━━\u001b[0m\u001b[37m\u001b[0m \u001b[1m0s\u001b[0m 3ms/step - loss: 3.0292 \n",
      "Epoch 3/100\n",
      "\u001b[1m4/4\u001b[0m \u001b[32m━━━━━━━━━━━━━━━━━━━━\u001b[0m\u001b[37m\u001b[0m \u001b[1m0s\u001b[0m 3ms/step - loss: 1.2455\n",
      "Epoch 4/100\n",
      "\u001b[1m4/4\u001b[0m \u001b[32m━━━━━━━━━━━━━━━━━━━━\u001b[0m\u001b[37m\u001b[0m \u001b[1m0s\u001b[0m 4ms/step - loss: 0.4275 \n",
      "Epoch 5/100\n",
      "\u001b[1m4/4\u001b[0m \u001b[32m━━━━━━━━━━━━━━━━━━━━\u001b[0m\u001b[37m\u001b[0m \u001b[1m0s\u001b[0m 2ms/step - loss: 1.1963 \n",
      "Epoch 6/100\n",
      "\u001b[1m4/4\u001b[0m \u001b[32m━━━━━━━━━━━━━━━━━━━━\u001b[0m\u001b[37m\u001b[0m \u001b[1m0s\u001b[0m 3ms/step - loss: 0.1616\n",
      "Epoch 7/100\n",
      "\u001b[1m4/4\u001b[0m \u001b[32m━━━━━━━━━━━━━━━━━━━━\u001b[0m\u001b[37m\u001b[0m \u001b[1m0s\u001b[0m 3ms/step - loss: 0.3619\n",
      "Epoch 8/100\n",
      "\u001b[1m4/4\u001b[0m \u001b[32m━━━━━━━━━━━━━━━━━━━━\u001b[0m\u001b[37m\u001b[0m \u001b[1m0s\u001b[0m 4ms/step - loss: 0.1563\n",
      "Epoch 9/100\n",
      "\u001b[1m4/4\u001b[0m \u001b[32m━━━━━━━━━━━━━━━━━━━━\u001b[0m\u001b[37m\u001b[0m \u001b[1m0s\u001b[0m 3ms/step - loss: 0.0956\n",
      "Epoch 10/100\n",
      "\u001b[1m4/4\u001b[0m \u001b[32m━━━━━━━━━━━━━━━━━━━━\u001b[0m\u001b[37m\u001b[0m \u001b[1m0s\u001b[0m 5ms/step - loss: 0.1241\n",
      "Epoch 11/100\n",
      "\u001b[1m4/4\u001b[0m \u001b[32m━━━━━━━━━━━━━━━━━━━━\u001b[0m\u001b[37m\u001b[0m \u001b[1m0s\u001b[0m 4ms/step - loss: 0.0180     \n",
      "Epoch 12/100\n",
      "\u001b[1m4/4\u001b[0m \u001b[32m━━━━━━━━━━━━━━━━━━━━\u001b[0m\u001b[37m\u001b[0m \u001b[1m0s\u001b[0m 17ms/step - loss: 0.0431\n",
      "Epoch 13/100\n",
      "\u001b[1m4/4\u001b[0m \u001b[32m━━━━━━━━━━━━━━━━━━━━\u001b[0m\u001b[37m\u001b[0m \u001b[1m0s\u001b[0m 7ms/step - loss: 0.0272 \n",
      "Epoch 14/100\n",
      "\u001b[1m4/4\u001b[0m \u001b[32m━━━━━━━━━━━━━━━━━━━━\u001b[0m\u001b[37m\u001b[0m \u001b[1m0s\u001b[0m 3ms/step - loss: 0.0035    \n",
      "Epoch 15/100\n",
      "\u001b[1m4/4\u001b[0m \u001b[32m━━━━━━━━━━━━━━━━━━━━\u001b[0m\u001b[37m\u001b[0m \u001b[1m0s\u001b[0m 3ms/step - loss: 0.0046\n",
      "Epoch 16/100\n",
      "\u001b[1m4/4\u001b[0m \u001b[32m━━━━━━━━━━━━━━━━━━━━\u001b[0m\u001b[37m\u001b[0m \u001b[1m0s\u001b[0m 3ms/step - loss: 0.0045\n",
      "Epoch 17/100\n",
      "\u001b[1m4/4\u001b[0m \u001b[32m━━━━━━━━━━━━━━━━━━━━\u001b[0m\u001b[37m\u001b[0m \u001b[1m0s\u001b[0m 2ms/step - loss: 0.0016    \n",
      "Epoch 18/100\n",
      "\u001b[1m4/4\u001b[0m \u001b[32m━━━━━━━━━━━━━━━━━━━━\u001b[0m\u001b[37m\u001b[0m \u001b[1m0s\u001b[0m 2ms/step - loss: 0.0041\n",
      "Epoch 19/100\n",
      "\u001b[1m4/4\u001b[0m \u001b[32m━━━━━━━━━━━━━━━━━━━━\u001b[0m\u001b[37m\u001b[0m \u001b[1m0s\u001b[0m 2ms/step - loss: 0.0043\n",
      "Epoch 20/100\n",
      "\u001b[1m4/4\u001b[0m \u001b[32m━━━━━━━━━━━━━━━━━━━━\u001b[0m\u001b[37m\u001b[0m \u001b[1m0s\u001b[0m 3ms/step - loss: 0.0016    \n",
      "Epoch 21/100\n",
      "\u001b[1m4/4\u001b[0m \u001b[32m━━━━━━━━━━━━━━━━━━━━\u001b[0m\u001b[37m\u001b[0m \u001b[1m0s\u001b[0m 3ms/step - loss: 0.0014 \n",
      "Epoch 22/100\n",
      "\u001b[1m4/4\u001b[0m \u001b[32m━━━━━━━━━━━━━━━━━━━━\u001b[0m\u001b[37m\u001b[0m \u001b[1m0s\u001b[0m 2ms/step - loss: 0.0014\n",
      "Epoch 23/100\n",
      "\u001b[1m4/4\u001b[0m \u001b[32m━━━━━━━━━━━━━━━━━━━━\u001b[0m\u001b[37m\u001b[0m \u001b[1m0s\u001b[0m 3ms/step - loss: 9.0665e-04\n",
      "Epoch 24/100\n",
      "\u001b[1m4/4\u001b[0m \u001b[32m━━━━━━━━━━━━━━━━━━━━\u001b[0m\u001b[37m\u001b[0m \u001b[1m0s\u001b[0m 3ms/step - loss: 1.8319e-04\n",
      "Epoch 25/100\n",
      "\u001b[1m4/4\u001b[0m \u001b[32m━━━━━━━━━━━━━━━━━━━━\u001b[0m\u001b[37m\u001b[0m \u001b[1m0s\u001b[0m 3ms/step - loss: 4.8563e-04\n",
      "Epoch 26/100\n",
      "\u001b[1m4/4\u001b[0m \u001b[32m━━━━━━━━━━━━━━━━━━━━\u001b[0m\u001b[37m\u001b[0m \u001b[1m0s\u001b[0m 2ms/step - loss: 3.9827e-04\n",
      "Epoch 27/100\n",
      "\u001b[1m4/4\u001b[0m \u001b[32m━━━━━━━━━━━━━━━━━━━━\u001b[0m\u001b[37m\u001b[0m \u001b[1m0s\u001b[0m 2ms/step - loss: 2.2663e-04\n",
      "Epoch 28/100\n",
      "\u001b[1m4/4\u001b[0m \u001b[32m━━━━━━━━━━━━━━━━━━━━\u001b[0m\u001b[37m\u001b[0m \u001b[1m0s\u001b[0m 3ms/step - loss: 1.7647e-04\n",
      "Epoch 29/100\n",
      "\u001b[1m4/4\u001b[0m \u001b[32m━━━━━━━━━━━━━━━━━━━━\u001b[0m\u001b[37m\u001b[0m \u001b[1m0s\u001b[0m 2ms/step - loss: 1.5099e-04\n",
      "Epoch 30/100\n",
      "\u001b[1m4/4\u001b[0m \u001b[32m━━━━━━━━━━━━━━━━━━━━\u001b[0m\u001b[37m\u001b[0m \u001b[1m0s\u001b[0m 2ms/step - loss: 1.4660e-04\n",
      "Epoch 31/100\n",
      "\u001b[1m4/4\u001b[0m \u001b[32m━━━━━━━━━━━━━━━━━━━━\u001b[0m\u001b[37m\u001b[0m \u001b[1m0s\u001b[0m 2ms/step - loss: 1.0520e-04 \n",
      "Epoch 32/100\n",
      "\u001b[1m4/4\u001b[0m \u001b[32m━━━━━━━━━━━━━━━━━━━━\u001b[0m\u001b[37m\u001b[0m \u001b[1m0s\u001b[0m 2ms/step - loss: 9.7959e-05\n",
      "Epoch 33/100\n",
      "\u001b[1m4/4\u001b[0m \u001b[32m━━━━━━━━━━━━━━━━━━━━\u001b[0m\u001b[37m\u001b[0m \u001b[1m0s\u001b[0m 3ms/step - loss: 4.4863e-05\n",
      "Epoch 34/100\n",
      "\u001b[1m4/4\u001b[0m \u001b[32m━━━━━━━━━━━━━━━━━━━━\u001b[0m\u001b[37m\u001b[0m \u001b[1m0s\u001b[0m 2ms/step - loss: 5.0611e-05\n",
      "Epoch 35/100\n",
      "\u001b[1m4/4\u001b[0m \u001b[32m━━━━━━━━━━━━━━━━━━━━\u001b[0m\u001b[37m\u001b[0m \u001b[1m0s\u001b[0m 2ms/step - loss: 9.4570e-05\n",
      "Epoch 36/100\n",
      "\u001b[1m4/4\u001b[0m \u001b[32m━━━━━━━━━━━━━━━━━━━━\u001b[0m\u001b[37m\u001b[0m \u001b[1m0s\u001b[0m 2ms/step - loss: 4.1807e-05\n",
      "Epoch 37/100\n",
      "\u001b[1m4/4\u001b[0m \u001b[32m━━━━━━━━━━━━━━━━━━━━\u001b[0m\u001b[37m\u001b[0m \u001b[1m0s\u001b[0m 3ms/step - loss: 5.3799e-05\n",
      "Epoch 38/100\n",
      "\u001b[1m4/4\u001b[0m \u001b[32m━━━━━━━━━━━━━━━━━━━━\u001b[0m\u001b[37m\u001b[0m \u001b[1m0s\u001b[0m 2ms/step - loss: 6.7770e-05\n",
      "Epoch 39/100\n",
      "\u001b[1m4/4\u001b[0m \u001b[32m━━━━━━━━━━━━━━━━━━━━\u001b[0m\u001b[37m\u001b[0m \u001b[1m0s\u001b[0m 2ms/step - loss: 3.6117e-05\n",
      "Epoch 40/100\n",
      "\u001b[1m4/4\u001b[0m \u001b[32m━━━━━━━━━━━━━━━━━━━━\u001b[0m\u001b[37m\u001b[0m \u001b[1m0s\u001b[0m 3ms/step - loss: 5.8458e-05 \n",
      "Epoch 41/100\n",
      "\u001b[1m4/4\u001b[0m \u001b[32m━━━━━━━━━━━━━━━━━━━━\u001b[0m\u001b[37m\u001b[0m \u001b[1m0s\u001b[0m 3ms/step - loss: 4.7611e-05\n",
      "Epoch 42/100\n",
      "\u001b[1m4/4\u001b[0m \u001b[32m━━━━━━━━━━━━━━━━━━━━\u001b[0m\u001b[37m\u001b[0m \u001b[1m0s\u001b[0m 2ms/step - loss: 4.3695e-05\n",
      "Epoch 43/100\n",
      "\u001b[1m4/4\u001b[0m \u001b[32m━━━━━━━━━━━━━━━━━━━━\u001b[0m\u001b[37m\u001b[0m \u001b[1m0s\u001b[0m 3ms/step - loss: 4.3342e-05\n",
      "Epoch 44/100\n",
      "\u001b[1m4/4\u001b[0m \u001b[32m━━━━━━━━━━━━━━━━━━━━\u001b[0m\u001b[37m\u001b[0m \u001b[1m0s\u001b[0m 4ms/step - loss: 3.7309e-05 \n",
      "Epoch 45/100\n",
      "\u001b[1m4/4\u001b[0m \u001b[32m━━━━━━━━━━━━━━━━━━━━\u001b[0m\u001b[37m\u001b[0m \u001b[1m0s\u001b[0m 3ms/step - loss: 4.0139e-05\n",
      "Epoch 46/100\n",
      "\u001b[1m4/4\u001b[0m \u001b[32m━━━━━━━━━━━━━━━━━━━━\u001b[0m\u001b[37m\u001b[0m \u001b[1m0s\u001b[0m 3ms/step - loss: 3.1144e-05\n",
      "Epoch 47/100\n",
      "\u001b[1m4/4\u001b[0m \u001b[32m━━━━━━━━━━━━━━━━━━━━\u001b[0m\u001b[37m\u001b[0m \u001b[1m0s\u001b[0m 4ms/step - loss: 3.5928e-05\n",
      "Epoch 48/100\n",
      "\u001b[1m4/4\u001b[0m \u001b[32m━━━━━━━━━━━━━━━━━━━━\u001b[0m\u001b[37m\u001b[0m \u001b[1m0s\u001b[0m 2ms/step - loss: 4.0965e-05\n",
      "Epoch 49/100\n",
      "\u001b[1m4/4\u001b[0m \u001b[32m━━━━━━━━━━━━━━━━━━━━\u001b[0m\u001b[37m\u001b[0m \u001b[1m0s\u001b[0m 2ms/step - loss: 2.8464e-05\n",
      "Epoch 50/100\n",
      "\u001b[1m4/4\u001b[0m \u001b[32m━━━━━━━━━━━━━━━━━━━━\u001b[0m\u001b[37m\u001b[0m \u001b[1m0s\u001b[0m 3ms/step - loss: 3.3286e-05\n",
      "Epoch 51/100\n",
      "\u001b[1m4/4\u001b[0m \u001b[32m━━━━━━━━━━━━━━━━━━━━\u001b[0m\u001b[37m\u001b[0m \u001b[1m0s\u001b[0m 4ms/step - loss: 4.6013e-05\n",
      "Epoch 52/100\n",
      "\u001b[1m4/4\u001b[0m \u001b[32m━━━━━━━━━━━━━━━━━━━━\u001b[0m\u001b[37m\u001b[0m \u001b[1m0s\u001b[0m 3ms/step - loss: 3.0112e-05\n",
      "Epoch 53/100\n",
      "\u001b[1m4/4\u001b[0m \u001b[32m━━━━━━━━━━━━━━━━━━━━\u001b[0m\u001b[37m\u001b[0m \u001b[1m0s\u001b[0m 2ms/step - loss: 4.0058e-05\n",
      "Epoch 54/100\n",
      "\u001b[1m4/4\u001b[0m \u001b[32m━━━━━━━━━━━━━━━━━━━━\u001b[0m\u001b[37m\u001b[0m \u001b[1m0s\u001b[0m 2ms/step - loss: 3.8463e-05\n",
      "Epoch 55/100\n",
      "\u001b[1m4/4\u001b[0m \u001b[32m━━━━━━━━━━━━━━━━━━━━\u001b[0m\u001b[37m\u001b[0m \u001b[1m0s\u001b[0m 2ms/step - loss: 3.1374e-05\n",
      "Epoch 56/100\n",
      "\u001b[1m4/4\u001b[0m \u001b[32m━━━━━━━━━━━━━━━━━━━━\u001b[0m\u001b[37m\u001b[0m \u001b[1m0s\u001b[0m 2ms/step - loss: 2.9619e-05 \n",
      "Epoch 57/100\n",
      "\u001b[1m4/4\u001b[0m \u001b[32m━━━━━━━━━━━━━━━━━━━━\u001b[0m\u001b[37m\u001b[0m \u001b[1m0s\u001b[0m 3ms/step - loss: 3.5341e-05\n",
      "Epoch 58/100\n",
      "\u001b[1m4/4\u001b[0m \u001b[32m━━━━━━━━━━━━━━━━━━━━\u001b[0m\u001b[37m\u001b[0m \u001b[1m0s\u001b[0m 2ms/step - loss: 3.1065e-05\n",
      "Epoch 59/100\n",
      "\u001b[1m4/4\u001b[0m \u001b[32m━━━━━━━━━━━━━━━━━━━━\u001b[0m\u001b[37m\u001b[0m \u001b[1m0s\u001b[0m 2ms/step - loss: 5.7172e-05\n",
      "Epoch 60/100\n",
      "\u001b[1m4/4\u001b[0m \u001b[32m━━━━━━━━━━━━━━━━━━━━\u001b[0m\u001b[37m\u001b[0m \u001b[1m0s\u001b[0m 2ms/step - loss: 4.3619e-05\n",
      "Epoch 61/100\n",
      "\u001b[1m4/4\u001b[0m \u001b[32m━━━━━━━━━━━━━━━━━━━━\u001b[0m\u001b[37m\u001b[0m \u001b[1m0s\u001b[0m 2ms/step - loss: 3.7482e-05\n",
      "Epoch 62/100\n",
      "\u001b[1m4/4\u001b[0m \u001b[32m━━━━━━━━━━━━━━━━━━━━\u001b[0m\u001b[37m\u001b[0m \u001b[1m0s\u001b[0m 2ms/step - loss: 3.6440e-05\n",
      "Epoch 63/100\n",
      "\u001b[1m4/4\u001b[0m \u001b[32m━━━━━━━━━━━━━━━━━━━━\u001b[0m\u001b[37m\u001b[0m \u001b[1m0s\u001b[0m 6ms/step - loss: 3.1223e-05 \n",
      "Epoch 64/100\n",
      "\u001b[1m4/4\u001b[0m \u001b[32m━━━━━━━━━━━━━━━━━━━━\u001b[0m\u001b[37m\u001b[0m \u001b[1m0s\u001b[0m 2ms/step - loss: 2.4666e-05 \n",
      "Epoch 65/100\n",
      "\u001b[1m4/4\u001b[0m \u001b[32m━━━━━━━━━━━━━━━━━━━━\u001b[0m\u001b[37m\u001b[0m \u001b[1m0s\u001b[0m 2ms/step - loss: 3.1870e-05\n",
      "Epoch 66/100\n",
      "\u001b[1m4/4\u001b[0m \u001b[32m━━━━━━━━━━━━━━━━━━━━\u001b[0m\u001b[37m\u001b[0m \u001b[1m0s\u001b[0m 3ms/step - loss: 3.3557e-05\n",
      "Epoch 67/100\n",
      "\u001b[1m4/4\u001b[0m \u001b[32m━━━━━━━━━━━━━━━━━━━━\u001b[0m\u001b[37m\u001b[0m \u001b[1m0s\u001b[0m 3ms/step - loss: 3.3950e-05\n",
      "Epoch 68/100\n",
      "\u001b[1m4/4\u001b[0m \u001b[32m━━━━━━━━━━━━━━━━━━━━\u001b[0m\u001b[37m\u001b[0m \u001b[1m0s\u001b[0m 3ms/step - loss: 5.5716e-05\n",
      "Epoch 69/100\n",
      "\u001b[1m4/4\u001b[0m \u001b[32m━━━━━━━━━━━━━━━━━━━━\u001b[0m\u001b[37m\u001b[0m \u001b[1m0s\u001b[0m 2ms/step - loss: 6.3734e-05\n",
      "Epoch 70/100\n",
      "\u001b[1m4/4\u001b[0m \u001b[32m━━━━━━━━━━━━━━━━━━━━\u001b[0m\u001b[37m\u001b[0m \u001b[1m0s\u001b[0m 3ms/step - loss: 1.2711e-04 \n",
      "Epoch 71/100\n",
      "\u001b[1m4/4\u001b[0m \u001b[32m━━━━━━━━━━━━━━━━━━━━\u001b[0m\u001b[37m\u001b[0m \u001b[1m0s\u001b[0m 3ms/step - loss: 1.6807e-04\n",
      "Epoch 72/100\n",
      "\u001b[1m4/4\u001b[0m \u001b[32m━━━━━━━━━━━━━━━━━━━━\u001b[0m\u001b[37m\u001b[0m \u001b[1m0s\u001b[0m 2ms/step - loss: 1.9619e-04\n",
      "Epoch 73/100\n",
      "\u001b[1m4/4\u001b[0m \u001b[32m━━━━━━━━━━━━━━━━━━━━\u001b[0m\u001b[37m\u001b[0m \u001b[1m0s\u001b[0m 4ms/step - loss: 1.0267e-04 \n",
      "Epoch 74/100\n",
      "\u001b[1m4/4\u001b[0m \u001b[32m━━━━━━━━━━━━━━━━━━━━\u001b[0m\u001b[37m\u001b[0m \u001b[1m0s\u001b[0m 3ms/step - loss: 5.1629e-05 \n",
      "Epoch 75/100\n",
      "\u001b[1m4/4\u001b[0m \u001b[32m━━━━━━━━━━━━━━━━━━━━\u001b[0m\u001b[37m\u001b[0m \u001b[1m0s\u001b[0m 2ms/step - loss: 2.2296e-05 \n",
      "Epoch 76/100\n",
      "\u001b[1m4/4\u001b[0m \u001b[32m━━━━━━━━━━━━━━━━━━━━\u001b[0m\u001b[37m\u001b[0m \u001b[1m0s\u001b[0m 4ms/step - loss: 3.7379e-05\n",
      "Epoch 77/100\n",
      "\u001b[1m4/4\u001b[0m \u001b[32m━━━━━━━━━━━━━━━━━━━━\u001b[0m\u001b[37m\u001b[0m \u001b[1m0s\u001b[0m 4ms/step - loss: 3.5592e-05\n",
      "Epoch 78/100\n",
      "\u001b[1m4/4\u001b[0m \u001b[32m━━━━━━━━━━━━━━━━━━━━\u001b[0m\u001b[37m\u001b[0m \u001b[1m0s\u001b[0m 2ms/step - loss: 2.8395e-05\n",
      "Epoch 79/100\n",
      "\u001b[1m4/4\u001b[0m \u001b[32m━━━━━━━━━━━━━━━━━━━━\u001b[0m\u001b[37m\u001b[0m \u001b[1m0s\u001b[0m 2ms/step - loss: 2.9777e-05\n",
      "Epoch 80/100\n",
      "\u001b[1m4/4\u001b[0m \u001b[32m━━━━━━━━━━━━━━━━━━━━\u001b[0m\u001b[37m\u001b[0m \u001b[1m0s\u001b[0m 2ms/step - loss: 4.1664e-05\n",
      "Epoch 81/100\n",
      "\u001b[1m4/4\u001b[0m \u001b[32m━━━━━━━━━━━━━━━━━━━━\u001b[0m\u001b[37m\u001b[0m \u001b[1m0s\u001b[0m 3ms/step - loss: 2.9042e-05\n",
      "Epoch 82/100\n",
      "\u001b[1m4/4\u001b[0m \u001b[32m━━━━━━━━━━━━━━━━━━━━\u001b[0m\u001b[37m\u001b[0m \u001b[1m0s\u001b[0m 5ms/step - loss: 2.8536e-05 \n",
      "Epoch 83/100\n",
      "\u001b[1m4/4\u001b[0m \u001b[32m━━━━━━━━━━━━━━━━━━━━\u001b[0m\u001b[37m\u001b[0m \u001b[1m0s\u001b[0m 2ms/step - loss: 2.9781e-05\n",
      "Epoch 84/100\n",
      "\u001b[1m4/4\u001b[0m \u001b[32m━━━━━━━━━━━━━━━━━━━━\u001b[0m\u001b[37m\u001b[0m \u001b[1m0s\u001b[0m 3ms/step - loss: 2.1159e-05\n",
      "Epoch 85/100\n",
      "\u001b[1m4/4\u001b[0m \u001b[32m━━━━━━━━━━━━━━━━━━━━\u001b[0m\u001b[37m\u001b[0m \u001b[1m0s\u001b[0m 2ms/step - loss: 2.5968e-05\n",
      "Epoch 86/100\n",
      "\u001b[1m4/4\u001b[0m \u001b[32m━━━━━━━━━━━━━━━━━━━━\u001b[0m\u001b[37m\u001b[0m \u001b[1m0s\u001b[0m 3ms/step - loss: 2.6983e-05\n",
      "Epoch 87/100\n",
      "\u001b[1m4/4\u001b[0m \u001b[32m━━━━━━━━━━━━━━━━━━━━\u001b[0m\u001b[37m\u001b[0m \u001b[1m0s\u001b[0m 2ms/step - loss: 3.9277e-05\n",
      "Epoch 88/100\n",
      "\u001b[1m4/4\u001b[0m \u001b[32m━━━━━━━━━━━━━━━━━━━━\u001b[0m\u001b[37m\u001b[0m \u001b[1m0s\u001b[0m 3ms/step - loss: 2.9266e-05 \n",
      "Epoch 89/100\n",
      "\u001b[1m4/4\u001b[0m \u001b[32m━━━━━━━━━━━━━━━━━━━━\u001b[0m\u001b[37m\u001b[0m \u001b[1m0s\u001b[0m 2ms/step - loss: 3.3082e-05\n",
      "Epoch 90/100\n",
      "\u001b[1m4/4\u001b[0m \u001b[32m━━━━━━━━━━━━━━━━━━━━\u001b[0m\u001b[37m\u001b[0m \u001b[1m0s\u001b[0m 2ms/step - loss: 4.1345e-05\n",
      "Epoch 91/100\n",
      "\u001b[1m4/4\u001b[0m \u001b[32m━━━━━━━━━━━━━━━━━━━━\u001b[0m\u001b[37m\u001b[0m \u001b[1m0s\u001b[0m 2ms/step - loss: 2.5017e-05\n",
      "Epoch 92/100\n",
      "\u001b[1m4/4\u001b[0m \u001b[32m━━━━━━━━━━━━━━━━━━━━\u001b[0m\u001b[37m\u001b[0m \u001b[1m0s\u001b[0m 2ms/step - loss: 4.2088e-05\n",
      "Epoch 93/100\n",
      "\u001b[1m4/4\u001b[0m \u001b[32m━━━━━━━━━━━━━━━━━━━━\u001b[0m\u001b[37m\u001b[0m \u001b[1m0s\u001b[0m 2ms/step - loss: 8.7824e-05\n",
      "Epoch 94/100\n",
      "\u001b[1m4/4\u001b[0m \u001b[32m━━━━━━━━━━━━━━━━━━━━\u001b[0m\u001b[37m\u001b[0m \u001b[1m0s\u001b[0m 3ms/step - loss: 6.2654e-05\n",
      "Epoch 95/100\n",
      "\u001b[1m4/4\u001b[0m \u001b[32m━━━━━━━━━━━━━━━━━━━━\u001b[0m\u001b[37m\u001b[0m \u001b[1m0s\u001b[0m 2ms/step - loss: 4.1538e-05\n",
      "Epoch 96/100\n",
      "\u001b[1m4/4\u001b[0m \u001b[32m━━━━━━━━━━━━━━━━━━━━\u001b[0m\u001b[37m\u001b[0m \u001b[1m0s\u001b[0m 3ms/step - loss: 3.0009e-05\n",
      "Epoch 97/100\n",
      "\u001b[1m4/4\u001b[0m \u001b[32m━━━━━━━━━━━━━━━━━━━━\u001b[0m\u001b[37m\u001b[0m \u001b[1m0s\u001b[0m 3ms/step - loss: 4.4090e-05\n",
      "Epoch 98/100\n",
      "\u001b[1m4/4\u001b[0m \u001b[32m━━━━━━━━━━━━━━━━━━━━\u001b[0m\u001b[37m\u001b[0m \u001b[1m0s\u001b[0m 2ms/step - loss: 3.0455e-05 \n",
      "Epoch 99/100\n",
      "\u001b[1m4/4\u001b[0m \u001b[32m━━━━━━━━━━━━━━━━━━━━\u001b[0m\u001b[37m\u001b[0m \u001b[1m0s\u001b[0m 2ms/step - loss: 3.1225e-05\n",
      "Epoch 100/100\n",
      "\u001b[1m4/4\u001b[0m \u001b[32m━━━━━━━━━━━━━━━━━━━━\u001b[0m\u001b[37m\u001b[0m \u001b[1m0s\u001b[0m 2ms/step - loss: 3.3432e-05\n",
      "\u001b[1m1/1\u001b[0m \u001b[32m━━━━━━━━━━━━━━━━━━━━\u001b[0m\u001b[37m\u001b[0m \u001b[1m0s\u001b[0m 171ms/step\n",
      "RMSE: 1.1884362315321684\n"
     ]
    },
    {
     "data": {
      "image/png": "[encoded data removed]",
      "text/plain": [
       "<Figure size 1200x600 with 1 Axes>"
      ]
     },
     "metadata": {},
     "output_type": "display_data"
    }
   ],
   "source": [
    "# Memisahkan fitur dan target\n",
    "X = buku_000[['Jumlah_buku_dipinjam']]  # Changed here\n",
    "y = buku_000[['Jumlah_buku_dipinjam']]  # Changed here\n",
    "\n",
    "# Split data menjadi data latih dan data uji (70% latih, 30% uji)\n",
    "X_train, X_test, y_train, y_test = train_test_split(X, y, test_size=0.3, shuffle=False)\n",
    "\n",
    "# Reshape input menjadi tiga dimensi\n",
    "# Menggunakan 1 timestep (karena kita menggunakan data dari saat ini saja)\n",
    "X_train = np.array(X_train).reshape((X_train.shape[0], 1, X_train.shape[1]))\n",
    "X_test = np.array(X_test).reshape((X_test.shape[0], 1, X_test.shape[1]))\n",
    "\n",
    "# Normalisasi data (opsional jika diperlukan oleh model RNN)\n",
    "from sklearn.preprocessing import MinMaxScaler\n",
    "scaler = MinMaxScaler()\n",
    "y_train_scaled = scaler.fit_transform(y_train.values.reshape(-1, 1))\n",
    "y_test_scaled = scaler.transform(y_test.values.reshape(-1, 1))\n",
    "\n",
    "# Tentukan input shape\n",
    "input_shape = (X_train.shape[1], X_train.shape[2])\n",
    "\n",
    "# Model CNN-GRU\n",
    "model_cnn_gru = Sequential()\n",
    "\n",
    "# Lapisan CNN untuk ekstraksi fitur\n",
    "model_cnn_gru.add(Conv1D(filters=32, kernel_size=1, activation='relu', input_shape=input_shape))\n",
    "model_cnn_gru.add(MaxPooling1D(pool_size=1))\n",
    "model_cnn_gru.add(Flatten())\n",
    "\n",
    "# Ubah kembali ke bentuk tiga dimensi untuk input ke GRU\n",
    "model_cnn_gru.add(Reshape((1, -1)))\n",
    "\n",
    "# Lapisan GRU setelah CNN\n",
    "model_cnn_gru.add(GRU(100, activation='relu'))\n",
    "\n",
    "# Lapisan output\n",
    "model_cnn_gru.add(Dense(1))\n",
    "\n",
    "# Kompilasi model\n",
    "model_cnn_gru.compile(optimizer='adam', loss='mean_squared_error')\n",
    "\n",
    "# Latih model\n",
    "model_cnn_gru.fit(X_train, y_train_scaled, epochs=100, batch_size=16)\n",
    "\n",
    "# Prediksi pada data uji\n",
    "y_pred_cnn_gru = model_cnn_gru.predict(X_test)\n",
    "\n",
    "y_pred_cnn_gru_inverse = scaler.inverse_transform(y_pred_cnn_gru)\n",
    "y_test_scaled_inverse = scaler.inverse_transform(y_test_scaled)\n",
    "\n",
    "# Evaluasi model\n",
    "mse = mean_squared_error(y_test_scaled_inverse, y_pred_cnn_gru_inverse)\n",
    "rmse = np.sqrt(mse)\n",
    "\n",
    "print(f\"RMSE: {rmse}\")\n",
    "\n",
    "# Visualisasi hasil prediksi dari model CNN-GRU\n",
    "bulan = buku_000.iloc[-len(y_test):]['Bulan'].values  # Ambil data bulan dari data uji\n",
    "plt.figure(figsize=(12, 6))\n",
    "plt.plot(bulan, y_test_scaled_inverse, label='Data Asli', color='blue', linewidth=2)\n",
    "plt.plot(bulan, y_pred_cnn_gru_inverse, label='Data Prediksi (CNN-GRU)', color='orange', linestyle='--', linewidth=2)\n",
    "plt.xlabel('Bulan')\n",
    "plt.ylabel('Jumlah Buku Dipinjam')\n",
    "plt.title('Perbandingan Data Asli dan Prediksi Model CNN-GRU')\n",
    "plt.legend()\n",
    "plt.show()"
   ]
  },
  {
   "cell_type": "markdown",
   "metadata": {},
   "source": [
    "Data split 80:20"
   ]
  },
  {
   "cell_type": "code",
   "execution_count": null,
   "metadata": {
    "colab": {
     "base_uri": "https://localhost:8080/",
     "height": 1000
    },
    "collapsed": true,
    "executionInfo": {
     "elapsed": 15145,
     "status": "ok",
     "timestamp": 1731905156756,
     "user": {
      "displayName": "Andika Ryan N",
      "userId": "01511396785984303975"
     },
     "user_tz": -420
    },
    "id": "6DWvjIgsltWB",
    "outputId": "81b7e672-799a-40d1-b3a6-a3324d3e4767"
   },
   "outputs": [],
   "source": [
    "# Memisahkan fitur dan target\n",
    "X = buku_000[['Jumlah_buku_dipinjam']]  # Changed here\n",
    "y = buku_000[['Jumlah_buku_dipinjam']]  # Changed here\n",
    "\n",
    "# Split data menjadi data latih dan data uji (80% latih, 20% uji)\n",
    "X_train, X_test, y_train, y_test = train_test_split(X, y, test_size=0.2, shuffle=False)\n",
    "\n",
    "# Reshape input menjadi tiga dimensi\n",
    "# Menggunakan 1 timestep (karena kita menggunakan data dari saat ini saja)\n",
    "X_train = np.array(X_train).reshape((X_train.shape[0], 1, X_train.shape[1]))  # timesteps=1\n",
    "X_test = np.array(X_test).reshape((X_test.shape[0], 1, X_test.shape[1]))  # timesteps=1\n",
    "\n",
    "\n",
    "# Normalisasi data (opsional jika diperlukan oleh model RNN)\n",
    "from sklearn.preprocessing import MinMaxScaler\n",
    "scaler = MinMaxScaler()\n",
    "y_train_scaled = scaler.fit_transform(y_train.values.reshape(-1, 1))\n",
    "y_test_scaled = scaler.transform(y_test.values.reshape(-1, 1))\n",
    "\n",
    "# Tentukan input shape\n",
    "input_shape = (X_train.shape[1], X_train.shape[2])\n",
    "\n",
    "# Model CNN-GRU\n",
    "model_cnn_gru = Sequential()\n",
    "\n",
    "# Lapisan CNN untuk ekstraksi fitur\n",
    "model_cnn_gru.add(Conv1D(filters=128, kernel_size=1, activation='relu', input_shape=input_shape))\n",
    "model_cnn_gru.add(MaxPooling1D(pool_size=1))\n",
    "model_cnn_gru.add(Flatten())\n",
    "\n",
    "# Ubah kembali ke bentuk tiga dimensi untuk input ke GRU\n",
    "model_cnn_gru.add(Reshape((1, -1)))\n",
    "\n",
    "# Lapisan GRU setelah CNN\n",
    "model_cnn_gru.add(GRU(100, activation='relu'))\n",
    "\n",
    "# Lapisan output\n",
    "model_cnn_gru.add(Dense(1))\n",
    "\n",
    "# Kompilasi model\n",
    "model_cnn_gru.compile(optimizer='adam', loss='mean_squared_error')\n",
    "\n",
    "# Latih model\n",
    "model_cnn_gru.fit(X_train, y_train_scaled, epochs=170, batch_size=32)\n",
    "\n",
    "# Prediksi pada data uji\n",
    "y_pred_cnn_gru = model_cnn_gru.predict(X_test)\n",
    "\n",
    "y_pred_cnn_gru_inverse = scaler.inverse_transform(y_pred_cnn_gru)\n",
    "y_test_scaled_inverse = scaler.inverse_transform(y_test_scaled)\n",
    "\n",
    "# Evaluasi model\n",
    "mse = mean_squared_error(y_test_scaled_inverse, y_pred_cnn_gru_inverse)\n",
    "rmse = np.sqrt(mse)\n",
    "\n",
    "print(f\"RMSE: {rmse}\")\n",
    "\n",
    "# Visualisasi hasil prediksi dari model CNN-GRU\n",
    "bulan = buku_000.iloc[-len(y_test):]['Bulan'].values  # Ambil data bulan dari data uji\n",
    "plt.figure(figsize=(12, 6))\n",
    "plt.plot(bulan, y_test_scaled_inverse, label='Data Asli', color='blue', linewidth=2)\n",
    "plt.plot(bulan, y_pred_cnn_gru_inverse, label='Data Prediksi (CNN-GRU)', color='orange', linestyle='--', linewidth=2)\n",
    "plt.xlabel('Waktu')\n",
    "plt.ylabel('Jumlah Buku Dipinjam')\n",
    "plt.title('Perbandingan Data Asli dan Prediksi Model CNN-GRU')\n",
    "plt.legend()\n",
    "plt.show()"
   ]
  },
  {
   "cell_type": "markdown",
   "metadata": {},
   "source": [
    "Data split 90:10"
   ]
  },
  {
   "cell_type": "code",
   "execution_count": null,
   "metadata": {
    "colab": {
     "base_uri": "https://localhost:8080/",
     "height": 1000
    },
    "executionInfo": {
     "elapsed": 20060,
     "status": "ok",
     "timestamp": 1731905208772,
     "user": {
      "displayName": "Andika Ryan N",
      "userId": "01511396785984303975"
     },
     "user_tz": -420
    },
    "id": "MrG6P1Ixl9JV",
    "outputId": "a6e6cd13-4906-40d7-b411-62e405f7d191"
   },
   "outputs": [],
   "source": [
    "# Memisahkan fitur dan target\n",
    "X = buku_000[['Jumlah_buku_dipinjam']]  # Changed here\n",
    "y = buku_000[['Jumlah_buku_dipinjam']]  # Changed here\n",
    "\n",
    "# Split data menjadi data latih dan data uji (90% latih, 10% uji)\n",
    "X_train, X_test, y_train, y_test = train_test_split(X, y, test_size=0.1, shuffle=False)\n",
    "\n",
    "# Reshape input menjadi tiga dimensi\n",
    "# Menggunakan 1 timestep (karena kita menggunakan data dari saat ini saja)\n",
    "X_train = np.array(X_train).reshape((X_train.shape[0], 1, X_train.shape[1]))  # timesteps=1\n",
    "X_test = np.array(X_test).reshape((X_test.shape[0], 1, X_test.shape[1]))  # timesteps=1\n",
    "\n",
    "\n",
    "# Normalisasi data (opsional jika diperlukan oleh model RNN)\n",
    "from sklearn.preprocessing import MinMaxScaler\n",
    "scaler = MinMaxScaler()\n",
    "y_train_scaled = scaler.fit_transform(y_train.values.reshape(-1, 1))\n",
    "y_test_scaled = scaler.transform(y_test.values.reshape(-1, 1))\n",
    "\n",
    "# Tentukan input shape\n",
    "input_shape = (X_train.shape[1], X_train.shape[2])\n",
    "\n",
    "# Model CNN-GRU\n",
    "model_cnn_gru = Sequential()\n",
    "\n",
    "# Lapisan CNN untuk ekstraksi fitur\n",
    "model_cnn_gru.add(Conv1D(filters=128, kernel_size=1, activation='relu', input_shape=input_shape))\n",
    "model_cnn_gru.add(MaxPooling1D(pool_size=1))\n",
    "model_cnn_gru.add(Flatten())\n",
    "\n",
    "# Ubah kembali ke bentuk tiga dimensi untuk input ke GRU\n",
    "model_cnn_gru.add(Reshape((1, -1)))\n",
    "\n",
    "# Lapisan GRU setelah CNN\n",
    "model_cnn_gru.add(GRU(100, activation='relu'))\n",
    "\n",
    "# Lapisan output\n",
    "model_cnn_gru.add(Dense(1))\n",
    "\n",
    "# Kompilasi model\n",
    "model_cnn_gru.compile(optimizer='adam', loss='mean_squared_error')\n",
    "\n",
    "# Latih model\n",
    "model_cnn_gru.fit(X_train, y_train_scaled, epochs=170, batch_size=32)\n",
    "\n",
    "# Prediksi pada data uji\n",
    "y_pred_cnn_gru = model_cnn_gru.predict(X_test)\n",
    "\n",
    "y_pred_cnn_gru_inverse = scaler.inverse_transform(y_pred_cnn_gru)\n",
    "y_test_scaled_inverse = scaler.inverse_transform(y_test_scaled)\n",
    "\n",
    "# Evaluasi model\n",
    "mse = mean_squared_error(y_test_scaled_inverse, y_pred_cnn_gru_inverse)\n",
    "rmse = np.sqrt(mse)\n",
    "\n",
    "print(f\"RMSE: {rmse}\")\n",
    "\n",
    "# Visualisasi hasil prediksi dari model CNN-GRU\n",
    "bulan = buku_000.iloc[-len(y_test):]['Bulan'].values  # Ambil data bulan dari data uji\n",
    "plt.figure(figsize=(12, 6))\n",
    "plt.plot(bulan, y_test_scaled_inverse, label='Data Asli', color='blue', linewidth=2)\n",
    "plt.plot(bulan, y_pred_cnn_gru_inverse, label='Data Prediksi (CNN-GRU)', color='orange', linestyle='--', linewidth=2)\n",
    "plt.xlabel('Waktu')\n",
    "plt.ylabel('Jumlah Buku Dipinjam')\n",
    "plt.title('Perbandingan Data Asli dan Prediksi Model CNN-GRU')\n",
    "plt.legend()\n",
    "plt.show()"
   ]
  },
  {
   "cell_type": "markdown",
   "metadata": {},
   "source": [
    "Forecasting 12 bulan kedepan"
   ]
  },
  {
   "cell_type": "code",
   "execution_count": null,
   "metadata": {
    "colab": {
     "base_uri": "https://localhost:8080/",
     "height": 1000
    },
    "executionInfo": {
     "elapsed": 35277,
     "status": "ok",
     "timestamp": 1731901553751,
     "user": {
      "displayName": "Andika Ryan N",
      "userId": "01511396785984303975"
     },
     "user_tz": -420
    },
    "id": "PmKrK0nCPv0Q",
    "outputId": "da99578f-b57e-4c91-f22f-feba472afc13"
   },
   "outputs": [],
   "source": [
    "# Tentukan jumlah minggu yang ingin digunakan sebagai input\n",
    "timesteps = 50  # Menggunakan 12 minggu terakhir sebagai konteks\n",
    "\n",
    "# Fungsi untuk membuat data dengan sliding window\n",
    "def create_sliding_window_data(data, timesteps):\n",
    "    X, y = [], []\n",
    "    for i in range(len(data) - timesteps):\n",
    "        X.append(data[i:i + timesteps])\n",
    "        y.append(data[i + timesteps])\n",
    "    return np.array(X), np.array(y)\n",
    "\n",
    "# Scaling data\n",
    "scaler = MinMaxScaler()\n",
    "data_scaled = scaler.fit_transform(buku_000['Jumlah_buku_dipinjam'].values.reshape(-1, 1))\n",
    "\n",
    "# Membuat data latih dengan sliding window\n",
    "X, y = create_sliding_window_data(data_scaled, timesteps)\n",
    "X_train, X_test = X[:-1], X[-1:]  # Menggunakan data terakhir di X_test untuk memulai prediksi\n",
    "y_train = y[:-1]  # Tidak membutuhkan y_test di sini\n",
    "\n",
    "# Model CNN-GRU\n",
    "model = Sequential()\n",
    "model.add(Conv1D(filters=64, kernel_size=1, activation='relu', input_shape=(X_train.shape[1], X_train.shape[2])))\n",
    "model.add(MaxPooling1D(pool_size=1))\n",
    "model.add(GRU(50, activation='relu'))\n",
    "model.add(Dense(1))\n",
    "\n",
    "# Kompilasi model\n",
    "model.compile(optimizer='adam', loss='mean_squared_error')\n",
    "\n",
    "# Latih model\n",
    "model.fit(X_train, y_train, epochs=170, batch_size=32, verbose=1)\n",
    "\n",
    "# Hybrid Prediction: Prediksi Minggu Pertama + Iterasi untuk Prediksi 11 Minggu Berikutnya\n",
    "predictions = []\n",
    "\n",
    "# Prediksi minggu pertama\n",
    "pred_first = model.predict(X_test)\n",
    "predictions.append(pred_first[0, 0])\n",
    "\n",
    "# Iterasi untuk prediksi minggu berikutnya\n",
    "last_data = np.concatenate([X_test[:, 1:, :], np.array(pred_first).reshape((1, 1, 1))], axis=1)\n",
    "\n",
    "for i in range(11):  # Melanjutkan untuk 11 minggu berikutnya\n",
    "    pred = model.predict(last_data)\n",
    "    predictions.append(pred[0, 0])\n",
    "\n",
    "    # Update last_data dengan prediksi baru\n",
    "    new_input = np.array(pred).reshape((1, 1, 1))\n",
    "    last_data = np.concatenate([last_data[:, 1:, :], new_input], axis=1)\n",
    "\n",
    "# Denormalisasi hasil prediksi ke skala asli\n",
    "predictions_original = scaler.inverse_transform(np.array(predictions).reshape(-1, 1))\n",
    "\n",
    "# Adjust future dates to start immediately after the last known date in the dataset\n",
    "last_date = buku_000['Bulan'].iloc[-1]\n",
    "future_dates = pd.date_range(last_date, periods=12, freq='M')\n",
    "\n",
    "# Adjust future dates to start immediately after the last known date in the dataset\n",
    "last_date = buku_000['Bulan'].iloc[-1]\n",
    "future_dates = pd.date_range(last_date + pd.DateOffset(months=1), periods=12, freq='M')\n",
    "\n",
    "# Ensure predictions have only 12 values\n",
    "predictions_original = predictions_original[:12]\n",
    "\n",
    "# Combine actual data with forecast for a continuous line\n",
    "combined_data = np.concatenate([scaler.inverse_transform(data_scaled).flatten(), predictions_original.flatten()])\n",
    "combined_dates = pd.date_range(buku_000['Bulan'].iloc[0], periods=len(combined_data), freq='M')\n",
    "\n",
    "# Plot the combined actual and forecasted values\n",
    "plt.figure(figsize=(12, 6))\n",
    "plt.plot(combined_dates, combined_data, label='Actual + Forecast', color='orange')\n",
    "plt.axvline(last_date, color='gray', linestyle='--', label='Forecast Start')\n",
    "plt.title('Forecast of Peminjaman Buku for Next 12 Months Using CNN-GRU (Hybrid)')\n",
    "plt.xlabel('Tanggal')\n",
    "plt.ylabel('Peminjaman Buku')\n",
    "plt.legend()\n",
    "plt.xticks(rotation=45)\n",
    "plt.show()\n"
   ]
  },
  {
   "cell_type": "markdown",
   "metadata": {
    "id": "hOmy4XZ6vSGa"
   },
   "source": [
    "# Peminjaman buku kategori filosofi dan psikologi"
   ]
  },
  {
   "cell_type": "code",
   "execution_count": null,
   "metadata": {
    "id": "sHbkswlQvfjH"
   },
   "outputs": [],
   "source": [
    "buku_100.plot(x='Bulan', y='Jumlah_buku_dipinjam', kind='line')\n",
    "plt.title('Jumlah Peminjaman Buku')\n",
    "plt.xlabel('Tanggal')\n",
    "plt.ylabel('Jumlah Peminjaman')\n",
    "plt.show()"
   ]
  },
  {
   "cell_type": "markdown",
   "metadata": {
    "id": "mMY-OI3eOHaZ"
   },
   "source": [
    "Cek volatil"
   ]
  },
  {
   "cell_type": "code",
   "execution_count": null,
   "metadata": {
    "id": "sHxdzsHmOIia"
   },
   "outputs": [],
   "source": [
    "import pandas as pd\n",
    "import numpy as np\n",
    "\n",
    "# Misal buku_100 adalah DataFrame yang berisi data Anda\n",
    "\n",
    "# Langkah 1: Periksa apakah ada nilai NaN di kolom 'Jumlah_buku_dipinjam'\n",
    "print(f\"Jumlah NaN di kolom 'Jumlah_buku_dipinjam': {buku_100['Jumlah_buku_dipinjam'].isna().sum()}\")\n",
    "\n",
    "# Jika ada NaN di kolom Jumlah_buku_dipinjam, hapus baris tersebut\n",
    "buku_100_clean = buku_100.dropna(subset=['Jumlah_buku_dipinjam'])\n",
    "\n",
    "# Langkah 2: Hitung perubahan persen antar periode\n",
    "buku_100_clean['pct_change'] = buku_100_clean['Jumlah_buku_dipinjam'].pct_change()\n",
    "\n",
    "# Langkah 3: Periksa apakah ada nilai inf atau -inf di kolom pct_change\n",
    "print(f\"Jumlah inf di kolom 'pct_change': {np.isinf(buku_100_clean['pct_change']).sum()}\")\n",
    "\n",
    "# Ganti nilai inf dengan NaN\n",
    "buku_100_clean['pct_change'].replace([np.inf, -np.inf], np.nan, inplace=True)\n",
    "\n",
    "# Hapus nilai NaN dari pct_change\n",
    "df_clean = buku_100_clean['pct_change'].dropna()\n",
    "\n",
    "# Langkah 4: Hitung standar deviasi dari perubahan persen\n",
    "std_dev = np.std(df_clean)\n",
    "\n",
    "# Langkah 5: Tampilkan standar deviasi\n",
    "print(f'Standar deviasi dari perubahan persentase: {std_dev}')\n",
    "\n",
    "# Langkah 6: Buat threshold untuk menentukan apakah data volatil atau tidak\n",
    "threshold = 0.1  # Contoh threshold 10%\n",
    "if std_dev > threshold:\n",
    "    print(\"Data dianggap volatil\")\n",
    "else:\n",
    "    print(\"Data tidak dianggap volatil\")"
   ]
  },
  {
   "cell_type": "markdown",
   "metadata": {
    "id": "E2vqd7i4vlEx"
   },
   "source": [
    "Outlier handling"
   ]
  },
  {
   "cell_type": "code",
   "execution_count": null,
   "metadata": {
    "id": "CUgJswgYvoIT"
   },
   "outputs": [],
   "source": [
    "# Menghitung Q1, Q3 dan IQR\n",
    "Q1 = buku_100['Jumlah_buku_dipinjam'].quantile(0.25)\n",
    "Q3 = buku_100['Jumlah_buku_dipinjam'].quantile(0.75)\n",
    "IQR = Q3 - Q1\n",
    "\n",
    "# Batas bawah dan atas untuk outlier\n",
    "lower_bound = Q1 - 1.5 * IQR\n",
    "upper_bound = Q3 + 1.5 * IQR\n",
    "buku_100\n",
    "outliers_000 = buku_100[(buku_100['Jumlah_buku_dipinjam'] < lower_bound) | (buku_100['Jumlah_buku_dipinjam'] > upper_bound)]\n",
    "\n",
    "print(outliers_000)\n",
    "# Menampilkan batas bawah dan atas\n",
    "print(f\"Batas bawah: {lower_bound}\")\n",
    "print(f\"Batas atas: {upper_bound}\")"
   ]
  },
  {
   "cell_type": "code",
   "execution_count": null,
   "metadata": {
    "id": "TUaOquNkj_oj"
   },
   "outputs": [],
   "source": [
    "from statsmodels.tsa.seasonal import seasonal_decompose\n",
    "result = seasonal_decompose(buku_100['Jumlah_buku_dipinjam'], model='additive', period=12)\n",
    "result.plot()\n",
    "plt.show()"
   ]
  },
  {
   "cell_type": "code",
   "execution_count": null,
   "metadata": {
    "collapsed": true,
    "id": "yGDFXPk0vz2O"
   },
   "outputs": [],
   "source": [
    "# Menambahkan beberapa outlier secara manual untuk contoh\n",
    "buku_100.loc[26, 'Jumlah_buku_dipinjam'] = 245\n",
    "buku_100.loc[27, 'Jumlah_buku_dipinjam'] = 221\n",
    "buku_100.loc[28, 'Jumlah_buku_dipinjam'] = 192\n",
    "buku_100.loc[32, 'Jumlah_buku_dipinjam'] = 204\n",
    "buku_100.loc[37, 'Jumlah_buku_dipinjam'] = 341\n",
    "\n",
    "# Menghitung Moving Average atau Median (misalnya window 3 bulan)\n",
    "window_size = 6\n",
    "# Menghitung Rolling Median\n",
    "buku_100['rolling_median'] = buku_100['Jumlah_buku_dipinjam'].rolling(window=window_size, center=True).median()\n",
    "\n",
    "# Menghitung batas toleransi outlier (misalnya 2 standar deviasi)\n",
    "buku_100['rolling_std'] = buku_100['Jumlah_buku_dipinjam'].rolling(window=window_size, center=True).std()\n",
    "\n",
    "# Batas atas dan bawah untuk deteksi outlier\n",
    "tolerance =  1.5  # multiplier untuk standar deviasi\n",
    "upper_bound = buku_100['rolling_median'] + tolerance * buku_100['rolling_std']\n",
    "lower_bound = buku_100['rolling_median'] - tolerance * buku_100['rolling_std']\n",
    "\n",
    "# Deteksi outlier\n",
    "outliers = (buku_100['Jumlah_buku_dipinjam'] > upper_bound) | (buku_100['Jumlah_buku_dipinjam'] < lower_bound)\n",
    "\n",
    "# Ganti outlier dengan rolling median\n",
    "buku_100.loc[outliers, 'Jumlah_buku_dipinjam'] = buku_100.loc[outliers, 'rolling_median']\n",
    "\n",
    "# Drop kolom rolling mean dan rolling std (opsional)\n",
    "buku_100.drop(columns=['rolling_median', 'rolling_std'], inplace=True)\n",
    "buku_100"
   ]
  },
  {
   "cell_type": "code",
   "execution_count": null,
   "metadata": {
    "id": "F8kvnPePv61f"
   },
   "outputs": [],
   "source": [
    "buku_100.plot(x='Bulan', y='Jumlah_buku_dipinjam', kind='line')\n",
    "plt.title('Jumlah Peminjaman Buku')\n",
    "plt.xlabel('Tanggal')\n",
    "plt.ylabel('Jumlah Peminjaman')\n",
    "plt.show()"
   ]
  },
  {
   "cell_type": "markdown",
   "metadata": {
    "id": "jHS4rO_JDVhb"
   },
   "source": [
    "CNN-GRU"
   ]
  },
  {
   "cell_type": "code",
   "execution_count": null,
   "metadata": {
    "id": "LGcPMsICDWhE"
   },
   "outputs": [],
   "source": [
    "# Assume peminjaman_buku is your DataFrame\n",
    "data = buku_100['Jumlah_buku_dipinjam'].values.reshape(-1, 1)\n",
    "\n",
    "# Scale the data\n",
    "scaler = MinMaxScaler()\n",
    "data_scaled = scaler.fit_transform(data)\n",
    "\n",
    "# Create sequences\n",
    "def create_sequences(data, time_step=1):\n",
    "    X, y = [], []\n",
    "    for i in range(len(data) - time_step - 1):\n",
    "        X.append(data[i:(i + time_step), 0])\n",
    "        y.append(data[i + time_step, 0])\n",
    "    return np.array(X), np.array(y)\n",
    "\n",
    "# Set time step\n",
    "time_step = 12  # Example: use the past 12 months to predict the next month\n",
    "X, y = create_sequences(data_scaled, time_step)\n",
    "\n",
    "# Split into training and testing sets (e.g., 90% train, 10% test)\n",
    "train_size = int(len(X) * 0.8)\n",
    "X_train, X_test = X[:train_size], X[train_size:]\n",
    "y_train, y_test = y[:train_size], y[train_size:]\n",
    "\n",
    "# Reshape input for CNN and GRU (required format: [samples, time steps, features])\n",
    "X_train = X_train.reshape(X_train.shape[0], X_train.shape[1], 1)\n",
    "X_test = X_test.reshape(X_test.shape[0], X_test.shape[1], 1)\n",
    "\n",
    "# Build the hybrid CNN-GRU model\n",
    "model = Sequential()\n",
    "\n",
    "# Add CNN layers\n",
    "model.add(Conv1D(filters=64, kernel_size=2, activation='relu', input_shape=(X_train.shape[1], 1)))\n",
    "model.add(Dropout(0.2))\n",
    "\n",
    "# Add GRU layers\n",
    "model.add(GRU(50, return_sequences=True))\n",
    "model.add(Dropout(0.2))\n",
    "model.add(GRU(50))\n",
    "\n",
    "# Add Dense layer to output predictions\n",
    "model.add(Dense(1))\n",
    "\n",
    "# Compile the model\n",
    "model.compile(optimizer=Adam(learning_rate=0.001), loss='mean_squared_error')\n",
    "\n",
    "# Train the model\n",
    "model.fit(X_train, y_train, epochs=100, batch_size=32)\n",
    "\n",
    "# Make predictions\n",
    "train_pred = model.predict(X_train)\n",
    "test_pred = model.predict(X_test)\n",
    "\n",
    "# Inverse scaling to get actual values\n",
    "train_pred = scaler.inverse_transform(train_pred)\n",
    "test_pred = scaler.inverse_transform(test_pred)\n",
    "y_test_actual = scaler.inverse_transform(y_test.reshape(-1, 1))\n",
    "\n",
    "# Evaluate the model\n",
    "mae = mean_absolute_error(y_test_actual, test_pred)\n",
    "mse = mean_squared_error(y_test_actual, test_pred)\n",
    "rmse = np.sqrt(mse)\n",
    "\n",
    "# Print metrics\n",
    "print(f'MAE: {mae}, MSE: {mse}, RMSE: {rmse}')\n",
    "\n",
    "# Plot the results\n",
    "plt.figure(figsize=(10, 6))\n",
    "plt.plot(range(len(y_test_actual)), y_test_actual, label='Actual  Test Data')\n",
    "plt.plot(range(len(y_test_actual)), test_pred, label='Predicted Test Data', linestyle='--')\n",
    "# plt.plot(range(time_step, len(train_pred) + time_step), train_pred, label='Train Predictions')\n",
    "# plt.plot(test.index, test.iloc[:,0], label='Actual Test')\n",
    "# plt.plot(range(len(train_pred) + time_step, len(data) - 1), test_pred, label='Predictions', linestyle='--')\n",
    "plt.title('Hybrid CNN-GRU Forecasting')\n",
    "plt.xlabel('Time')\n",
    "plt.ylabel('Jumlah Peminjaman')\n",
    "plt.legend()\n",
    "plt.show()"
   ]
  },
  {
   "cell_type": "code",
   "execution_count": null,
   "metadata": {
    "id": "F8r7NOKQQ76v"
   },
   "outputs": [],
   "source": [
    "# 4. Predict the next 3 months\n",
    "\n",
    "# We need the last 'time_step' data points from the training data to predict the future\n",
    "last_sequence = data_scaled[-time_step:]  # Take the last sequence from the data\n",
    "\n",
    "# Reshape for CNN-GRU model input\n",
    "last_sequence = last_sequence.reshape((1, time_step, 1))\n",
    "\n",
    "# Predict the next 3 months iteratively\n",
    "predictions = []\n",
    "\n",
    "for i in range(12):  # Forecast for 3 months ahead\n",
    "    next_pred = model.predict(last_sequence)\n",
    "    predictions.append(next_pred[0][0])\n",
    "\n",
    "    # Update the sequence: drop the first value and append the prediction\n",
    "    # Reshape next_pred to match dimensions of last_sequence[:, 1:, :]\n",
    "    next_pred_reshaped = next_pred.reshape(1, 1, 1)\n",
    "    last_sequence = np.concatenate([last_sequence[:, 1:, :], next_pred_reshaped], axis=1)\n",
    "\n",
    "# Inverse transform predictions\n",
    "predictions = scaler.inverse_transform(np.array(predictions).reshape(-1, 1))\n",
    "\n",
    "# 5. Plot the results\n",
    "\n",
    "# Plot the actual data and forecast\n",
    "plt.figure(figsize=(10, 6))\n",
    "plt.plot(range(len(data)), data, label='Actual Data')\n",
    "plt.plot(range(len(data), len(data) + 12), predictions, label='3-Month Forecast', linestyle='--', color='red')\n",
    "plt.title('Book Borrowing Forecast - Next 3 Months')\n",
    "plt.xlabel('Time (Months)')\n",
    "plt.ylabel('Jumlah Peminjaman')\n",
    "plt.legend()\n",
    "plt.show()\n",
    "\n",
    "# 6. Print the forecasted values\n",
    "print(f\"Forecast for the next 3 months: {predictions.flatten()}\")"
   ]
  },
  {
   "cell_type": "markdown",
   "metadata": {
    "id": "GFS_U0iBgsL9"
   },
   "source": [
    "# Peminjaman buku kategori reiligi"
   ]
  },
  {
   "cell_type": "code",
   "execution_count": null,
   "metadata": {
    "id": "SwCkMfZ5gsL-"
   },
   "outputs": [],
   "source": [
    "buku_200.plot(x='Bulan', y='Jumlah_buku_dipinjam', kind='line')\n",
    "plt.title('Jumlah Peminjaman Buku')\n",
    "plt.xlabel('Tanggal')\n",
    "plt.ylabel('Jumlah Peminjaman')\n",
    "plt.show()"
   ]
  },
  {
   "cell_type": "markdown",
   "metadata": {
    "id": "zKo2EM2OOXtq"
   },
   "source": [
    "Cek volatil"
   ]
  },
  {
   "cell_type": "code",
   "execution_count": null,
   "metadata": {
    "id": "XOpxS82ROYuC"
   },
   "outputs": [],
   "source": [
    "import pandas as pd\n",
    "import numpy as np\n",
    "\n",
    "# Misal buku_000 adalah DataFrame yang berisi data Anda\n",
    "\n",
    "# Langkah 1: Periksa apakah ada nilai NaN di kolom 'Jumlah_buku_dipinjam'\n",
    "print(f\"Jumlah NaN di kolom 'Jumlah_buku_dipinjam': {buku_200['Jumlah_buku_dipinjam'].isna().sum()}\")\n",
    "\n",
    "# Jika ada NaN di kolom Jumlah_buku_dipinjam, hapus baris tersebut\n",
    "buku_200_clean = buku_200.dropna(subset=['Jumlah_buku_dipinjam'])\n",
    "\n",
    "# Langkah 2: Hitung perubahan persen antar periode\n",
    "buku_200_clean['pct_change'] = buku_200_clean['Jumlah_buku_dipinjam'].pct_change()\n",
    "\n",
    "# Langkah 3: Periksa apakah ada nilai inf atau -inf di kolom pct_change\n",
    "print(f\"Jumlah inf di kolom 'pct_change': {np.isinf(buku_200_clean['pct_change']).sum()}\")\n",
    "\n",
    "# Ganti nilai inf dengan NaN\n",
    "buku_200_clean['pct_change'].replace([np.inf, -np.inf], np.nan, inplace=True)\n",
    "\n",
    "# Hapus nilai NaN dari pct_change\n",
    "df_clean = buku_200_clean['pct_change'].dropna()\n",
    "\n",
    "# Langkah 4: Hitung standar deviasi dari perubahan persen\n",
    "std_dev = np.std(df_clean)\n",
    "\n",
    "# Langkah 5: Tampilkan standar deviasi\n",
    "print(f'Standar deviasi dari perubahan persentase: {std_dev}')\n",
    "\n",
    "# Langkah 6: Buat threshold untuk menentukan apakah data volatil atau tidak\n",
    "threshold = 0.1  # Contoh threshold 10%\n",
    "if std_dev > threshold:\n",
    "    print(\"Data dianggap volatil\")\n",
    "else:\n",
    "    print(\"Data tidak dianggap volatil\")"
   ]
  },
  {
   "cell_type": "markdown",
   "metadata": {
    "id": "yfeqLsTIgsL_"
   },
   "source": [
    "Outlier handling"
   ]
  },
  {
   "cell_type": "code",
   "execution_count": null,
   "metadata": {
    "id": "H5cz0iIXgsL_"
   },
   "outputs": [],
   "source": [
    "# Menghitung Q1, Q3 dan IQR\n",
    "Q1 = buku_200['Jumlah_buku_dipinjam'].quantile(0.25)\n",
    "Q3 = buku_200['Jumlah_buku_dipinjam'].quantile(0.75)\n",
    "IQR = Q3 - Q1\n",
    "\n",
    "# Batas bawah dan atas untuk outlier\n",
    "lower_bound = Q1 - 1.5 * IQR\n",
    "upper_bound = Q3 + 1.5 * IQR\n",
    "buku_200\n",
    "outliers_000 = buku_200[(buku_200['Jumlah_buku_dipinjam'] < lower_bound) | (buku_200['Jumlah_buku_dipinjam'] > upper_bound)]\n",
    "\n",
    "print(outliers_000)\n",
    "# Menampilkan batas bawah dan atas\n",
    "print(f\"Batas bawah: {lower_bound}\")\n",
    "print(f\"Batas atas: {upper_bound}\")"
   ]
  },
  {
   "cell_type": "code",
   "execution_count": null,
   "metadata": {
    "id": "mv98FbRUk5vi"
   },
   "outputs": [],
   "source": [
    "from statsmodels.tsa.seasonal import seasonal_decompose\n",
    "result = seasonal_decompose(buku_200['Jumlah_buku_dipinjam'], model='additive', period=12)\n",
    "result.plot()\n",
    "plt.show()"
   ]
  },
  {
   "cell_type": "code",
   "execution_count": null,
   "metadata": {
    "id": "2NuSEfaaMXnp"
   },
   "outputs": [],
   "source": [
    "# # Fungsi untuk menghitung Modified Z-Score\n",
    "# def modified_z_score(series):\n",
    "#     median = np.median(series)\n",
    "#     mad = np.median(np.abs(series - median))  # Median Absolute Deviation (MAD)\n",
    "#     modified_z = 0.6745 * (series - median) / mad  # Modified Z-Score formula\n",
    "#     return modified_z\n",
    "\n",
    "# # Menghitung Modified Z-Score untuk data 'Jumlah_buku_dipinjam'\n",
    "# buku_200['modified_z'] = modified_z_score(buku_200['Jumlah_buku_dipinjam'])\n",
    "\n",
    "# # Ambang batas untuk outlier (umumnya 3.5)\n",
    "# threshold = 3.5\n",
    "\n",
    "# # Identifikasi outlier\n",
    "# outliers = buku_200[(buku_200['modified_z'] > threshold) | (buku_200['modified_z'] < -threshold)]\n",
    "# print(\"Outlier detected:\")\n",
    "# print(outliers)\n",
    "\n",
    "# # Ganti outlier dengan median atau nilai lain yang masuk akal\n",
    "# median_value = np.median(buku_200['Jumlah_buku_dipinjam'])\n",
    "\n",
    "# # Mengganti nilai outlier dengan median\n",
    "# buku_200.loc[(buku_200['modified_z'] > threshold) | (buku_200['modified_z'] < -threshold), 'Jumlah_buku_dipinjam'] = median_value\n",
    "\n",
    "# # Hapus kolom 'modified_z' setelah penggantian outlier (opsional)\n",
    "# buku_200 = buku_200.drop(columns=['modified_z'])\n",
    "\n",
    "# # Menampilkan data yang telah diatasi\n",
    "# print(buku_200)"
   ]
  },
  {
   "cell_type": "code",
   "execution_count": null,
   "metadata": {
    "id": "WbqFpOvRkcpS"
   },
   "outputs": [],
   "source": [
    "# Menambahkan beberapa outlier secara manual untuk contoh\n",
    "buku_200.loc[26, 'Jumlah_buku_dipinjam'] = 833\n",
    "buku_200.loc[32, 'Jumlah_buku_dipinjam'] = 909\n",
    "buku_200.loc[37, 'Jumlah_buku_dipinjam'] = 935\n",
    "\n",
    "# Menghitung Moving Average atau Median (misalnya window 3 bulan)\n",
    "window_size = 8\n",
    "# Menghitung Rolling Median\n",
    "buku_200['rolling_median'] = buku_200['Jumlah_buku_dipinjam'].rolling(window=window_size, center=True).median()\n",
    "\n",
    "# Menghitung batas toleransi outlier (misalnya 2 standar deviasi)\n",
    "buku_200['rolling_std'] = buku_200['Jumlah_buku_dipinjam'].rolling(window=window_size, center=True).std()\n",
    "\n",
    "# Batas atas dan bawah untuk deteksi outlier\n",
    "tolerance = 1.5  # multiplier untuk standar deviasi\n",
    "upper_bound = buku_200['rolling_median'] + tolerance * buku_200['rolling_std']\n",
    "lower_bound = buku_200['rolling_median'] - tolerance * buku_200['rolling_std']\n",
    "\n",
    "# Deteksi outlier\n",
    "outliers = (buku_200['Jumlah_buku_dipinjam'] > upper_bound) | (buku_200['Jumlah_buku_dipinjam'] < lower_bound)\n",
    "\n",
    "# Ganti outlier dengan rolling median\n",
    "buku_200.loc[outliers, 'Jumlah_buku_dipinjam'] = buku_200.loc[outliers, 'rolling_median']\n",
    "\n",
    "# Drop kolom rolling mean dan rolling std (opsional)\n",
    "buku_200.drop(columns=['rolling_median', 'rolling_std'], inplace=True)\n",
    "buku_200"
   ]
  },
  {
   "cell_type": "code",
   "execution_count": null,
   "metadata": {
    "id": "VWmSWyDhgsL_"
   },
   "outputs": [],
   "source": [
    "buku_200.plot(x='Bulan', y='Jumlah_buku_dipinjam', kind='line')\n",
    "plt.title('Jumlah Peminjaman Buku')\n",
    "plt.xlabel('Tanggal')\n",
    "plt.ylabel('Jumlah Peminjaman')\n",
    "plt.show()"
   ]
  },
  {
   "cell_type": "markdown",
   "metadata": {
    "id": "R0EtzUR8gsMA"
   },
   "source": [
    "CNN-GRU"
   ]
  },
  {
   "cell_type": "code",
   "execution_count": null,
   "metadata": {
    "id": "mLfm-pZ2gsMB"
   },
   "outputs": [],
   "source": [
    "# Set random seeds for reproducibility\n",
    "np.random.seed(42)\n",
    "tf.random.set_seed(42)\n",
    "random.seed(42)\n",
    "\n",
    "# Assume peminjaman_buku is your DataFrame\n",
    "data = buku_200['Jumlah_buku_dipinjam'].values.reshape(-1, 1)\n",
    "\n",
    "# Scale the data\n",
    "scaler = MinMaxScaler()\n",
    "data_scaled = scaler.fit_transform(data)\n",
    "\n",
    "# Create sequences\n",
    "def create_sequences(data, time_step=1):\n",
    "    X, y = [], []\n",
    "    for i in range(len(data) - time_step - 1):\n",
    "        X.append(data[i:(i + time_step), 0])\n",
    "        y.append(data[i + time_step, 0])\n",
    "    return np.array(X), np.array(y)\n",
    "\n",
    "# Set time step\n",
    "time_step = 12  # Example: use the past 12 months to predict the next month\n",
    "X, y = create_sequences(data_scaled, time_step)\n",
    "\n",
    "# Split into training and testing sets (e.g., 90% train, 10% test)\n",
    "train_size = int(len(X) * 0.8)\n",
    "X_train, X_test = X[:train_size], X[train_size:]\n",
    "y_train, y_test = y[:train_size], y[train_size:]\n",
    "\n",
    "# Reshape input for CNN and GRU (required format: [samples, time steps, features])\n",
    "X_train = X_train.reshape(X_train.shape[0], X_train.shape[1], 1)\n",
    "X_test = X_test.reshape(X_test.shape[0], X_test.shape[1], 1)\n",
    "\n",
    "# Build the hybrid CNN-GRU model\n",
    "model = Sequential()\n",
    "\n",
    "# Add CNN layers\n",
    "model.add(Conv1D(filters=64, kernel_size=2, activation='relu', input_shape=(X_train.shape[1], 1)))\n",
    "model.add(Dropout(0.2))\n",
    "\n",
    "# Add GRU layers\n",
    "model.add(GRU(50, return_sequences=True))\n",
    "model.add(Dropout(0.2))\n",
    "model.add(GRU(50))\n",
    "\n",
    "# Add Dense layer to output predictions\n",
    "model.add(Dense(1))\n",
    "\n",
    "# Compile the model\n",
    "model.compile(optimizer=Adam(learning_rate=0.001), loss='mean_squared_error')\n",
    "\n",
    "# Train the model\n",
    "model.fit(X_train, y_train, epochs=100, batch_size=32)\n",
    "\n",
    "# Make predictions\n",
    "train_pred = model.predict(X_train)\n",
    "test_pred = model.predict(X_test)\n",
    "\n",
    "# Inverse scaling to get actual values\n",
    "train_pred = scaler.inverse_transform(train_pred)\n",
    "test_pred = scaler.inverse_transform(test_pred)\n",
    "y_test_actual = scaler.inverse_transform(y_test.reshape(-1, 1))\n",
    "\n",
    "# Evaluate the model\n",
    "mae = mean_absolute_error(y_test_actual, test_pred)\n",
    "mse = mean_squared_error(y_test_actual, test_pred)\n",
    "rmse = np.sqrt(mse)\n",
    "\n",
    "# Print metrics\n",
    "print(f'MAE: {mae}, MSE: {mse}, RMSE: {rmse}')\n",
    "\n",
    "# Plot the results\n",
    "plt.figure(figsize=(10, 6))\n",
    "plt.plot(range(len(y_test_actual)), y_test_actual, label='Actual  Test Data')\n",
    "plt.plot(range(len(y_test_actual)), test_pred, label='Predicted Test Data', linestyle='--')\n",
    "# plt.plot(range(time_step, len(train_pred) + time_step), train_pred, label='Train Predictions')\n",
    "# plt.plot(test.index, test.iloc[:,0], label='Actual Test')\n",
    "# plt.plot(range(len(train_pred) + time_step, len(data) - 1), test_pred, label='Predictions', linestyle='--')\n",
    "plt.title('Hybrid CNN-GRU Forecasting')\n",
    "plt.xlabel('Time')\n",
    "plt.ylabel('Jumlah Peminjaman')\n",
    "plt.legend()\n",
    "plt.show()"
   ]
  }
 ],
 "metadata": {
  "colab": {
   "authorship_tag": "ABX9TyPTOD1XACoMgq1kwnGDXfiF",
   "collapsed_sections": [
    "8uM1HyFi6s09",
    "4PJ5S7nbYBi_",
    "uNHoNWVHFXBZ",
    "GFS_U0iBgsL9"
   ],
   "provenance": []
  },
  "kernelspec": {
   "display_name": "Python 3",
   "name": "python3"
  },
  "language_info": {
   "codemirror_mode": {
    "name": "ipython",
    "version": 3
   },
   "file_extension": ".py",
   "mimetype": "text/x-python",
   "name": "python",
   "nbconvert_exporter": "python",
   "pygments_lexer": "ipython3",
   "version": "3.10.0"
  }
 },
 "nbformat": 4,
 "nbformat_minor": 0
}
